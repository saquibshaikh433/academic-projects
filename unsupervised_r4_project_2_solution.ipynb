{
 "cells": [
  {
   "cell_type": "code",
   "execution_count": 1,
   "metadata": {},
   "outputs": [],
   "source": [
    "import pandas as pd\n",
    "import numpy as np\n",
    "import seaborn as sns\n",
    "import matplotlib.pyplot as plt \n",
    "from sklearn.model_selection import train_test_split\n",
    "from sklearn.preprocessing import StandardScaler \n",
    "from sklearn.decomposition import PCA\n",
    "from scipy.stats import zscore \n",
    "from sklearn.cluster import KMeans\n",
    "from sklearn.cluster import KMeans \n",
    "\n"
   ]
  },
  {
   "cell_type": "code",
   "execution_count": 2,
   "metadata": {},
   "outputs": [],
   "source": [
    "df_bank=pd.read_csv('Qualitative_Bankruptcy.data.txt')"
   ]
  },
  {
   "cell_type": "code",
   "execution_count": 3,
   "metadata": {},
   "outputs": [
    {
     "data": {
      "text/html": [
       "<div>\n",
       "<style scoped>\n",
       "    .dataframe tbody tr th:only-of-type {\n",
       "        vertical-align: middle;\n",
       "    }\n",
       "\n",
       "    .dataframe tbody tr th {\n",
       "        vertical-align: top;\n",
       "    }\n",
       "\n",
       "    .dataframe thead th {\n",
       "        text-align: right;\n",
       "    }\n",
       "</style>\n",
       "<table border=\"1\" class=\"dataframe\">\n",
       "  <thead>\n",
       "    <tr style=\"text-align: right;\">\n",
       "      <th></th>\n",
       "      <th>P</th>\n",
       "      <th>P.1</th>\n",
       "      <th>A</th>\n",
       "      <th>A.1</th>\n",
       "      <th>A.2</th>\n",
       "      <th>P.2</th>\n",
       "      <th>NB</th>\n",
       "    </tr>\n",
       "  </thead>\n",
       "  <tbody>\n",
       "    <tr>\n",
       "      <th>0</th>\n",
       "      <td>N</td>\n",
       "      <td>N</td>\n",
       "      <td>A</td>\n",
       "      <td>A</td>\n",
       "      <td>A</td>\n",
       "      <td>N</td>\n",
       "      <td>NB</td>\n",
       "    </tr>\n",
       "    <tr>\n",
       "      <th>1</th>\n",
       "      <td>A</td>\n",
       "      <td>A</td>\n",
       "      <td>A</td>\n",
       "      <td>A</td>\n",
       "      <td>A</td>\n",
       "      <td>A</td>\n",
       "      <td>NB</td>\n",
       "    </tr>\n",
       "    <tr>\n",
       "      <th>2</th>\n",
       "      <td>P</td>\n",
       "      <td>P</td>\n",
       "      <td>P</td>\n",
       "      <td>P</td>\n",
       "      <td>P</td>\n",
       "      <td>P</td>\n",
       "      <td>NB</td>\n",
       "    </tr>\n",
       "    <tr>\n",
       "      <th>3</th>\n",
       "      <td>N</td>\n",
       "      <td>N</td>\n",
       "      <td>P</td>\n",
       "      <td>P</td>\n",
       "      <td>P</td>\n",
       "      <td>N</td>\n",
       "      <td>NB</td>\n",
       "    </tr>\n",
       "    <tr>\n",
       "      <th>4</th>\n",
       "      <td>A</td>\n",
       "      <td>A</td>\n",
       "      <td>P</td>\n",
       "      <td>P</td>\n",
       "      <td>P</td>\n",
       "      <td>A</td>\n",
       "      <td>NB</td>\n",
       "    </tr>\n",
       "    <tr>\n",
       "      <th>5</th>\n",
       "      <td>P</td>\n",
       "      <td>P</td>\n",
       "      <td>A</td>\n",
       "      <td>P</td>\n",
       "      <td>P</td>\n",
       "      <td>P</td>\n",
       "      <td>NB</td>\n",
       "    </tr>\n",
       "    <tr>\n",
       "      <th>6</th>\n",
       "      <td>P</td>\n",
       "      <td>P</td>\n",
       "      <td>P</td>\n",
       "      <td>A</td>\n",
       "      <td>A</td>\n",
       "      <td>P</td>\n",
       "      <td>NB</td>\n",
       "    </tr>\n",
       "    <tr>\n",
       "      <th>7</th>\n",
       "      <td>P</td>\n",
       "      <td>P</td>\n",
       "      <td>A</td>\n",
       "      <td>P</td>\n",
       "      <td>A</td>\n",
       "      <td>P</td>\n",
       "      <td>NB</td>\n",
       "    </tr>\n",
       "    <tr>\n",
       "      <th>8</th>\n",
       "      <td>P</td>\n",
       "      <td>P</td>\n",
       "      <td>A</td>\n",
       "      <td>A</td>\n",
       "      <td>P</td>\n",
       "      <td>P</td>\n",
       "      <td>NB</td>\n",
       "    </tr>\n",
       "    <tr>\n",
       "      <th>9</th>\n",
       "      <td>P</td>\n",
       "      <td>P</td>\n",
       "      <td>P</td>\n",
       "      <td>P</td>\n",
       "      <td>A</td>\n",
       "      <td>P</td>\n",
       "      <td>NB</td>\n",
       "    </tr>\n",
       "  </tbody>\n",
       "</table>\n",
       "</div>"
      ],
      "text/plain": [
       "   P P.1  A A.1 A.2 P.2  NB\n",
       "0  N   N  A   A   A   N  NB\n",
       "1  A   A  A   A   A   A  NB\n",
       "2  P   P  P   P   P   P  NB\n",
       "3  N   N  P   P   P   N  NB\n",
       "4  A   A  P   P   P   A  NB\n",
       "5  P   P  A   P   P   P  NB\n",
       "6  P   P  P   A   A   P  NB\n",
       "7  P   P  A   P   A   P  NB\n",
       "8  P   P  A   A   P   P  NB\n",
       "9  P   P  P   P   A   P  NB"
      ]
     },
     "execution_count": 3,
     "metadata": {},
     "output_type": "execute_result"
    }
   ],
   "source": [
    "df_bank.head(10)"
   ]
  },
  {
   "cell_type": "code",
   "execution_count": 4,
   "metadata": {},
   "outputs": [
    {
     "data": {
      "text/plain": [
       "(249, 7)"
      ]
     },
     "execution_count": 4,
     "metadata": {},
     "output_type": "execute_result"
    }
   ],
   "source": [
    "df_bank.shape"
   ]
  },
  {
   "cell_type": "code",
   "execution_count": 5,
   "metadata": {},
   "outputs": [
    {
     "name": "stdout",
     "output_type": "stream",
     "text": [
      "<class 'pandas.core.frame.DataFrame'>\n",
      "RangeIndex: 249 entries, 0 to 248\n",
      "Data columns (total 7 columns):\n",
      "P      249 non-null object\n",
      "P.1    249 non-null object\n",
      "A      249 non-null object\n",
      "A.1    249 non-null object\n",
      "A.2    249 non-null object\n",
      "P.2    249 non-null object\n",
      "NB     249 non-null object\n",
      "dtypes: object(7)\n",
      "memory usage: 13.7+ KB\n"
     ]
    }
   ],
   "source": [
    "df_bank.info()"
   ]
  },
  {
   "cell_type": "code",
   "execution_count": 6,
   "metadata": {},
   "outputs": [
    {
     "data": {
      "text/plain": [
       "NB    142\n",
       "B     107\n",
       "Name: NB, dtype: int64"
      ]
     },
     "execution_count": 6,
     "metadata": {},
     "output_type": "execute_result"
    }
   ],
   "source": [
    "df_bank['NB'].value_counts()"
   ]
  },
  {
   "cell_type": "markdown",
   "metadata": {},
   "source": [
    "this column is target column having 2 unique value NB and B are 142 and 107 respectively "
   ]
  },
  {
   "cell_type": "code",
   "execution_count": 7,
   "metadata": {
    "scrolled": false
   },
   "outputs": [
    {
     "data": {
      "text/plain": [
       "<matplotlib.axes._subplots.AxesSubplot at 0x2d436301a90>"
      ]
     },
     "execution_count": 7,
     "metadata": {},
     "output_type": "execute_result"
    },
    {
     "data": {
      "image/png": "[encoded data removed]",
      "text/plain": [
       "<Figure size 432x288 with 1 Axes>"
      ]
     },
     "metadata": {
      "needs_background": "light"
     },
     "output_type": "display_data"
    }
   ],
   "source": [
    "sns.countplot(x='NB',data=df_bank)"
   ]
  },
  {
   "cell_type": "code",
   "execution_count": 8,
   "metadata": {},
   "outputs": [],
   "source": [
    "df_bank_new=pd.get_dummies(df_bank,columns=['P','P.1','A','A.1','A.2','P.2'],prefix='new')"
   ]
  },
  {
   "cell_type": "code",
   "execution_count": 9,
   "metadata": {},
   "outputs": [],
   "source": [
    "df_bank_new=pd.DataFrame(df_bank_new)"
   ]
  },
  {
   "cell_type": "code",
   "execution_count": 10,
   "metadata": {},
   "outputs": [
    {
     "data": {
      "text/html": [
       "<div>\n",
       "<style scoped>\n",
       "    .dataframe tbody tr th:only-of-type {\n",
       "        vertical-align: middle;\n",
       "    }\n",
       "\n",
       "    .dataframe tbody tr th {\n",
       "        vertical-align: top;\n",
       "    }\n",
       "\n",
       "    .dataframe thead th {\n",
       "        text-align: right;\n",
       "    }\n",
       "</style>\n",
       "<table border=\"1\" class=\"dataframe\">\n",
       "  <thead>\n",
       "    <tr style=\"text-align: right;\">\n",
       "      <th></th>\n",
       "      <th>NB</th>\n",
       "      <th>new_A</th>\n",
       "      <th>new_N</th>\n",
       "      <th>new_P</th>\n",
       "      <th>new_A</th>\n",
       "      <th>new_N</th>\n",
       "      <th>new_P</th>\n",
       "      <th>new_A</th>\n",
       "      <th>new_N</th>\n",
       "      <th>new_P</th>\n",
       "      <th>new_A</th>\n",
       "      <th>new_N</th>\n",
       "      <th>new_P</th>\n",
       "      <th>new_A</th>\n",
       "      <th>new_N</th>\n",
       "      <th>new_P</th>\n",
       "      <th>new_A</th>\n",
       "      <th>new_N</th>\n",
       "      <th>new_P</th>\n",
       "    </tr>\n",
       "  </thead>\n",
       "  <tbody>\n",
       "    <tr>\n",
       "      <th>0</th>\n",
       "      <td>NB</td>\n",
       "      <td>0</td>\n",
       "      <td>1</td>\n",
       "      <td>0</td>\n",
       "      <td>0</td>\n",
       "      <td>1</td>\n",
       "      <td>0</td>\n",
       "      <td>1</td>\n",
       "      <td>0</td>\n",
       "      <td>0</td>\n",
       "      <td>1</td>\n",
       "      <td>0</td>\n",
       "      <td>0</td>\n",
       "      <td>1</td>\n",
       "      <td>0</td>\n",
       "      <td>0</td>\n",
       "      <td>0</td>\n",
       "      <td>1</td>\n",
       "      <td>0</td>\n",
       "    </tr>\n",
       "    <tr>\n",
       "      <th>1</th>\n",
       "      <td>NB</td>\n",
       "      <td>1</td>\n",
       "      <td>0</td>\n",
       "      <td>0</td>\n",
       "      <td>1</td>\n",
       "      <td>0</td>\n",
       "      <td>0</td>\n",
       "      <td>1</td>\n",
       "      <td>0</td>\n",
       "      <td>0</td>\n",
       "      <td>1</td>\n",
       "      <td>0</td>\n",
       "      <td>0</td>\n",
       "      <td>1</td>\n",
       "      <td>0</td>\n",
       "      <td>0</td>\n",
       "      <td>1</td>\n",
       "      <td>0</td>\n",
       "      <td>0</td>\n",
       "    </tr>\n",
       "    <tr>\n",
       "      <th>2</th>\n",
       "      <td>NB</td>\n",
       "      <td>0</td>\n",
       "      <td>0</td>\n",
       "      <td>1</td>\n",
       "      <td>0</td>\n",
       "      <td>0</td>\n",
       "      <td>1</td>\n",
       "      <td>0</td>\n",
       "      <td>0</td>\n",
       "      <td>1</td>\n",
       "      <td>0</td>\n",
       "      <td>0</td>\n",
       "      <td>1</td>\n",
       "      <td>0</td>\n",
       "      <td>0</td>\n",
       "      <td>1</td>\n",
       "      <td>0</td>\n",
       "      <td>0</td>\n",
       "      <td>1</td>\n",
       "    </tr>\n",
       "    <tr>\n",
       "      <th>3</th>\n",
       "      <td>NB</td>\n",
       "      <td>0</td>\n",
       "      <td>1</td>\n",
       "      <td>0</td>\n",
       "      <td>0</td>\n",
       "      <td>1</td>\n",
       "      <td>0</td>\n",
       "      <td>0</td>\n",
       "      <td>0</td>\n",
       "      <td>1</td>\n",
       "      <td>0</td>\n",
       "      <td>0</td>\n",
       "      <td>1</td>\n",
       "      <td>0</td>\n",
       "      <td>0</td>\n",
       "      <td>1</td>\n",
       "      <td>0</td>\n",
       "      <td>1</td>\n",
       "      <td>0</td>\n",
       "    </tr>\n",
       "    <tr>\n",
       "      <th>4</th>\n",
       "      <td>NB</td>\n",
       "      <td>1</td>\n",
       "      <td>0</td>\n",
       "      <td>0</td>\n",
       "      <td>1</td>\n",
       "      <td>0</td>\n",
       "      <td>0</td>\n",
       "      <td>0</td>\n",
       "      <td>0</td>\n",
       "      <td>1</td>\n",
       "      <td>0</td>\n",
       "      <td>0</td>\n",
       "      <td>1</td>\n",
       "      <td>0</td>\n",
       "      <td>0</td>\n",
       "      <td>1</td>\n",
       "      <td>1</td>\n",
       "      <td>0</td>\n",
       "      <td>0</td>\n",
       "    </tr>\n",
       "  </tbody>\n",
       "</table>\n",
       "</div>"
      ],
      "text/plain": [
       "   NB  new_A  new_N  new_P  new_A  new_N  new_P  new_A  new_N  new_P  new_A  \\\n",
       "0  NB      0      1      0      0      1      0      1      0      0      1   \n",
       "1  NB      1      0      0      1      0      0      1      0      0      1   \n",
       "2  NB      0      0      1      0      0      1      0      0      1      0   \n",
       "3  NB      0      1      0      0      1      0      0      0      1      0   \n",
       "4  NB      1      0      0      1      0      0      0      0      1      0   \n",
       "\n",
       "   new_N  new_P  new_A  new_N  new_P  new_A  new_N  new_P  \n",
       "0      0      0      1      0      0      0      1      0  \n",
       "1      0      0      1      0      0      1      0      0  \n",
       "2      0      1      0      0      1      0      0      1  \n",
       "3      0      1      0      0      1      0      1      0  \n",
       "4      0      1      0      0      1      1      0      0  "
      ]
     },
     "execution_count": 10,
     "metadata": {},
     "output_type": "execute_result"
    }
   ],
   "source": [
    "df_bank_new.head()"
   ]
  },
  {
   "cell_type": "code",
   "execution_count": 11,
   "metadata": {},
   "outputs": [
    {
     "data": {
      "text/plain": [
       "(249, 19)"
      ]
     },
     "execution_count": 11,
     "metadata": {},
     "output_type": "execute_result"
    }
   ],
   "source": [
    "df_bank_new.shape"
   ]
  },
  {
   "cell_type": "code",
   "execution_count": 12,
   "metadata": {},
   "outputs": [],
   "source": [
    "X=df_bank_new.drop('NB',axis=1)"
   ]
  },
  {
   "cell_type": "code",
   "execution_count": 13,
   "metadata": {},
   "outputs": [],
   "source": [
    "y=df_bank.pop(\"NB\")"
   ]
  },
  {
   "cell_type": "code",
   "execution_count": 14,
   "metadata": {},
   "outputs": [
    {
     "data": {
      "text/plain": [
       "(249, 18)"
      ]
     },
     "execution_count": 14,
     "metadata": {},
     "output_type": "execute_result"
    }
   ],
   "source": [
    "X.shape"
   ]
  },
  {
   "cell_type": "code",
   "execution_count": 15,
   "metadata": {},
   "outputs": [
    {
     "data": {
      "text/plain": [
       "(249,)"
      ]
     },
     "execution_count": 15,
     "metadata": {},
     "output_type": "execute_result"
    }
   ],
   "source": [
    "y.shape"
   ]
  },
  {
   "cell_type": "code",
   "execution_count": 16,
   "metadata": {},
   "outputs": [],
   "source": [
    "from sklearn.model_selection import train_test_split"
   ]
  },
  {
   "cell_type": "code",
   "execution_count": 17,
   "metadata": {},
   "outputs": [],
   "source": [
    "X_train,X_test,y_train,y_test=train_test_split(X,y, test_size=.20, random_state=0)"
   ]
  },
  {
   "cell_type": "code",
   "execution_count": 18,
   "metadata": {},
   "outputs": [],
   "source": [
    "sc=StandardScaler()\n",
    "X_train_std= sc.fit_transform(X_train)"
   ]
  },
  {
   "cell_type": "code",
   "execution_count": 19,
   "metadata": {},
   "outputs": [
    {
     "name": "stdout",
     "output_type": "stream",
     "text": [
      "covariance_matrix \n",
      "%s [[ 1.00505051e+00 -5.25827429e-01 -4.54840375e-01  2.09385713e-01\n",
      "  -1.99692858e-01  1.72885579e-02  2.35338233e-02  5.11091794e-02\n",
      "  -8.61828109e-02 -1.18857693e-04 -8.25626240e-02  8.67320485e-02\n",
      "   1.59777815e-02 -7.86025439e-02  6.64444189e-02  2.40237451e-01\n",
      "  -1.94440292e-01 -1.08457536e-02]\n",
      " [-5.25827429e-01  1.00505051e+00 -5.25827429e-01 -2.82329391e-01\n",
      "   3.39998758e-01 -1.07209329e-01 -2.23773254e-02  1.11343912e-01\n",
      "  -1.07209329e-01 -2.23773254e-02  5.05545097e-02 -3.07580775e-02\n",
      "  -8.11840221e-02  2.56107705e-01 -1.91691731e-01 -1.75091085e-02\n",
      "   1.42223719e-01 -1.41501374e-01]\n",
      " [-4.54840375e-01 -5.25827429e-01  1.00505051e+00  8.60353373e-02\n",
      "  -1.56071696e-01  9.48920845e-02 -1.18857693e-04 -1.67616126e-01\n",
      "   1.98363453e-01  2.35338233e-02  2.96638936e-02 -5.45477140e-02\n",
      "   6.89707567e-02 -1.89380917e-01  1.34136088e-01 -2.21916443e-01\n",
      "   4.56216365e-02  1.58908569e-01]\n",
      " [ 2.09385713e-01 -2.82329391e-01  8.60353373e-02  1.00505051e+00\n",
      "  -6.08599787e-01 -3.32034028e-01  4.34604771e-02 -1.03180049e-01\n",
      "   7.44965599e-02 -6.10190080e-03  1.78439550e-02 -1.26449631e-02\n",
      "  -1.23597794e-01 -1.12331085e-01  2.19654229e-01  1.74378329e-01\n",
      "  -1.50174046e-01  2.17050311e-03]\n",
      " [-1.99692858e-01  3.39998758e-01 -1.56071696e-01 -6.08599787e-01\n",
      "   1.00505051e+00 -5.53864448e-01 -1.23856371e-01  2.78955577e-01\n",
      "  -1.94454583e-01 -8.00387392e-02  2.66305890e-01 -1.99692858e-01\n",
      "  -6.40090114e-02  3.44648885e-01 -2.96490171e-01  3.28648958e-02\n",
      "   1.77057141e-01 -2.27787254e-01]\n",
      " [ 1.72885579e-02 -1.07209329e-01  9.48920845e-02 -3.32034028e-01\n",
      "  -5.53864448e-01  1.00505051e+00  1.01325911e-01 -2.22658034e-01\n",
      "   1.52514058e-01  1.01325911e-01 -3.34555110e-01  2.50099138e-01\n",
      "   2.05514776e-01 -2.90976449e-01  1.21325292e-01 -2.21823153e-01\n",
      "  -5.25285624e-02  2.67884948e-01]\n",
      " [ 2.35338233e-02 -2.23773254e-02 -1.18857693e-04  4.34604771e-02\n",
      "  -1.23856371e-01  1.01325911e-01  1.00505051e+00 -6.19605530e-01\n",
      "  -3.66392404e-01  1.25959644e-01 -3.89973359e-01  2.83713314e-01\n",
      "   3.41190835e-01 -4.70384320e-01  1.88499654e-01 -6.20795008e-02\n",
      "  -7.51300316e-02  1.42119481e-01]\n",
      " [ 5.11091794e-02  1.11343912e-01 -1.67616126e-01 -1.03180049e-01\n",
      "   2.78955577e-01 -2.22658034e-01 -6.19605530e-01  1.00505051e+00\n",
      "  -5.11002602e-01 -2.90039866e-01  6.43505916e-01 -3.86341432e-01\n",
      "  -3.66221607e-01  8.04499907e-01 -5.07455557e-01  1.01870934e-01\n",
      "   9.36188638e-02 -2.00247860e-01]\n",
      " [-8.61828109e-02 -1.07209329e-01  1.98363453e-01  7.44965599e-02\n",
      "  -1.94454583e-01  1.52514058e-01 -3.66392404e-01 -5.11002602e-01\n",
      "   1.00505051e+00  2.05263314e-01 -3.34555110e-01  1.46627769e-01\n",
      "   5.99722834e-02 -4.37015071e-01  3.93995789e-01 -5.25855525e-02\n",
      "  -2.85533699e-02  8.13963259e-02]\n",
      " [-1.18857693e-04 -2.23773254e-02  2.35338233e-02 -6.10190080e-03\n",
      "  -8.00387392e-02  1.01325911e-01  1.25959644e-01 -2.90039866e-01\n",
      "   2.05263314e-01  1.00505051e+00 -5.25251741e-01 -4.49519796e-01\n",
      "   1.28264214e-01 -2.70085148e-01  1.65834137e-01  1.52930712e-02\n",
      "  -9.36371361e-03 -4.03957181e-03]\n",
      " [-8.25626240e-02  5.05545097e-02  2.96638936e-02  1.78439550e-02\n",
      "   2.66305890e-01 -3.34555110e-01 -3.89973359e-01  6.43505916e-01\n",
      "  -3.34555110e-01 -5.25251741e-01  1.00505051e+00 -5.31468694e-01\n",
      "  -3.39004837e-01  7.53612667e-01 -4.78807996e-01 -4.77188025e-02\n",
      "   2.15034725e-01 -1.93875459e-01]\n",
      " [ 8.67320485e-02 -3.07580775e-02 -5.45477140e-02 -1.26449631e-02\n",
      "  -1.99692858e-01  2.50099138e-01  2.83713314e-01 -3.86341432e-01\n",
      "   1.46627769e-01 -4.49519796e-01 -5.31468694e-01  1.00505051e+00\n",
      "   2.27949682e-01 -5.21716035e-01  3.37211095e-01  3.48357206e-02\n",
      "  -2.16264104e-01  2.07409804e-01]\n",
      " [ 1.59777815e-02 -8.11840221e-02  6.89707567e-02 -1.23597794e-01\n",
      "  -6.40090114e-02  2.05514776e-01  3.41190835e-01 -3.66221607e-01\n",
      "   5.99722834e-02  1.28264214e-01 -3.39004837e-01  2.27949682e-01\n",
      "   1.00505051e+00 -4.41747205e-01 -4.05994984e-01 -9.11759464e-02\n",
      "  -1.65611178e-01  2.70144141e-01]\n",
      " [-7.86025439e-02  2.56107705e-01 -1.89380917e-01 -1.12331085e-01\n",
      "   3.44648885e-01 -2.90976449e-01 -4.70384320e-01  8.04499907e-01\n",
      "  -4.37015071e-01 -2.70085148e-01  7.53612667e-01 -5.21716035e-01\n",
      "  -4.41747205e-01  1.00505051e+00 -6.47385153e-01 -3.30206950e-02\n",
      "   2.55496197e-01 -2.52718821e-01]\n",
      " [ 6.64444189e-02 -1.91691731e-01  1.34136088e-01  2.19654229e-01\n",
      "  -2.96490171e-01  1.21325292e-01  1.88499654e-01 -5.07455557e-01\n",
      "   3.93995789e-01  1.65834137e-01 -4.78807996e-01  3.37211095e-01\n",
      "  -4.05994984e-01 -6.47385153e-01  1.00505051e+00  1.11272746e-01\n",
      "  -1.19172444e-01  2.73256716e-02]\n",
      " [ 2.40237451e-01 -1.75091085e-02 -2.21916443e-01  1.74378329e-01\n",
      "   3.28648958e-02 -2.21823153e-01 -6.20795008e-02  1.01870934e-01\n",
      "  -5.25855525e-02  1.52930712e-02 -4.77188025e-02  3.48357206e-02\n",
      "  -9.11759464e-02 -3.30206950e-02  1.11272746e-01  1.00505051e+00\n",
      "  -5.39550408e-01 -3.49736545e-01]\n",
      " [-1.94440292e-01  1.42223719e-01  4.56216365e-02 -1.50174046e-01\n",
      "   1.77057141e-01 -5.25285624e-02 -7.51300316e-02  9.36188638e-02\n",
      "  -2.85533699e-02 -9.36371361e-03  2.15034725e-01 -2.16264104e-01\n",
      "  -1.65611178e-01  2.55496197e-01 -1.19172444e-01 -5.39550408e-01\n",
      "   1.00505051e+00 -6.07198773e-01]\n",
      " [-1.08457536e-02 -1.41501374e-01  1.58908569e-01  2.17050311e-03\n",
      "  -2.27787254e-01  2.67884948e-01  1.42119481e-01 -2.00247860e-01\n",
      "   8.13963259e-02 -4.03957181e-03 -1.93875459e-01  2.07409804e-01\n",
      "   2.70144141e-01 -2.52718821e-01  2.73256716e-02 -3.49736545e-01\n",
      "  -6.07198773e-01  1.00505051e+00]]\n"
     ]
    }
   ],
   "source": [
    "train_cov_matrix=np.cov(X_train_std.T)\n",
    "print('covariance_matrix \\n%s',train_cov_matrix)"
   ]
  },
  {
   "cell_type": "code",
   "execution_count": 20,
   "metadata": {},
   "outputs": [
    {
     "name": "stdout",
     "output_type": "stream",
     "text": [
      "eigen_vactors \n",
      "%s [[-5.89119510e-02  4.23040652e-01  2.38214727e-01 -4.81408156e-02\n",
      "  -3.18423897e-02  9.25742128e-02 -1.80255456e-01 -9.91080765e-02\n",
      "   4.12593764e-01 -3.35030300e-01 -3.11957267e-01  6.07813452e-02\n",
      "   4.35670992e-02 -5.55912604e-01 -2.13171810e-02  2.36313191e-02\n",
      "   7.25655006e-02 -2.34870243e-02]\n",
      " [ 1.53136977e-01 -3.31431022e-01  2.28226055e-01  3.08613447e-01\n",
      "   1.23219592e-01  4.51120545e-02  1.91914941e-01  1.41997237e-01\n",
      "  -6.63737664e-03  4.49995824e-02  4.68174183e-01 -2.64822128e-01\n",
      "   4.55873126e-02 -5.81690360e-01 -2.23056621e-02  2.47271071e-02\n",
      "   7.59303745e-02 -2.45761214e-02]\n",
      " [-1.01326012e-01 -7.62411209e-02 -4.77023660e-01 -2.74783086e-01\n",
      "  -9.70909139e-02 -1.39778120e-01 -2.05586124e-02 -4.94735947e-02\n",
      "  -4.05648611e-01  2.87944080e-01 -1.77926228e-01  2.16320627e-01\n",
      "   4.35670992e-02 -5.55912604e-01 -2.13171810e-02  2.36313191e-02\n",
      "   7.25655006e-02 -2.34870243e-02]\n",
      " [-8.80777616e-02  4.60083694e-01 -1.64130045e-01 -1.81298236e-02\n",
      "   8.95636039e-03 -1.64920419e-01 -7.63804638e-02 -2.51914819e-01\n",
      "  -1.91865849e-01 -6.08804372e-02  3.16244719e-01 -4.50122455e-01\n",
      "  -4.97228668e-02 -3.56315755e-02 -2.69311160e-01 -3.74547608e-01\n",
      "  -1.59375969e-01 -2.11606769e-01]\n",
      " [ 2.53455548e-01 -2.62646959e-01  1.79295629e-01  2.33534153e-01\n",
      "  -7.42228642e-03 -2.02480990e-02  8.75427035e-03  9.93160894e-02\n",
      "  -2.92311918e-01 -2.83038904e-01 -3.80757124e-01  2.40735386e-01\n",
      "  -5.62418237e-02 -4.03030822e-02 -3.04619419e-01 -4.23652977e-01\n",
      "  -1.80271085e-01 -2.39349647e-01]\n",
      " [-2.08249947e-01 -1.70916180e-01 -4.05498780e-02 -2.57966732e-01\n",
      "  -5.88204914e-04  1.96942242e-01  6.97060810e-02  1.46354514e-01\n",
      "   5.47869749e-01  3.99526807e-01  1.19987708e-01  1.86458928e-01\n",
      "  -4.74205327e-02 -3.39817151e-02 -2.56841158e-01 -3.57204809e-01\n",
      "  -1.51996331e-01 -2.01808672e-01]\n",
      " [-2.30246713e-01 -1.49772551e-01  2.78768827e-01  1.50573578e-02\n",
      "  -1.93915785e-01  2.58072724e-01 -1.54087013e-01 -5.24657171e-01\n",
      "  -1.72680753e-01  2.69701310e-02  1.87061937e-01  2.12456025e-01\n",
      "  -4.50677397e-01 -5.28037607e-02 -1.65941836e-01  2.97638727e-01\n",
      "  -1.16475052e-01 -2.05999135e-02]\n",
      " [ 3.92456162e-01  1.50770329e-01  3.48616316e-02 -1.64169878e-01\n",
      "   3.57384908e-01 -4.65833479e-01  2.64790474e-02  1.36742290e-01\n",
      "   1.26681803e-01  1.04786639e-01  2.69928521e-02  1.18772675e-01\n",
      "  -4.87356900e-01 -5.71013263e-02 -1.79447426e-01  3.21862796e-01\n",
      "  -1.25954665e-01 -2.22764888e-02]\n",
      " [-2.12333382e-01 -1.45112499e-02 -3.46106138e-01  1.77690177e-01\n",
      "  -2.10589347e-01  2.68682033e-01  1.37202032e-01  4.12073154e-01\n",
      "   3.90310093e-02 -1.53423311e-01 -2.36504440e-01 -3.72821419e-01\n",
      "  -4.12084185e-01 -4.82819748e-02 -1.51731609e-01  2.72150796e-01\n",
      "  -1.06500853e-01 -1.88358650e-02]\n",
      " [-1.40698264e-01 -9.45014664e-02 -1.31298648e-01  2.83494501e-01\n",
      "  -6.47038267e-02 -2.24838699e-01 -6.35499977e-01  2.06310186e-01\n",
      "   8.86134984e-02 -2.76424647e-02  1.67034760e-01  1.24182131e-01\n",
      "  -2.79040771e-01 -5.59542031e-02  3.66182396e-03 -2.93136621e-01\n",
      "   2.73479283e-01  2.21036284e-01]\n",
      " [ 3.80748332e-01  1.06126055e-01 -1.18660917e-01 -2.21310913e-01\n",
      "   2.69919316e-01  5.70239935e-01  7.98085314e-02 -8.68522190e-02\n",
      "  -1.07532574e-01 -1.21034505e-02  3.10937517e-03 -3.26835391e-02\n",
      "  -2.94050928e-01 -5.89640908e-02  3.85880074e-03 -3.08905022e-01\n",
      "   2.88190277e-01  2.32926265e-01]\n",
      " [-2.59363107e-01 -1.72556004e-02  2.55193183e-01 -5.00533945e-02\n",
      "  -2.18749737e-01 -3.74389328e-01  5.48926027e-01 -1.14271337e-01\n",
      "   2.45927013e-02  4.02158520e-02 -1.69547753e-01 -8.93381010e-02\n",
      "  -2.80297569e-01 -5.62062205e-02  3.67831679e-03 -2.94456907e-01\n",
      "   2.74711032e-01  2.22031830e-01]\n",
      " [-1.85287524e-01 -2.53688464e-01  2.64347037e-01 -2.54354909e-01\n",
      "   3.21099886e-01 -2.11870828e-02 -2.98657497e-01  2.73954547e-04\n",
      "  -9.55699451e-02  1.45559815e-01 -3.02124430e-01 -4.35729950e-01\n",
      "  -1.68521296e-01 -7.14911878e-02  4.03280469e-01 -6.20206199e-02\n",
      "  -2.52675207e-01  6.61953037e-03]\n",
      " [ 4.32632914e-01  3.94393961e-02 -1.90156479e-02 -1.12395847e-01\n",
      "  -6.28191965e-01 -2.31013968e-02 -1.59066697e-02  3.41862284e-02\n",
      "   8.58452008e-02  7.21663825e-03  1.37034731e-01  5.35799860e-03\n",
      "  -2.01538546e-01 -8.54979778e-02  4.82292512e-01 -7.41719049e-02\n",
      "  -3.02180169e-01  7.91645066e-03]\n",
      " [-2.82816889e-01  1.75870064e-01 -2.05746749e-01  3.31070381e-01\n",
      "   3.66323940e-01  4.15695412e-02  2.70530620e-01 -3.50493991e-02\n",
      "  -6.04139364e-03 -1.31305490e-01  1.17723669e-01  3.65602369e-01\n",
      "  -1.97892407e-01 -8.39511892e-02  4.73567106e-01 -7.28300222e-02\n",
      "  -2.96713269e-01  7.77323001e-03]\n",
      " [ 8.46430570e-03  3.90710255e-01  2.81812181e-01  2.79455438e-01\n",
      "  -6.71794059e-02  1.35608845e-01 -3.73577772e-02  2.14835377e-01\n",
      "  -1.98856391e-01  5.27198795e-01 -1.18981601e-01  4.86329198e-02\n",
      "   8.39907580e-02 -2.32491467e-02 -1.36174160e-01  2.35846668e-02\n",
      "  -3.31605263e-01  4.47417810e-01]\n",
      " [ 1.62187981e-01 -2.76191091e-01 -3.26262926e-01  1.81591110e-01\n",
      "   5.68717877e-02 -1.02317222e-01  1.16442388e-02 -4.54175859e-01\n",
      "   3.08568213e-01 -4.22498183e-02 -1.56098314e-01 -1.47044029e-01\n",
      "   9.88132098e-02 -2.73520904e-02 -1.60205792e-01  2.77468221e-02\n",
      "  -3.90126023e-01  5.26376842e-01]\n",
      " [-1.88217930e-01 -6.21280379e-02  9.63676045e-02 -4.65733775e-01\n",
      "   2.56006700e-04 -1.43896508e-02  2.23458902e-02  3.01765015e-01\n",
      "  -1.55058199e-01 -4.50998983e-01  2.85836295e-01  1.17460807e-01\n",
      "   8.89247822e-02 -2.46149142e-02 -1.44173691e-01  2.49701444e-02\n",
      "  -3.51085363e-01  4.73701301e-01]]\n",
      "eigen_values \n",
      "%s [ 4.59152878e+00  2.19344213e+00  1.92166091e+00  1.79424454e+00\n",
      "  2.21025494e-01  4.56562549e-01  1.43848201e+00  1.35025873e+00\n",
      "  1.27395516e+00  8.48209058e-01  1.06547772e+00  9.36062005e-01\n",
      " -1.60971384e-15 -1.21642419e-15  2.70293488e-15  1.71750660e-15\n",
      "  1.02593089e-15  5.09007517e-16]\n"
     ]
    }
   ],
   "source": [
    "eig_values, eig_vectors=np.linalg.eig(train_cov_matrix)\n",
    "print('eigen_vactors \\n%s',eig_vectors)\n",
    "print('eigen_values \\n%s',eig_values)"
   ]
  },
  {
   "cell_type": "code",
   "execution_count": 21,
   "metadata": {},
   "outputs": [
    {
     "data": {
      "text/plain": [
       "[(4.591528782567251,\n",
       "  array([-0.05891195,  0.15313698, -0.10132601, -0.08807776,  0.25345555,\n",
       "         -0.20824995, -0.23024671,  0.39245616, -0.21233338, -0.14069826,\n",
       "          0.38074833, -0.25936311, -0.18528752,  0.43263291, -0.28281689,\n",
       "          0.00846431,  0.16218798, -0.18821793])),\n",
       " (2.1934421306416865,\n",
       "  array([ 0.42304065, -0.33143102, -0.07624112,  0.46008369, -0.26264696,\n",
       "         -0.17091618, -0.14977255,  0.15077033, -0.01451125, -0.09450147,\n",
       "          0.10612605, -0.0172556 , -0.25368846,  0.0394394 ,  0.17587006,\n",
       "          0.39071025, -0.27619109, -0.06212804])),\n",
       " (1.921660914577861,\n",
       "  array([ 0.23821473,  0.22822605, -0.47702366, -0.16413004,  0.17929563,\n",
       "         -0.04054988,  0.27876883,  0.03486163, -0.34610614, -0.13129865,\n",
       "         -0.11866092,  0.25519318,  0.26434704, -0.01901565, -0.20574675,\n",
       "          0.28181218, -0.32626293,  0.0963676 ])),\n",
       " (1.7942445409777892,\n",
       "  array([-0.04814082,  0.30861345, -0.27478309, -0.01812982,  0.23353415,\n",
       "         -0.25796673,  0.01505736, -0.16416988,  0.17769018,  0.2834945 ,\n",
       "         -0.22131091, -0.05005339, -0.25435491, -0.11239585,  0.33107038,\n",
       "          0.27945544,  0.18159111, -0.46573378])),\n",
       " (1.4384820055968932,\n",
       "  array([-0.18025546,  0.19191494, -0.02055861, -0.07638046,  0.00875427,\n",
       "          0.06970608, -0.15408701,  0.02647905,  0.13720203, -0.63549998,\n",
       "          0.07980853,  0.54892603, -0.2986575 , -0.01590667,  0.27053062,\n",
       "         -0.03735778,  0.01164424,  0.02234589])),\n",
       " (1.3502587293554957,\n",
       "  array([-9.91080765e-02,  1.41997237e-01, -4.94735947e-02, -2.51914819e-01,\n",
       "          9.93160894e-02,  1.46354514e-01, -5.24657171e-01,  1.36742290e-01,\n",
       "          4.12073154e-01,  2.06310186e-01, -8.68522190e-02, -1.14271337e-01,\n",
       "          2.73954547e-04,  3.41862284e-02, -3.50493991e-02,  2.14835377e-01,\n",
       "         -4.54175859e-01,  3.01765015e-01])),\n",
       " (1.273955160440058,\n",
       "  array([ 0.41259376, -0.00663738, -0.40564861, -0.19186585, -0.29231192,\n",
       "          0.54786975, -0.17268075,  0.1266818 ,  0.03903101,  0.0886135 ,\n",
       "         -0.10753257,  0.0245927 , -0.09556995,  0.0858452 , -0.00604139,\n",
       "         -0.19885639,  0.30856821, -0.1550582 ])),\n",
       " (1.0654777218055107,\n",
       "  array([-0.31195727,  0.46817418, -0.17792623,  0.31624472, -0.38075712,\n",
       "          0.11998771,  0.18706194,  0.02699285, -0.23650444,  0.16703476,\n",
       "          0.00310938, -0.16954775, -0.30212443,  0.13703473,  0.11772367,\n",
       "         -0.1189816 , -0.15609831,  0.28583629])),\n",
       " (0.936062004566692,\n",
       "  array([ 0.06078135, -0.26482213,  0.21632063, -0.45012246,  0.24073539,\n",
       "          0.18645893,  0.21245602,  0.11877267, -0.37282142,  0.12418213,\n",
       "         -0.03268354, -0.0893381 , -0.43572995,  0.005358  ,  0.36560237,\n",
       "          0.04863292, -0.14704403,  0.11746081])),\n",
       " (0.8482090576202266,\n",
       "  array([-0.3350303 ,  0.04499958,  0.28794408, -0.06088044, -0.2830389 ,\n",
       "          0.39952681,  0.02697013,  0.10478664, -0.15342331, -0.02764246,\n",
       "         -0.01210345,  0.04021585,  0.14555981,  0.00721664, -0.13130549,\n",
       "          0.5271988 , -0.04224982, -0.45099898])),\n",
       " (0.4565625491103726,\n",
       "  array([ 0.09257421,  0.04511205, -0.13977812, -0.16492042, -0.0202481 ,\n",
       "          0.19694224,  0.25807272, -0.46583348,  0.26868203, -0.2248387 ,\n",
       "          0.57023994, -0.37438933, -0.02118708, -0.0231014 ,  0.04156954,\n",
       "          0.13560884, -0.10231722, -0.01438965])),\n",
       " (0.22102549364926974,\n",
       "  array([-3.18423897e-02,  1.23219592e-01, -9.70909139e-02,  8.95636039e-03,\n",
       "         -7.42228642e-03, -5.88204914e-04, -1.93915785e-01,  3.57384908e-01,\n",
       "         -2.10589347e-01, -6.47038267e-02,  2.69919316e-01, -2.18749737e-01,\n",
       "          3.21099886e-01, -6.28191965e-01,  3.66323940e-01, -6.71794059e-02,\n",
       "          5.68717877e-02,  2.56006700e-04])),\n",
       " (2.7029348834731122e-15,\n",
       "  array([-0.02131718, -0.02230566, -0.02131718, -0.26931116, -0.30461942,\n",
       "         -0.25684116, -0.16594184, -0.17944743, -0.15173161,  0.00366182,\n",
       "          0.0038588 ,  0.00367832,  0.40328047,  0.48229251,  0.47356711,\n",
       "         -0.13617416, -0.16020579, -0.14417369])),\n",
       " (1.7175066017323598e-15,\n",
       "  array([ 0.02363132,  0.02472711,  0.02363132, -0.37454761, -0.42365298,\n",
       "         -0.35720481,  0.29763873,  0.3218628 ,  0.2721508 , -0.29313662,\n",
       "         -0.30890502, -0.29445691, -0.06202062, -0.0741719 , -0.07283002,\n",
       "          0.02358467,  0.02774682,  0.02497014])),\n",
       " (1.0259308948517505e-15,\n",
       "  array([ 0.0725655 ,  0.07593037,  0.0725655 , -0.15937597, -0.18027108,\n",
       "         -0.15199633, -0.11647505, -0.12595466, -0.10650085,  0.27347928,\n",
       "          0.28819028,  0.27471103, -0.25267521, -0.30218017, -0.29671327,\n",
       "         -0.33160526, -0.39012602, -0.35108536])),\n",
       " (5.09007517078571e-16,\n",
       "  array([-0.02348702, -0.02457612, -0.02348702, -0.21160677, -0.23934965,\n",
       "         -0.20180867, -0.02059991, -0.02227649, -0.01883586,  0.22103628,\n",
       "          0.23292626,  0.22203183,  0.00661953,  0.00791645,  0.00777323,\n",
       "          0.44741781,  0.52637684,  0.4737013 ])),\n",
       " (-1.2164241854683765e-15,\n",
       "  array([-0.5559126 , -0.58169036, -0.5559126 , -0.03563158, -0.04030308,\n",
       "         -0.03398172, -0.05280376, -0.05710133, -0.04828197, -0.0559542 ,\n",
       "         -0.05896409, -0.05620622, -0.07149119, -0.08549798, -0.08395119,\n",
       "         -0.02324915, -0.02735209, -0.02461491])),\n",
       " (-1.6097138425917216e-15,\n",
       "  array([ 0.0435671 ,  0.04558731,  0.0435671 , -0.04972287, -0.05624182,\n",
       "         -0.04742053, -0.4506774 , -0.4873569 , -0.41208419, -0.27904077,\n",
       "         -0.29405093, -0.28029757, -0.1685213 , -0.20153855, -0.19789241,\n",
       "          0.08399076,  0.09881321,  0.08892478]))]"
      ]
     },
     "execution_count": 21,
     "metadata": {},
     "output_type": "execute_result"
    }
   ],
   "source": [
    "train_eig_pairs= [(eig_values[index], eig_vectors[:,index]) for index in range(len(eig_values))]\n",
    "train_eig_pairs.sort(reverse=True)\n",
    "train_eig_pairs"
   ]
  },
  {
   "cell_type": "code",
   "execution_count": 22,
   "metadata": {},
   "outputs": [
    {
     "name": "stdout",
     "output_type": "stream",
     "text": [
      "Eigenvalues in descending order: \n",
      "%s [4.591528782567251, 2.1934421306416865, 1.921660914577861, 1.7942445409777892, 1.4384820055968932, 1.3502587293554957, 1.273955160440058, 1.0654777218055107, 0.936062004566692, 0.8482090576202266, 0.4565625491103726, 0.22102549364926974, 2.7029348834731122e-15, 1.7175066017323598e-15, 1.0259308948517505e-15, 5.09007517078571e-16, -1.2164241854683765e-15, -1.6097138425917216e-15]\n"
     ]
    }
   ],
   "source": [
    "train_eig_values_sorted = [train_eig_pairs[index][0] for index in range(len(eig_values))]\n",
    "train_eig_vectors_sorted = [train_eig_pairs[index][1] for index in range(len(eig_values))]\n",
    "print('Eigenvalues in descending order: \\n%s' ,train_eig_values_sorted)"
   ]
  },
  {
   "cell_type": "code",
   "execution_count": 23,
   "metadata": {},
   "outputs": [],
   "source": [
    "tot = sum(eig_values)\n",
    "var_explained = [(i / tot) for i in train_eig_values_sorted] \n",
    "cum_var_exp = np.cumsum(var_explained)"
   ]
  },
  {
   "cell_type": "code",
   "execution_count": 24,
   "metadata": {},
   "outputs": [
    {
     "data": {
      "image/png": "[encoded data removed]",
      "text/plain": [
       "<Figure size 432x288 with 1 Axes>"
      ]
     },
     "metadata": {
      "needs_background": "light"
     },
     "output_type": "display_data"
    }
   ],
   "source": [
    "plt.bar(range(1, eig_values.size + 1), var_explained, alpha=0.5, align='center', label='individual explained variance')\n",
    "plt.step(range(1, eig_values.size + 1),cum_var_exp, where= 'mid', label='cumulative explained variance')\n",
    "plt.ylabel('Explained variance ratio')\n",
    "plt.xlabel('Principal components')\n",
    "plt.tight_layout()\n",
    "plt.legend(loc = 'best')\n",
    "plt.show()"
   ]
  },
  {
   "cell_type": "code",
   "execution_count": 25,
   "metadata": {},
   "outputs": [],
   "source": [
    "reduce_dimension=np.array(train_eig_vectors_sorted[0:10])"
   ]
  },
  {
   "cell_type": "code",
   "execution_count": 78,
   "metadata": {},
   "outputs": [],
   "source": [
    "Proj_train_data = np.dot(X_train_std,reduce_dimension.T)"
   ]
  },
  {
   "cell_type": "code",
   "execution_count": 79,
   "metadata": {},
   "outputs": [
    {
     "name": "stdout",
     "output_type": "stream",
     "text": [
      "(199, 18)\n",
      "(199, 10)\n"
     ]
    }
   ],
   "source": [
    "print(X_train_std.shape)\n",
    "print(Proj_train_data.shape)\n"
   ]
  },
  {
   "cell_type": "code",
   "execution_count": 28,
   "metadata": {},
   "outputs": [
    {
     "data": {
      "text/html": [
       "<div>\n",
       "<style scoped>\n",
       "    .dataframe tbody tr th:only-of-type {\n",
       "        vertical-align: middle;\n",
       "    }\n",
       "\n",
       "    .dataframe tbody tr th {\n",
       "        vertical-align: top;\n",
       "    }\n",
       "\n",
       "    .dataframe thead th {\n",
       "        text-align: right;\n",
       "    }\n",
       "</style>\n",
       "<table border=\"1\" class=\"dataframe\">\n",
       "  <thead>\n",
       "    <tr style=\"text-align: right;\">\n",
       "      <th></th>\n",
       "      <th>num_clusters</th>\n",
       "      <th>cluster_errors</th>\n",
       "    </tr>\n",
       "  </thead>\n",
       "  <tbody>\n",
       "    <tr>\n",
       "      <th>0</th>\n",
       "      <td>2</td>\n",
       "      <td>2632.354801</td>\n",
       "    </tr>\n",
       "    <tr>\n",
       "      <th>1</th>\n",
       "      <td>3</td>\n",
       "      <td>2335.153795</td>\n",
       "    </tr>\n",
       "  </tbody>\n",
       "</table>\n",
       "</div>"
      ],
      "text/plain": [
       "   num_clusters  cluster_errors\n",
       "0             2     2632.354801\n",
       "1             3     2335.153795"
      ]
     },
     "execution_count": 28,
     "metadata": {},
     "output_type": "execute_result"
    }
   ],
   "source": [
    "distortion = []\n",
    "cluster_range = range( 2, 4) \n",
    "cluster_errors = []\n",
    "cluster_sil_scores = []\n",
    "for num_clusters in cluster_range:\n",
    " clusters = KMeans( num_clusters, n_init = 5)\n",
    " clusters.fit(Proj_train_data)\n",
    " labels = clusters.labels_\n",
    " centroids = clusters.cluster_centers_ \n",
    " cluster_errors.append( clusters.inertia_ )\n",
    "clusters_df = pd.DataFrame( { \"num_clusters\":cluster_range, \"cluster_errors\": cluster_errors} )\n",
    "clusters_df[0:10]\n"
   ]
  },
  {
   "cell_type": "code",
   "execution_count": 29,
   "metadata": {},
   "outputs": [
    {
     "data": {
      "text/plain": [
       "[<matplotlib.lines.Line2D at 0x2d437e00cc0>]"
      ]
     },
     "execution_count": 29,
     "metadata": {},
     "output_type": "execute_result"
    },
    {
     "data": {
      "image/png": "[encoded data removed]",
      "text/plain": [
       "<Figure size 432x432 with 1 Axes>"
      ]
     },
     "metadata": {
      "needs_background": "light"
     },
     "output_type": "display_data"
    }
   ],
   "source": [
    "\n",
    "plt.figure(figsize=(6,6))\n",
    "plt.plot( clusters_df.num_clusters, clusters_df.cluster_errors,marker=\"o\" )"
   ]
  },
  {
   "cell_type": "code",
   "execution_count": 30,
   "metadata": {},
   "outputs": [],
   "source": [
    "kmeans=KMeans(n_clusters=2)"
   ]
  },
  {
   "cell_type": "code",
   "execution_count": 31,
   "metadata": {},
   "outputs": [],
   "source": [
    "kmeans=kmeans.fit(Proj_train_data)"
   ]
  },
  {
   "cell_type": "code",
   "execution_count": 32,
   "metadata": {},
   "outputs": [],
   "source": [
    "labels=kmeans.predict(Proj_train_data)"
   ]
  },
  {
   "cell_type": "code",
   "execution_count": 33,
   "metadata": {},
   "outputs": [],
   "source": [
    "centroids = kmeans.cluster_centers_"
   ]
  },
  {
   "cell_type": "code",
   "execution_count": 34,
   "metadata": {},
   "outputs": [
    {
     "name": "stdout",
     "output_type": "stream",
     "text": [
      "Centroid values\n",
      "[[-1.7130258  -0.08702997  0.01083823  0.19783823  0.02032809 -0.04229243\n",
      "  -0.05818431 -0.06318575 -0.03759016 -0.03113457]\n",
      " [ 2.34521389  0.11914817 -0.01483805 -0.27084996 -0.02783013  0.05790035\n",
      "   0.0796571   0.0865043   0.05146271  0.04262471]]\n"
     ]
    }
   ],
   "source": [
    "print(\"Centroid values\")\n",
    "print(centroids)"
   ]
  },
  {
   "cell_type": "code",
   "execution_count": 35,
   "metadata": {},
   "outputs": [
    {
     "data": {
      "text/html": [
       "<div>\n",
       "<style scoped>\n",
       "    .dataframe tbody tr th:only-of-type {\n",
       "        vertical-align: middle;\n",
       "    }\n",
       "\n",
       "    .dataframe tbody tr th {\n",
       "        vertical-align: top;\n",
       "    }\n",
       "\n",
       "    .dataframe thead th {\n",
       "        text-align: right;\n",
       "    }\n",
       "</style>\n",
       "<table border=\"1\" class=\"dataframe\">\n",
       "  <thead>\n",
       "    <tr style=\"text-align: right;\">\n",
       "      <th></th>\n",
       "      <th>0</th>\n",
       "      <th>1</th>\n",
       "      <th>2</th>\n",
       "      <th>3</th>\n",
       "      <th>4</th>\n",
       "      <th>5</th>\n",
       "      <th>6</th>\n",
       "      <th>7</th>\n",
       "      <th>8</th>\n",
       "      <th>9</th>\n",
       "      <th>cluster_Id</th>\n",
       "    </tr>\n",
       "  </thead>\n",
       "  <tbody>\n",
       "    <tr>\n",
       "      <th>0</th>\n",
       "      <td>-0.422515</td>\n",
       "      <td>-2.791350</td>\n",
       "      <td>1.177257</td>\n",
       "      <td>1.389318</td>\n",
       "      <td>-2.065873</td>\n",
       "      <td>-1.013413</td>\n",
       "      <td>-0.408212</td>\n",
       "      <td>-0.009935</td>\n",
       "      <td>-0.800600</td>\n",
       "      <td>-0.088517</td>\n",
       "      <td>0</td>\n",
       "    </tr>\n",
       "    <tr>\n",
       "      <th>1</th>\n",
       "      <td>-2.266377</td>\n",
       "      <td>2.992740</td>\n",
       "      <td>1.574994</td>\n",
       "      <td>1.015065</td>\n",
       "      <td>0.696362</td>\n",
       "      <td>-1.641626</td>\n",
       "      <td>-0.358147</td>\n",
       "      <td>0.108871</td>\n",
       "      <td>0.139047</td>\n",
       "      <td>0.370809</td>\n",
       "      <td>0</td>\n",
       "    </tr>\n",
       "    <tr>\n",
       "      <th>2</th>\n",
       "      <td>1.832726</td>\n",
       "      <td>0.936506</td>\n",
       "      <td>0.139502</td>\n",
       "      <td>-1.560532</td>\n",
       "      <td>0.393499</td>\n",
       "      <td>0.652802</td>\n",
       "      <td>-0.598246</td>\n",
       "      <td>2.720047</td>\n",
       "      <td>-1.234494</td>\n",
       "      <td>-0.730818</td>\n",
       "      <td>1</td>\n",
       "    </tr>\n",
       "    <tr>\n",
       "      <th>3</th>\n",
       "      <td>-0.557495</td>\n",
       "      <td>-1.811064</td>\n",
       "      <td>0.109256</td>\n",
       "      <td>2.692348</td>\n",
       "      <td>-0.780462</td>\n",
       "      <td>-1.086600</td>\n",
       "      <td>-0.188503</td>\n",
       "      <td>0.967725</td>\n",
       "      <td>1.014572</td>\n",
       "      <td>-0.713872</td>\n",
       "      <td>0</td>\n",
       "    </tr>\n",
       "    <tr>\n",
       "      <th>4</th>\n",
       "      <td>-2.545864</td>\n",
       "      <td>0.979346</td>\n",
       "      <td>-2.679987</td>\n",
       "      <td>-0.056150</td>\n",
       "      <td>-0.725126</td>\n",
       "      <td>1.440427</td>\n",
       "      <td>-1.395321</td>\n",
       "      <td>1.075688</td>\n",
       "      <td>-0.261326</td>\n",
       "      <td>-1.097434</td>\n",
       "      <td>0</td>\n",
       "    </tr>\n",
       "  </tbody>\n",
       "</table>\n",
       "</div>"
      ],
      "text/plain": [
       "          0         1         2         3         4         5         6  \\\n",
       "0 -0.422515 -2.791350  1.177257  1.389318 -2.065873 -1.013413 -0.408212   \n",
       "1 -2.266377  2.992740  1.574994  1.015065  0.696362 -1.641626 -0.358147   \n",
       "2  1.832726  0.936506  0.139502 -1.560532  0.393499  0.652802 -0.598246   \n",
       "3 -0.557495 -1.811064  0.109256  2.692348 -0.780462 -1.086600 -0.188503   \n",
       "4 -2.545864  0.979346 -2.679987 -0.056150 -0.725126  1.440427 -1.395321   \n",
       "\n",
       "          7         8         9  cluster_Id  \n",
       "0 -0.009935 -0.800600 -0.088517           0  \n",
       "1  0.108871  0.139047  0.370809           0  \n",
       "2  2.720047 -1.234494 -0.730818           1  \n",
       "3  0.967725  1.014572 -0.713872           0  \n",
       "4  1.075688 -0.261326 -1.097434           0  "
      ]
     },
     "execution_count": 35,
     "metadata": {},
     "output_type": "execute_result"
    }
   ],
   "source": [
    "prediction= kmeans.predict(Proj_train_data)\n",
    "X_df = pd.DataFrame(Proj_train_data)\n",
    "X_df[\"cluster_Id\"] = prediction  \n",
    "\n",
    "\n",
    "X_df.head()\n"
   ]
  },
  {
   "cell_type": "code",
   "execution_count": 36,
   "metadata": {},
   "outputs": [
    {
     "data": {
      "text/plain": [
       "array([], shape=(0, 11), dtype=float64)"
      ]
     },
     "execution_count": 36,
     "metadata": {},
     "output_type": "execute_result"
    }
   ],
   "source": [
    "for i in cluster_range:\n",
    "    points = np.array(X_df.loc[X_df['cluster_Id'] == i])\n",
    "    \n",
    "points"
   ]
  },
  {
   "cell_type": "code",
   "execution_count": 37,
   "metadata": {},
   "outputs": [
    {
     "data": {
      "image/png": "[encoded data removed]",
      "text/plain": [
       "<Figure size 432x288 with 1 Axes>"
      ]
     },
     "metadata": {
      "needs_background": "light"
     },
     "output_type": "display_data"
    }
   ],
   "source": [
    "colors = ['r', 'g', 'b', 'y', 'c', 'm']\n",
    "fig, ax = plt.subplots()\n",
    "c = np.array([9,9])\n",
    "\n",
    "for i in labels:\n",
    "        points = np.array(X_df.loc[X_df['cluster_Id'] == i])\n",
    "        \n",
    "        ax.scatter(points[:, 0], points[:, 1], s=7, c=colors[i])"
   ]
  },
  {
   "cell_type": "code",
   "execution_count": 38,
   "metadata": {},
   "outputs": [],
   "source": [
    "X_test_std= sc.fit_transform(X_test)"
   ]
  },
  {
   "cell_type": "code",
   "execution_count": 39,
   "metadata": {},
   "outputs": [],
   "source": [
    "Proj_test_data = np.dot(X_test_std,reduce_dimension.T)"
   ]
  },
  {
   "cell_type": "code",
   "execution_count": 40,
   "metadata": {},
   "outputs": [
    {
     "data": {
      "text/plain": [
       "(50, 10)"
      ]
     },
     "execution_count": 40,
     "metadata": {},
     "output_type": "execute_result"
    }
   ],
   "source": [
    "Proj_test_data.shape"
   ]
  },
  {
   "cell_type": "code",
   "execution_count": 41,
   "metadata": {},
   "outputs": [
    {
     "data": {
      "text/plain": [
       "(50, 18)"
      ]
     },
     "execution_count": 41,
     "metadata": {},
     "output_type": "execute_result"
    }
   ],
   "source": [
    "X_test_std.shape"
   ]
  },
  {
   "cell_type": "code",
   "execution_count": 46,
   "metadata": {},
   "outputs": [],
   "source": [
    "y=sc.fit_transform(X_test_std)"
   ]
  },
  {
   "cell_type": "code",
   "execution_count": 43,
   "metadata": {},
   "outputs": [
    {
     "name": "stdout",
     "output_type": "stream",
     "text": [
      "1.0\n"
     ]
    },
    {
     "name": "stderr",
     "output_type": "stream",
     "text": [
      "C:\\ProgramData\\Anaconda3\\lib\\site-packages\\sklearn\\linear_model\\logistic.py:432: FutureWarning: Default solver will be changed to 'lbfgs' in 0.22. Specify a solver to silence this warning.\n",
      "  FutureWarning)\n"
     ]
    }
   ],
   "source": [
    "from sklearn.linear_model import LogisticRegression\n",
    "model = LogisticRegression()\n",
    "model.fit(Proj_train_data, y_train)\n",
    "\n",
    "result = model.score(Proj_test_data, y_test)\n",
    "print(result)"
   ]
  },
  {
   "cell_type": "code",
   "execution_count": 44,
   "metadata": {},
   "outputs": [
    {
     "name": "stderr",
     "output_type": "stream",
     "text": [
      "C:\\ProgramData\\Anaconda3\\lib\\site-packages\\sklearn\\linear_model\\logistic.py:432: FutureWarning: Default solver will be changed to 'lbfgs' in 0.22. Specify a solver to silence this warning.\n",
      "  FutureWarning)\n"
     ]
    },
    {
     "data": {
      "text/plain": [
       "LogisticRegression(C=1.0, class_weight=None, dual=False, fit_intercept=True,\n",
       "                   intercept_scaling=1, l1_ratio=None, max_iter=100,\n",
       "                   multi_class='warn', n_jobs=None, penalty='l2',\n",
       "                   random_state=None, solver='warn', tol=0.0001, verbose=0,\n",
       "                   warm_start=False)"
      ]
     },
     "execution_count": 44,
     "metadata": {},
     "output_type": "execute_result"
    }
   ],
   "source": [
    "model.fit(X_train_std, y_train)\n"
   ]
  },
  {
   "cell_type": "code",
   "execution_count": 45,
   "metadata": {},
   "outputs": [
    {
     "data": {
      "text/plain": [
       "1.0"
      ]
     },
     "execution_count": 45,
     "metadata": {},
     "output_type": "execute_result"
    }
   ],
   "source": [
    "model.score(X_test_std, y_test)"
   ]
  },
  {
   "cell_type": "code",
   "execution_count": 75,
   "metadata": {},
   "outputs": [],
   "source": [
    "predict=model.predict(X_test)"
   ]
  },
  {
   "cell_type": "code",
   "execution_count": 76,
   "metadata": {},
   "outputs": [],
   "source": [
    "from sklearn import metrics"
   ]
  },
  {
   "cell_type": "code",
   "execution_count": 77,
   "metadata": {},
   "outputs": [
    {
     "name": "stdout",
     "output_type": "stream",
     "text": [
      "[[23  0]\n",
      " [ 0 27]]\n"
     ]
    }
   ],
   "source": [
    "print(metrics.confusion_matrix(y_test, predict))"
   ]
  },
  {
   "cell_type": "code",
   "execution_count": null,
   "metadata": {},
   "outputs": [],
   "source": []
  }
 ],
 "metadata": {
  "kernelspec": {
   "display_name": "Python 3",
   "language": "python",
   "name": "python3"
  },
  "language_info": {
   "codemirror_mode": {
    "name": "ipython",
    "version": 3
   },
   "file_extension": ".py",
   "mimetype": "text/x-python",
   "name": "python",
   "nbconvert_exporter": "python",
   "pygments_lexer": "ipython3",
   "version": "3.7.3"
  }
 },
 "nbformat": 4,
 "nbformat_minor": 2
}
