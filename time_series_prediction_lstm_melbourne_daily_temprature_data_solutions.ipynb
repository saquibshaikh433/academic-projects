{
  "nbformat": 4,
  "nbformat_minor": 0,
  "metadata": {
    "colab": {
      "name": "time_series_prediction_lstm_melbourne_daily_temprature_data_solutions.ipynb",
      "provenance": [],
      "collapsed_sections": []
    },
    "kernelspec": {
      "display_name": "Python 3",
      "language": "python",
      "name": "python3"
    },
    "language_info": {
      "codemirror_mode": {
        "name": "ipython",
        "version": 3
      },
      "file_extension": ".py",
      "mimetype": "text/x-python",
      "name": "python",
      "nbconvert_exporter": "python",
      "pygments_lexer": "ipython3",
      "version": "3.7.1"
    }
  },
  "cells": [
    {
      "cell_type": "markdown",
      "metadata": {
        "id": "GSoAlayca15z",
        "colab_type": "text"
      },
      "source": [
        "## Time Series Prediction using LSTM"
      ]
    },
    {
      "cell_type": "markdown",
      "metadata": {
        "id": "uzp77_Xoa154",
        "colab_type": "text"
      },
      "source": [
        "### Download Data\n",
        "Link: https://datamarket.com/data/set/2324/daily-minimum-temperatures-in-melbourne-australia-1981-1990#!ds=2324&display=line\n",
        "\n",
        "#### Description\n",
        "Daily minimum temperatures in Melbourne, Australia, 1981-1990\n",
        "\n",
        "Units: Degrees Celcius\n",
        "\n",
        "#### Steps before loading\n",
        "- Rename the column name with temprature values to \"Temprature\"\n",
        "- In the last, there is one extra row in the data, remove it by opening the file and save it again.\n",
        "- There are some values in Temprature column which have a \"?\" before them, they will give error, remove \"?\" before them and save the file\n",
        "- If you don't want to do these steps, just load the data file given by Great Learning."
      ]
    },
    {
      "cell_type": "markdown",
      "metadata": {
        "id": "bwjr8Vepa155",
        "colab_type": "text"
      },
      "source": [
        "#### Mount google drive"
      ]
    },
    {
      "cell_type": "code",
      "metadata": {
        "colab_type": "code",
        "id": "VjoLRSg57qlt",
        "outputId": "4aca39e5-d1a6-42d4-a4dd-0282b8438478",
        "colab": {
          "base_uri": "https://localhost:8080/",
          "height": 34
        }
      },
      "source": [
        "from google.colab import drive\n",
        "drive.mount('/content/drive')"
      ],
      "execution_count": 33,
      "outputs": [
        {
          "output_type": "stream",
          "text": [
            "Drive already mounted at /content/drive; to attempt to forcibly remount, call drive.mount(\"/content/drive\", force_remount=True).\n"
          ],
          "name": "stdout"
        }
      ]
    },
    {
      "cell_type": "markdown",
      "metadata": {
        "id": "dmANjLiVa16A",
        "colab_type": "text"
      },
      "source": [
        "#### Change your present working directory"
      ]
    },
    {
      "cell_type": "code",
      "metadata": {
        "id": "FhsNNIs3a16C",
        "colab_type": "code",
        "colab": {}
      },
      "source": [
        "import pandas as pd\n",
        "import numpy as np\n",
        "from sklearn.preprocessing import MinMaxScaler\n",
        "import tensorflow as tf\n",
        "from keras.utils import np_utils"
      ],
      "execution_count": 0,
      "outputs": []
    },
    {
      "cell_type": "markdown",
      "metadata": {
        "id": "ETIHfJ6wa16G",
        "colab_type": "text"
      },
      "source": [
        "### Load your data file"
      ]
    },
    {
      "cell_type": "code",
      "metadata": {
        "colab_type": "code",
        "id": "AanHqGBu7Jw2",
        "outputId": "e31c8e41-f798-4e86-e203-a6100b2ebb2a",
        "colab": {
          "base_uri": "https://localhost:8080/",
          "height": 166
        }
      },
      "source": [
        "df = pd.read_csv('/content/drive/My Drive/NLP/daily-minimum-temperatures-in-me.csv')\n",
        "df.sort_index(inplace=True)\n",
        "df.tail(4)"
      ],
      "execution_count": 35,
      "outputs": [
        {
          "output_type": "execute_result",
          "data": {
            "text/html": [
              "<div>\n",
              "<style scoped>\n",
              "    .dataframe tbody tr th:only-of-type {\n",
              "        vertical-align: middle;\n",
              "    }\n",
              "\n",
              "    .dataframe tbody tr th {\n",
              "        vertical-align: top;\n",
              "    }\n",
              "\n",
              "    .dataframe thead th {\n",
              "        text-align: right;\n",
              "    }\n",
              "</style>\n",
              "<table border=\"1\" class=\"dataframe\">\n",
              "  <thead>\n",
              "    <tr style=\"text-align: right;\">\n",
              "      <th></th>\n",
              "      <th>Date</th>\n",
              "      <th>Temperature</th>\n",
              "    </tr>\n",
              "  </thead>\n",
              "  <tbody>\n",
              "    <tr>\n",
              "      <th>3646</th>\n",
              "      <td>1990-12-28</td>\n",
              "      <td>13.6</td>\n",
              "    </tr>\n",
              "    <tr>\n",
              "      <th>3647</th>\n",
              "      <td>1990-12-29</td>\n",
              "      <td>13.5</td>\n",
              "    </tr>\n",
              "    <tr>\n",
              "      <th>3648</th>\n",
              "      <td>1990-12-30</td>\n",
              "      <td>15.7</td>\n",
              "    </tr>\n",
              "    <tr>\n",
              "      <th>3649</th>\n",
              "      <td>1990-12-31</td>\n",
              "      <td>13.0</td>\n",
              "    </tr>\n",
              "  </tbody>\n",
              "</table>\n",
              "</div>"
            ],
            "text/plain": [
              "            Date  Temperature\n",
              "3646  1990-12-28         13.6\n",
              "3647  1990-12-29         13.5\n",
              "3648  1990-12-30         15.7\n",
              "3649  1990-12-31         13.0"
            ]
          },
          "metadata": {
            "tags": []
          },
          "execution_count": 35
        }
      ]
    },
    {
      "cell_type": "code",
      "metadata": {
        "id": "A9XZJTAGbxqj",
        "colab_type": "code",
        "outputId": "889b53f3-08c0-41b8-c714-951c28bd5442",
        "colab": {
          "base_uri": "https://localhost:8080/",
          "height": 34
        }
      },
      "source": [
        "df.shape"
      ],
      "execution_count": 36,
      "outputs": [
        {
          "output_type": "execute_result",
          "data": {
            "text/plain": [
              "(3650, 2)"
            ]
          },
          "metadata": {
            "tags": []
          },
          "execution_count": 36
        }
      ]
    },
    {
      "cell_type": "markdown",
      "metadata": {
        "id": "3WDgWmKea16M",
        "colab_type": "text"
      },
      "source": [
        "#### Plot data"
      ]
    },
    {
      "cell_type": "code",
      "metadata": {
        "id": "W1akbQNJa16N",
        "colab_type": "code",
        "outputId": "933ce57d-8854-473c-f991-89a680474c6b",
        "colab": {
          "base_uri": "https://localhost:8080/",
          "height": 282
        }
      },
      "source": [
        "df.plot()"
      ],
      "execution_count": 37,
      "outputs": [
        {
          "output_type": "execute_result",
          "data": {
            "text/plain": [
              "<matplotlib.axes._subplots.AxesSubplot at 0x7f295c42b748>"
            ]
          },
          "metadata": {
            "tags": []
          },
          "execution_count": 37
        },
        {
          "output_type": "display_data",
          "data": {
            "image/png": "[encoded data removed]",
            "text/plain": [
              "<Figure size 432x288 with 1 Axes>"
            ]
          },
          "metadata": {
            "tags": []
          }
        }
      ]
    },
    {
      "cell_type": "markdown",
      "metadata": {
        "id": "HxVAPum5a16R",
        "colab_type": "text"
      },
      "source": [
        "#### Descibe your dataframe"
      ]
    },
    {
      "cell_type": "code",
      "metadata": {
        "colab_type": "code",
        "id": "oBWNA_kG7JxC",
        "outputId": "1d3d311c-73d6-4144-8b96-1930435245bd",
        "colab": {
          "base_uri": "https://localhost:8080/",
          "height": 284
        }
      },
      "source": [
        "df.describe()"
      ],
      "execution_count": 38,
      "outputs": [
        {
          "output_type": "execute_result",
          "data": {
            "text/html": [
              "<div>\n",
              "<style scoped>\n",
              "    .dataframe tbody tr th:only-of-type {\n",
              "        vertical-align: middle;\n",
              "    }\n",
              "\n",
              "    .dataframe tbody tr th {\n",
              "        vertical-align: top;\n",
              "    }\n",
              "\n",
              "    .dataframe thead th {\n",
              "        text-align: right;\n",
              "    }\n",
              "</style>\n",
              "<table border=\"1\" class=\"dataframe\">\n",
              "  <thead>\n",
              "    <tr style=\"text-align: right;\">\n",
              "      <th></th>\n",
              "      <th>Temperature</th>\n",
              "    </tr>\n",
              "  </thead>\n",
              "  <tbody>\n",
              "    <tr>\n",
              "      <th>count</th>\n",
              "      <td>3650.000000</td>\n",
              "    </tr>\n",
              "    <tr>\n",
              "      <th>mean</th>\n",
              "      <td>11.177753</td>\n",
              "    </tr>\n",
              "    <tr>\n",
              "      <th>std</th>\n",
              "      <td>4.071837</td>\n",
              "    </tr>\n",
              "    <tr>\n",
              "      <th>min</th>\n",
              "      <td>0.000000</td>\n",
              "    </tr>\n",
              "    <tr>\n",
              "      <th>25%</th>\n",
              "      <td>8.300000</td>\n",
              "    </tr>\n",
              "    <tr>\n",
              "      <th>50%</th>\n",
              "      <td>11.000000</td>\n",
              "    </tr>\n",
              "    <tr>\n",
              "      <th>75%</th>\n",
              "      <td>14.000000</td>\n",
              "    </tr>\n",
              "    <tr>\n",
              "      <th>max</th>\n",
              "      <td>26.300000</td>\n",
              "    </tr>\n",
              "  </tbody>\n",
              "</table>\n",
              "</div>"
            ],
            "text/plain": [
              "       Temperature\n",
              "count  3650.000000\n",
              "mean     11.177753\n",
              "std       4.071837\n",
              "min       0.000000\n",
              "25%       8.300000\n",
              "50%      11.000000\n",
              "75%      14.000000\n",
              "max      26.300000"
            ]
          },
          "metadata": {
            "tags": []
          },
          "execution_count": 38
        }
      ]
    },
    {
      "cell_type": "markdown",
      "metadata": {
        "id": "5394XHFLa16Z",
        "colab_type": "text"
      },
      "source": [
        "#### Check for null values"
      ]
    },
    {
      "cell_type": "code",
      "metadata": {
        "colab_type": "code",
        "id": "97MVIy_N7JxH",
        "outputId": "d925cea2-f1e8-41c3-f889-43360c6376fa",
        "colab": {
          "base_uri": "https://localhost:8080/",
          "height": 70
        }
      },
      "source": [
        "df.isnull().sum()"
      ],
      "execution_count": 39,
      "outputs": [
        {
          "output_type": "execute_result",
          "data": {
            "text/plain": [
              "Date           0\n",
              "Temperature    0\n",
              "dtype: int64"
            ]
          },
          "metadata": {
            "tags": []
          },
          "execution_count": 39
        }
      ]
    },
    {
      "cell_type": "markdown",
      "metadata": {
        "id": "HE_22_4xa16e",
        "colab_type": "text"
      },
      "source": [
        "#### Drop null values"
      ]
    },
    {
      "cell_type": "code",
      "metadata": {
        "colab_type": "code",
        "id": "fgh7mdOI7JxS",
        "colab": {}
      },
      "source": [
        "# no null values"
      ],
      "execution_count": 0,
      "outputs": []
    },
    {
      "cell_type": "markdown",
      "metadata": {
        "id": "Gd8eQzzsa16j",
        "colab_type": "text"
      },
      "source": [
        "#### Get the representation of the distribution of data in the form of histogram"
      ]
    },
    {
      "cell_type": "code",
      "metadata": {
        "colab_type": "code",
        "id": "659sLAx27Jxc",
        "outputId": "531d9045-85c3-4daa-bc5a-1475044a9639",
        "colab": {
          "base_uri": "https://localhost:8080/",
          "height": 316
        }
      },
      "source": [
        "df.hist(grid=True)"
      ],
      "execution_count": 41,
      "outputs": [
        {
          "output_type": "execute_result",
          "data": {
            "text/plain": [
              "array([[<matplotlib.axes._subplots.AxesSubplot object at 0x7f295aaa5748>]],\n",
              "      dtype=object)"
            ]
          },
          "metadata": {
            "tags": []
          },
          "execution_count": 41
        },
        {
          "output_type": "display_data",
          "data": {
            "image/png": "[encoded data removed]",
            "text/plain": [
              "<Figure size 432x288 with 1 Axes>"
            ]
          },
          "metadata": {
            "tags": []
          }
        }
      ]
    },
    {
      "cell_type": "markdown",
      "metadata": {
        "id": "FoTDwD6Ta16p",
        "colab_type": "text"
      },
      "source": [
        "#### Check the maximum and minimum values"
      ]
    },
    {
      "cell_type": "code",
      "metadata": {
        "colab_type": "code",
        "id": "WmkjCx8c7Jxn",
        "outputId": "34e11a42-40e1-4579-9c6a-b385dedd1042",
        "colab": {
          "base_uri": "https://localhost:8080/",
          "height": 122
        }
      },
      "source": [
        "#Check Data Range\n",
        "print('Min', np.min(df))\n",
        "print('Max', np.max(df))"
      ],
      "execution_count": 42,
      "outputs": [
        {
          "output_type": "stream",
          "text": [
            "Min Date           1981-01-01\n",
            "Temperature             0\n",
            "dtype: object\n",
            "Max Date           1990-12-31\n",
            "Temperature          26.3\n",
            "dtype: object\n"
          ],
          "name": "stdout"
        }
      ]
    },
    {
      "cell_type": "markdown",
      "metadata": {
        "id": "dxewgv1ga16u",
        "colab_type": "text"
      },
      "source": [
        "### Normalize the data"
      ]
    },
    {
      "cell_type": "code",
      "metadata": {
        "id": "bt-4pg6tdHp-",
        "colab_type": "code",
        "colab": {}
      },
      "source": [
        "df.drop(\"Date\",axis=1,inplace=True)"
      ],
      "execution_count": 0,
      "outputs": []
    },
    {
      "cell_type": "code",
      "metadata": {
        "colab_type": "code",
        "id": "fb4SNzD27Jxw",
        "colab": {}
      },
      "source": [
        "from sklearn.preprocessing import MinMaxScaler\n",
        "#Normalize the data\n",
        "scaler = MinMaxScaler(feature_range=(0, 1))\n",
        "scaled = scaler.fit_transform(df)"
      ],
      "execution_count": 0,
      "outputs": []
    },
    {
      "cell_type": "markdown",
      "metadata": {
        "id": "1UppoLaEa162",
        "colab_type": "text"
      },
      "source": [
        "#### Check the maximum and minimum values of scaled data"
      ]
    },
    {
      "cell_type": "code",
      "metadata": {
        "colab_type": "code",
        "id": "clv2rSfL7Jx4",
        "outputId": "e1d7b911-1548-4032-d671-2ffece4e02be",
        "colab": {
          "base_uri": "https://localhost:8080/",
          "height": 52
        }
      },
      "source": [
        "#Check Data Range\n",
        "print('Min', np.min(scaled))\n",
        "print('Max', np.max(scaled))"
      ],
      "execution_count": 45,
      "outputs": [
        {
          "output_type": "stream",
          "text": [
            "Min 0.0\n",
            "Max 1.0\n"
          ],
          "name": "stdout"
        }
      ]
    },
    {
      "cell_type": "markdown",
      "metadata": {
        "id": "0_t0ylIda167",
        "colab_type": "text"
      },
      "source": [
        "#### Look into some of the scaled values"
      ]
    },
    {
      "cell_type": "code",
      "metadata": {
        "colab_type": "code",
        "id": "Xq9CBinO7Jx9",
        "outputId": "f9330953-1e54-4782-a56e-c2a7005a6348",
        "colab": {
          "base_uri": "https://localhost:8080/",
          "height": 70
        }
      },
      "source": [
        "scaled[0:3]"
      ],
      "execution_count": 46,
      "outputs": [
        {
          "output_type": "execute_result",
          "data": {
            "text/plain": [
              "array([[0.78707224],\n",
              "       [0.68060837],\n",
              "       [0.7148289 ]])"
            ]
          },
          "metadata": {
            "tags": []
          },
          "execution_count": 46
        }
      ]
    },
    {
      "cell_type": "markdown",
      "metadata": {
        "id": "IbUfbO3Aa17B",
        "colab_type": "text"
      },
      "source": [
        "### Split data into Training and Testing"
      ]
    },
    {
      "cell_type": "code",
      "metadata": {
        "colab_type": "code",
        "id": "-0Uh7lCO7JyD",
        "colab": {}
      },
      "source": [
        "#70% examples will used for training (in the begining)\n",
        "train_size = int(len(scaled) * 0.70)\n",
        "\n",
        "#30% will be used for Test\n",
        "test_size = len(scaled - train_size)"
      ],
      "execution_count": 0,
      "outputs": []
    },
    {
      "cell_type": "code",
      "metadata": {
        "id": "n0cxLLzod0Gq",
        "colab_type": "code",
        "outputId": "d30ab8a5-fdf9-49cf-874f-6d11b2388ea6",
        "colab": {
          "base_uri": "https://localhost:8080/",
          "height": 52
        }
      },
      "source": [
        "train, test = scaled[0:train_size, :], scaled[train_size: len(scaled), :]\n",
        "print('train: {}\\ntest: {}'.format(len(train), len(test)))"
      ],
      "execution_count": 48,
      "outputs": [
        {
          "output_type": "stream",
          "text": [
            "train: 2555\n",
            "test: 1095\n"
          ],
          "name": "stdout"
        }
      ]
    },
    {
      "cell_type": "markdown",
      "metadata": {
        "id": "JYtsB4Aga17G",
        "colab_type": "text"
      },
      "source": [
        "#### Print train and test size"
      ]
    },
    {
      "cell_type": "code",
      "metadata": {
        "id": "dS5z3u8Sa17H",
        "colab_type": "code",
        "outputId": "689db3f1-9def-4475-a862-9e2085b5a426",
        "colab": {
          "base_uri": "https://localhost:8080/",
          "height": 52
        }
      },
      "source": [
        "print('train: {}\\ntest: {}'.format(len(train), len(test)))"
      ],
      "execution_count": 49,
      "outputs": [
        {
          "output_type": "stream",
          "text": [
            "train: 2555\n",
            "test: 1095\n"
          ],
          "name": "stdout"
        }
      ]
    },
    {
      "cell_type": "code",
      "metadata": {
        "id": "XAe4HRF9dg29",
        "colab_type": "code",
        "colab": {}
      },
      "source": [
        ""
      ],
      "execution_count": 0,
      "outputs": []
    },
    {
      "cell_type": "markdown",
      "metadata": {
        "id": "25Jysn2ja17K",
        "colab_type": "text"
      },
      "source": [
        "## Create the sequential data\n",
        "Map the temprature at a particular time t to the temprature at time t+n, where n is any number you define.\n",
        "\n",
        "For example: to map tempratures of consecutive days, use t+1, i.e. loop_back = 1"
      ]
    },
    {
      "cell_type": "markdown",
      "metadata": {
        "id": "BvJ0VvDba17L",
        "colab_type": "text"
      },
      "source": [
        "#### Define your function to create dataset"
      ]
    },
    {
      "cell_type": "code",
      "metadata": {
        "colab_type": "code",
        "id": "jWIvInPB7JyK",
        "colab": {}
      },
      "source": [
        "#window - how long the sequence will be\n",
        "def create_dataset(dataset, window=1):\n",
        "    \n",
        "    dataX, dataY = [], []\n",
        "    \n",
        "    for i in range(len(dataset)-window):\n",
        "        \n",
        "        a = dataset[i:(i+window), 0]        \n",
        "        dataX.append(a)\n",
        "        dataY.append(dataset[i + window, 0])\n",
        "    \n",
        "    return np.array(dataX), np.array(dataY)\n"
      ],
      "execution_count": 0,
      "outputs": []
    },
    {
      "cell_type": "markdown",
      "metadata": {
        "id": "FcBZh3nla17Q",
        "colab_type": "text"
      },
      "source": [
        "#### Use function to get training and test set"
      ]
    },
    {
      "cell_type": "code",
      "metadata": {
        "colab_type": "code",
        "id": "uarOJcPk7JyQ",
        "scrolled": true,
        "colab": {}
      },
      "source": [
        "#Create Input and Output\n",
        "window_size = 3\n",
        "X_train, y_train = create_dataset(train, window_size)\n",
        "X_test, y_test = create_dataset(test, window_size)"
      ],
      "execution_count": 0,
      "outputs": []
    },
    {
      "cell_type": "markdown",
      "metadata": {
        "id": "NFOG9tVaa17Z",
        "colab_type": "text"
      },
      "source": [
        "#### Transform the prepared train and test input data into the expected structure using numpy.reshape()"
      ]
    },
    {
      "cell_type": "code",
      "metadata": {
        "colab_type": "code",
        "id": "UJZ4VB4N7JyV",
        "outputId": "78a6aa6d-9b96-4742-ae85-a71d239892d4",
        "colab": {
          "base_uri": "https://localhost:8080/",
          "height": 52
        }
      },
      "source": [
        "#Make it 3 Dimensional Data - needed for LSTM\n",
        "X_train = np.reshape(X_train, (X_train.shape[0], X_train.shape[1], 1))\n",
        "X_test = np.reshape(X_test, (X_test.shape[0], X_test.shape[1], 1))\n",
        "print(X_train.shape)\n",
        "print(X_test.shape)"
      ],
      "execution_count": 68,
      "outputs": [
        {
          "output_type": "stream",
          "text": [
            "(2552, 3, 1)\n",
            "(1092, 3, 1)\n"
          ],
          "name": "stdout"
        }
      ]
    },
    {
      "cell_type": "markdown",
      "metadata": {
        "id": "RkEqAKRva17e",
        "colab_type": "text"
      },
      "source": [
        "## Define Model"
      ]
    },
    {
      "cell_type": "markdown",
      "metadata": {
        "id": "7Veu6wD1a17f",
        "colab_type": "text"
      },
      "source": [
        "### Define sequntial model, add LSTM layer and compile the model"
      ]
    },
    {
      "cell_type": "code",
      "metadata": {
        "colab_type": "code",
        "id": "yRW-Txvt7Jya",
        "colab": {}
      },
      "source": [
        "import tensorflow as tf"
      ],
      "execution_count": 0,
      "outputs": []
    },
    {
      "cell_type": "code",
      "metadata": {
        "id": "vPgLd5aketmf",
        "colab_type": "code",
        "colab": {}
      },
      "source": [
        "tf.keras.backend.clear_session()\n",
        "model = tf.keras.Sequential()\n",
        "model.add(tf.keras.layers.LSTM(32, input_shape=(window_size, 1)))\n",
        "model.add(tf.keras.layers.Dense(1))\n",
        "model.compile(optimizer='adam', loss='mse')"
      ],
      "execution_count": 0,
      "outputs": []
    },
    {
      "cell_type": "markdown",
      "metadata": {
        "id": "EAy_A7xIa17j",
        "colab_type": "text"
      },
      "source": [
        "### Summarize your model"
      ]
    },
    {
      "cell_type": "code",
      "metadata": {
        "id": "7R1pRcR4a17k",
        "colab_type": "code",
        "outputId": "5a8dc8a1-c905-4c69-e9b7-c32d5251ebcd",
        "colab": {
          "base_uri": "https://localhost:8080/",
          "height": 228
        }
      },
      "source": [
        "model.summary()"
      ],
      "execution_count": 71,
      "outputs": [
        {
          "output_type": "stream",
          "text": [
            "Model: \"sequential\"\n",
            "_________________________________________________________________\n",
            "Layer (type)                 Output Shape              Param #   \n",
            "=================================================================\n",
            "lstm (LSTM)                  (None, 32)                4352      \n",
            "_________________________________________________________________\n",
            "dense (Dense)                (None, 1)                 33        \n",
            "=================================================================\n",
            "Total params: 4,385\n",
            "Trainable params: 4,385\n",
            "Non-trainable params: 0\n",
            "_________________________________________________________________\n"
          ],
          "name": "stdout"
        }
      ]
    },
    {
      "cell_type": "markdown",
      "metadata": {
        "id": "t9NltHQZa17n",
        "colab_type": "text"
      },
      "source": [
        "### Train the model"
      ]
    },
    {
      "cell_type": "code",
      "metadata": {
        "id": "TbJ8xwUBa17o",
        "colab_type": "code",
        "outputId": "dcf0032f-16de-4844-de4a-bc561ce18099",
        "colab": {
          "base_uri": "https://localhost:8080/",
          "height": 1000
        }
      },
      "source": [
        "model.fit(X_train, y_train, epochs=200, validation_data=(X_test, y_test), batch_size=32)"
      ],
      "execution_count": 72,
      "outputs": [
        {
          "output_type": "stream",
          "text": [
            "Train on 2552 samples, validate on 1092 samples\n",
            "Epoch 1/200\n",
            "2552/2552 [==============================] - 1s 365us/sample - loss: 0.0426 - val_loss: 0.0122\n",
            "Epoch 2/200\n",
            "2552/2552 [==============================] - 0s 139us/sample - loss: 0.0130 - val_loss: 0.0113\n",
            "Epoch 3/200\n",
            "2552/2552 [==============================] - 0s 139us/sample - loss: 0.0124 - val_loss: 0.0108\n",
            "Epoch 4/200\n",
            "2552/2552 [==============================] - 0s 140us/sample - loss: 0.0121 - val_loss: 0.0104\n",
            "Epoch 5/200\n",
            "2552/2552 [==============================] - 0s 138us/sample - loss: 0.0118 - val_loss: 0.0105\n",
            "Epoch 6/200\n",
            "2552/2552 [==============================] - 0s 146us/sample - loss: 0.0117 - val_loss: 0.0100\n",
            "Epoch 7/200\n",
            "2552/2552 [==============================] - 0s 142us/sample - loss: 0.0116 - val_loss: 0.0099\n",
            "Epoch 8/200\n",
            "2552/2552 [==============================] - 0s 144us/sample - loss: 0.0114 - val_loss: 0.0100\n",
            "Epoch 9/200\n",
            "2552/2552 [==============================] - 0s 141us/sample - loss: 0.0112 - val_loss: 0.0098\n",
            "Epoch 10/200\n",
            "2552/2552 [==============================] - 0s 141us/sample - loss: 0.0111 - val_loss: 0.0096\n",
            "Epoch 11/200\n",
            "2552/2552 [==============================] - 0s 143us/sample - loss: 0.0110 - val_loss: 0.0094\n",
            "Epoch 12/200\n",
            "2552/2552 [==============================] - 0s 145us/sample - loss: 0.0109 - val_loss: 0.0092\n",
            "Epoch 13/200\n",
            "2552/2552 [==============================] - 0s 139us/sample - loss: 0.0107 - val_loss: 0.0094\n",
            "Epoch 14/200\n",
            "2552/2552 [==============================] - 0s 148us/sample - loss: 0.0105 - val_loss: 0.0090\n",
            "Epoch 15/200\n",
            "2552/2552 [==============================] - 0s 144us/sample - loss: 0.0104 - val_loss: 0.0089\n",
            "Epoch 16/200\n",
            "2552/2552 [==============================] - 0s 148us/sample - loss: 0.0102 - val_loss: 0.0088\n",
            "Epoch 17/200\n",
            "2552/2552 [==============================] - 0s 143us/sample - loss: 0.0102 - val_loss: 0.0087\n",
            "Epoch 18/200\n",
            "2552/2552 [==============================] - 0s 147us/sample - loss: 0.0100 - val_loss: 0.0088\n",
            "Epoch 19/200\n",
            "2552/2552 [==============================] - 0s 139us/sample - loss: 0.0101 - val_loss: 0.0085\n",
            "Epoch 20/200\n",
            "2552/2552 [==============================] - 0s 144us/sample - loss: 0.0100 - val_loss: 0.0085\n",
            "Epoch 21/200\n",
            "2552/2552 [==============================] - 0s 140us/sample - loss: 0.0099 - val_loss: 0.0085\n",
            "Epoch 22/200\n",
            "2552/2552 [==============================] - 0s 142us/sample - loss: 0.0099 - val_loss: 0.0085\n",
            "Epoch 23/200\n",
            "2552/2552 [==============================] - 0s 141us/sample - loss: 0.0099 - val_loss: 0.0084\n",
            "Epoch 24/200\n",
            "2552/2552 [==============================] - 0s 149us/sample - loss: 0.0098 - val_loss: 0.0084\n",
            "Epoch 25/200\n",
            "2552/2552 [==============================] - 0s 137us/sample - loss: 0.0098 - val_loss: 0.0085\n",
            "Epoch 26/200\n",
            "2552/2552 [==============================] - 0s 147us/sample - loss: 0.0097 - val_loss: 0.0084\n",
            "Epoch 27/200\n",
            "2552/2552 [==============================] - 0s 144us/sample - loss: 0.0098 - val_loss: 0.0083\n",
            "Epoch 28/200\n",
            "2552/2552 [==============================] - 0s 139us/sample - loss: 0.0098 - val_loss: 0.0083\n",
            "Epoch 29/200\n",
            "2552/2552 [==============================] - 0s 143us/sample - loss: 0.0097 - val_loss: 0.0083\n",
            "Epoch 30/200\n",
            "2552/2552 [==============================] - 0s 140us/sample - loss: 0.0097 - val_loss: 0.0083\n",
            "Epoch 31/200\n",
            "2552/2552 [==============================] - 0s 138us/sample - loss: 0.0097 - val_loss: 0.0084\n",
            "Epoch 32/200\n",
            "2552/2552 [==============================] - 0s 150us/sample - loss: 0.0097 - val_loss: 0.0090\n",
            "Epoch 33/200\n",
            "2552/2552 [==============================] - 0s 141us/sample - loss: 0.0097 - val_loss: 0.0085\n",
            "Epoch 34/200\n",
            "2552/2552 [==============================] - 0s 145us/sample - loss: 0.0097 - val_loss: 0.0083\n",
            "Epoch 35/200\n",
            "2552/2552 [==============================] - 0s 145us/sample - loss: 0.0097 - val_loss: 0.0083\n",
            "Epoch 36/200\n",
            "2552/2552 [==============================] - 0s 142us/sample - loss: 0.0098 - val_loss: 0.0084\n",
            "Epoch 37/200\n",
            "2552/2552 [==============================] - 0s 149us/sample - loss: 0.0097 - val_loss: 0.0086\n",
            "Epoch 38/200\n",
            "2552/2552 [==============================] - 0s 144us/sample - loss: 0.0097 - val_loss: 0.0084\n",
            "Epoch 39/200\n",
            "2552/2552 [==============================] - 0s 140us/sample - loss: 0.0097 - val_loss: 0.0083\n",
            "Epoch 40/200\n",
            "2552/2552 [==============================] - 0s 139us/sample - loss: 0.0096 - val_loss: 0.0085\n",
            "Epoch 41/200\n",
            "2552/2552 [==============================] - 0s 148us/sample - loss: 0.0097 - val_loss: 0.0083\n",
            "Epoch 42/200\n",
            "2552/2552 [==============================] - 0s 143us/sample - loss: 0.0097 - val_loss: 0.0085\n",
            "Epoch 43/200\n",
            "2552/2552 [==============================] - 0s 144us/sample - loss: 0.0097 - val_loss: 0.0083\n",
            "Epoch 44/200\n",
            "2552/2552 [==============================] - 0s 144us/sample - loss: 0.0096 - val_loss: 0.0084\n",
            "Epoch 45/200\n",
            "2552/2552 [==============================] - 0s 139us/sample - loss: 0.0097 - val_loss: 0.0083\n",
            "Epoch 46/200\n",
            "2552/2552 [==============================] - 0s 145us/sample - loss: 0.0097 - val_loss: 0.0084\n",
            "Epoch 47/200\n",
            "2552/2552 [==============================] - 0s 139us/sample - loss: 0.0096 - val_loss: 0.0084\n",
            "Epoch 48/200\n",
            "2552/2552 [==============================] - 0s 141us/sample - loss: 0.0097 - val_loss: 0.0084\n",
            "Epoch 49/200\n",
            "2552/2552 [==============================] - 0s 143us/sample - loss: 0.0097 - val_loss: 0.0083\n",
            "Epoch 50/200\n",
            "2552/2552 [==============================] - 0s 139us/sample - loss: 0.0097 - val_loss: 0.0083\n",
            "Epoch 51/200\n",
            "2552/2552 [==============================] - 0s 139us/sample - loss: 0.0097 - val_loss: 0.0084\n",
            "Epoch 52/200\n",
            "2552/2552 [==============================] - 0s 145us/sample - loss: 0.0097 - val_loss: 0.0083\n",
            "Epoch 53/200\n",
            "2552/2552 [==============================] - 0s 145us/sample - loss: 0.0096 - val_loss: 0.0083\n",
            "Epoch 54/200\n",
            "2552/2552 [==============================] - 0s 140us/sample - loss: 0.0096 - val_loss: 0.0083\n",
            "Epoch 55/200\n",
            "2552/2552 [==============================] - 0s 145us/sample - loss: 0.0096 - val_loss: 0.0083\n",
            "Epoch 56/200\n",
            "2552/2552 [==============================] - 0s 145us/sample - loss: 0.0096 - val_loss: 0.0085\n",
            "Epoch 57/200\n",
            "2552/2552 [==============================] - 0s 144us/sample - loss: 0.0097 - val_loss: 0.0087\n",
            "Epoch 58/200\n",
            "2552/2552 [==============================] - 0s 139us/sample - loss: 0.0097 - val_loss: 0.0089\n",
            "Epoch 59/200\n",
            "2552/2552 [==============================] - 0s 142us/sample - loss: 0.0097 - val_loss: 0.0086\n",
            "Epoch 60/200\n",
            "2552/2552 [==============================] - 0s 142us/sample - loss: 0.0096 - val_loss: 0.0083\n",
            "Epoch 61/200\n",
            "2552/2552 [==============================] - 0s 149us/sample - loss: 0.0097 - val_loss: 0.0083\n",
            "Epoch 62/200\n",
            "2552/2552 [==============================] - 0s 140us/sample - loss: 0.0096 - val_loss: 0.0084\n",
            "Epoch 63/200\n",
            "2552/2552 [==============================] - 0s 145us/sample - loss: 0.0096 - val_loss: 0.0083\n",
            "Epoch 64/200\n",
            "2552/2552 [==============================] - 0s 143us/sample - loss: 0.0097 - val_loss: 0.0084\n",
            "Epoch 65/200\n",
            "2552/2552 [==============================] - 0s 140us/sample - loss: 0.0097 - val_loss: 0.0083\n",
            "Epoch 66/200\n",
            "2552/2552 [==============================] - 0s 145us/sample - loss: 0.0096 - val_loss: 0.0083\n",
            "Epoch 67/200\n",
            "2552/2552 [==============================] - 0s 140us/sample - loss: 0.0096 - val_loss: 0.0083\n",
            "Epoch 68/200\n",
            "2552/2552 [==============================] - 0s 143us/sample - loss: 0.0096 - val_loss: 0.0083\n",
            "Epoch 69/200\n",
            "2552/2552 [==============================] - 0s 141us/sample - loss: 0.0096 - val_loss: 0.0085\n",
            "Epoch 70/200\n",
            "2552/2552 [==============================] - 0s 148us/sample - loss: 0.0096 - val_loss: 0.0084\n",
            "Epoch 71/200\n",
            "2552/2552 [==============================] - 0s 141us/sample - loss: 0.0096 - val_loss: 0.0083\n",
            "Epoch 72/200\n",
            "2552/2552 [==============================] - 0s 143us/sample - loss: 0.0096 - val_loss: 0.0084\n",
            "Epoch 73/200\n",
            "2552/2552 [==============================] - 0s 146us/sample - loss: 0.0096 - val_loss: 0.0083\n",
            "Epoch 74/200\n",
            "2552/2552 [==============================] - 0s 149us/sample - loss: 0.0096 - val_loss: 0.0083\n",
            "Epoch 75/200\n",
            "2552/2552 [==============================] - 0s 150us/sample - loss: 0.0097 - val_loss: 0.0083\n",
            "Epoch 76/200\n",
            "2552/2552 [==============================] - 0s 139us/sample - loss: 0.0096 - val_loss: 0.0083\n",
            "Epoch 77/200\n",
            "2552/2552 [==============================] - 0s 141us/sample - loss: 0.0096 - val_loss: 0.0087\n",
            "Epoch 78/200\n",
            "2552/2552 [==============================] - 0s 146us/sample - loss: 0.0096 - val_loss: 0.0087\n",
            "Epoch 79/200\n",
            "2552/2552 [==============================] - 0s 140us/sample - loss: 0.0097 - val_loss: 0.0083\n",
            "Epoch 80/200\n",
            "2552/2552 [==============================] - 0s 145us/sample - loss: 0.0096 - val_loss: 0.0083\n",
            "Epoch 81/200\n",
            "2552/2552 [==============================] - 0s 138us/sample - loss: 0.0096 - val_loss: 0.0083\n",
            "Epoch 82/200\n",
            "2552/2552 [==============================] - 0s 139us/sample - loss: 0.0096 - val_loss: 0.0086\n",
            "Epoch 83/200\n",
            "2552/2552 [==============================] - 0s 152us/sample - loss: 0.0096 - val_loss: 0.0083\n",
            "Epoch 84/200\n",
            "2552/2552 [==============================] - 0s 154us/sample - loss: 0.0096 - val_loss: 0.0083\n",
            "Epoch 85/200\n",
            "2552/2552 [==============================] - 0s 145us/sample - loss: 0.0096 - val_loss: 0.0083\n",
            "Epoch 86/200\n",
            "2552/2552 [==============================] - 0s 138us/sample - loss: 0.0096 - val_loss: 0.0083\n",
            "Epoch 87/200\n",
            "2552/2552 [==============================] - 0s 142us/sample - loss: 0.0096 - val_loss: 0.0083\n",
            "Epoch 88/200\n",
            "2552/2552 [==============================] - 0s 144us/sample - loss: 0.0096 - val_loss: 0.0083\n",
            "Epoch 89/200\n",
            "2552/2552 [==============================] - 0s 149us/sample - loss: 0.0096 - val_loss: 0.0084\n",
            "Epoch 90/200\n",
            "2552/2552 [==============================] - 0s 139us/sample - loss: 0.0096 - val_loss: 0.0085\n",
            "Epoch 91/200\n",
            "2552/2552 [==============================] - 0s 147us/sample - loss: 0.0096 - val_loss: 0.0089\n",
            "Epoch 92/200\n",
            "2552/2552 [==============================] - 0s 144us/sample - loss: 0.0096 - val_loss: 0.0083\n",
            "Epoch 93/200\n",
            "2552/2552 [==============================] - 0s 140us/sample - loss: 0.0096 - val_loss: 0.0084\n",
            "Epoch 94/200\n",
            "2552/2552 [==============================] - 0s 139us/sample - loss: 0.0096 - val_loss: 0.0083\n",
            "Epoch 95/200\n",
            "2552/2552 [==============================] - 0s 147us/sample - loss: 0.0096 - val_loss: 0.0086\n",
            "Epoch 96/200\n",
            "2552/2552 [==============================] - 0s 136us/sample - loss: 0.0096 - val_loss: 0.0083\n",
            "Epoch 97/200\n",
            "2552/2552 [==============================] - 0s 138us/sample - loss: 0.0096 - val_loss: 0.0083\n",
            "Epoch 98/200\n",
            "2552/2552 [==============================] - 0s 141us/sample - loss: 0.0096 - val_loss: 0.0083\n",
            "Epoch 99/200\n",
            "2552/2552 [==============================] - 0s 140us/sample - loss: 0.0096 - val_loss: 0.0087\n",
            "Epoch 100/200\n",
            "2552/2552 [==============================] - 0s 138us/sample - loss: 0.0096 - val_loss: 0.0083\n",
            "Epoch 101/200\n",
            "2552/2552 [==============================] - 0s 140us/sample - loss: 0.0096 - val_loss: 0.0083\n",
            "Epoch 102/200\n",
            "2552/2552 [==============================] - 0s 148us/sample - loss: 0.0096 - val_loss: 0.0084\n",
            "Epoch 103/200\n",
            "2552/2552 [==============================] - 0s 142us/sample - loss: 0.0097 - val_loss: 0.0084\n",
            "Epoch 104/200\n",
            "2552/2552 [==============================] - 0s 138us/sample - loss: 0.0096 - val_loss: 0.0083\n",
            "Epoch 105/200\n",
            "2552/2552 [==============================] - 0s 139us/sample - loss: 0.0096 - val_loss: 0.0084\n",
            "Epoch 106/200\n",
            "2552/2552 [==============================] - 0s 144us/sample - loss: 0.0096 - val_loss: 0.0084\n",
            "Epoch 107/200\n",
            "2552/2552 [==============================] - 0s 143us/sample - loss: 0.0096 - val_loss: 0.0083\n",
            "Epoch 108/200\n",
            "2552/2552 [==============================] - 0s 142us/sample - loss: 0.0096 - val_loss: 0.0083\n",
            "Epoch 109/200\n",
            "2552/2552 [==============================] - 0s 153us/sample - loss: 0.0097 - val_loss: 0.0084\n",
            "Epoch 110/200\n",
            "2552/2552 [==============================] - 0s 146us/sample - loss: 0.0096 - val_loss: 0.0083\n",
            "Epoch 111/200\n",
            "2552/2552 [==============================] - 0s 148us/sample - loss: 0.0096 - val_loss: 0.0083\n",
            "Epoch 112/200\n",
            "2552/2552 [==============================] - 0s 148us/sample - loss: 0.0095 - val_loss: 0.0083\n",
            "Epoch 113/200\n",
            "2552/2552 [==============================] - 0s 137us/sample - loss: 0.0095 - val_loss: 0.0084\n",
            "Epoch 114/200\n",
            "2552/2552 [==============================] - 0s 148us/sample - loss: 0.0095 - val_loss: 0.0083\n",
            "Epoch 115/200\n",
            "2552/2552 [==============================] - 0s 140us/sample - loss: 0.0095 - val_loss: 0.0083\n",
            "Epoch 116/200\n",
            "2552/2552 [==============================] - 0s 144us/sample - loss: 0.0096 - val_loss: 0.0083\n",
            "Epoch 117/200\n",
            "2552/2552 [==============================] - 0s 138us/sample - loss: 0.0096 - val_loss: 0.0083\n",
            "Epoch 118/200\n",
            "2552/2552 [==============================] - 0s 145us/sample - loss: 0.0095 - val_loss: 0.0083\n",
            "Epoch 119/200\n",
            "2552/2552 [==============================] - 0s 139us/sample - loss: 0.0096 - val_loss: 0.0083\n",
            "Epoch 120/200\n",
            "2552/2552 [==============================] - 0s 144us/sample - loss: 0.0095 - val_loss: 0.0082\n",
            "Epoch 121/200\n",
            "2552/2552 [==============================] - 0s 140us/sample - loss: 0.0095 - val_loss: 0.0082\n",
            "Epoch 122/200\n",
            "2552/2552 [==============================] - 0s 146us/sample - loss: 0.0095 - val_loss: 0.0083\n",
            "Epoch 123/200\n",
            "2552/2552 [==============================] - 0s 139us/sample - loss: 0.0096 - val_loss: 0.0082\n",
            "Epoch 124/200\n",
            "2552/2552 [==============================] - 0s 140us/sample - loss: 0.0096 - val_loss: 0.0083\n",
            "Epoch 125/200\n",
            "2552/2552 [==============================] - 0s 139us/sample - loss: 0.0095 - val_loss: 0.0083\n",
            "Epoch 126/200\n",
            "2552/2552 [==============================] - 0s 147us/sample - loss: 0.0095 - val_loss: 0.0083\n",
            "Epoch 127/200\n",
            "2552/2552 [==============================] - 0s 145us/sample - loss: 0.0096 - val_loss: 0.0082\n",
            "Epoch 128/200\n",
            "2552/2552 [==============================] - 0s 143us/sample - loss: 0.0096 - val_loss: 0.0082\n",
            "Epoch 129/200\n",
            "2552/2552 [==============================] - 0s 140us/sample - loss: 0.0095 - val_loss: 0.0086\n",
            "Epoch 130/200\n",
            "2552/2552 [==============================] - 0s 141us/sample - loss: 0.0095 - val_loss: 0.0083\n",
            "Epoch 131/200\n",
            "2552/2552 [==============================] - 0s 139us/sample - loss: 0.0095 - val_loss: 0.0087\n",
            "Epoch 132/200\n",
            "2552/2552 [==============================] - 0s 147us/sample - loss: 0.0096 - val_loss: 0.0082\n",
            "Epoch 133/200\n",
            "2552/2552 [==============================] - 0s 147us/sample - loss: 0.0095 - val_loss: 0.0086\n",
            "Epoch 134/200\n",
            "2552/2552 [==============================] - 0s 145us/sample - loss: 0.0095 - val_loss: 0.0083\n",
            "Epoch 135/200\n",
            "2552/2552 [==============================] - 0s 150us/sample - loss: 0.0095 - val_loss: 0.0082\n",
            "Epoch 136/200\n",
            "2552/2552 [==============================] - 0s 145us/sample - loss: 0.0095 - val_loss: 0.0083\n",
            "Epoch 137/200\n",
            "2552/2552 [==============================] - 0s 141us/sample - loss: 0.0095 - val_loss: 0.0082\n",
            "Epoch 138/200\n",
            "2552/2552 [==============================] - 0s 148us/sample - loss: 0.0095 - val_loss: 0.0083\n",
            "Epoch 139/200\n",
            "2552/2552 [==============================] - 0s 144us/sample - loss: 0.0095 - val_loss: 0.0090\n",
            "Epoch 140/200\n",
            "2552/2552 [==============================] - 0s 149us/sample - loss: 0.0095 - val_loss: 0.0082\n",
            "Epoch 141/200\n",
            "2552/2552 [==============================] - 0s 139us/sample - loss: 0.0095 - val_loss: 0.0083\n",
            "Epoch 142/200\n",
            "2552/2552 [==============================] - 0s 140us/sample - loss: 0.0095 - val_loss: 0.0082\n",
            "Epoch 143/200\n",
            "2552/2552 [==============================] - 0s 153us/sample - loss: 0.0095 - val_loss: 0.0083\n",
            "Epoch 144/200\n",
            "2552/2552 [==============================] - 0s 138us/sample - loss: 0.0095 - val_loss: 0.0083\n",
            "Epoch 145/200\n",
            "2552/2552 [==============================] - 0s 146us/sample - loss: 0.0095 - val_loss: 0.0083\n",
            "Epoch 146/200\n",
            "2552/2552 [==============================] - 0s 138us/sample - loss: 0.0095 - val_loss: 0.0082\n",
            "Epoch 147/200\n",
            "2552/2552 [==============================] - 0s 141us/sample - loss: 0.0095 - val_loss: 0.0083\n",
            "Epoch 148/200\n",
            "2552/2552 [==============================] - 0s 146us/sample - loss: 0.0095 - val_loss: 0.0088\n",
            "Epoch 149/200\n",
            "2552/2552 [==============================] - 0s 144us/sample - loss: 0.0095 - val_loss: 0.0082\n",
            "Epoch 150/200\n",
            "2552/2552 [==============================] - 0s 137us/sample - loss: 0.0095 - val_loss: 0.0083\n",
            "Epoch 151/200\n",
            "2552/2552 [==============================] - 0s 141us/sample - loss: 0.0096 - val_loss: 0.0082\n",
            "Epoch 152/200\n",
            "2552/2552 [==============================] - 0s 140us/sample - loss: 0.0095 - val_loss: 0.0083\n",
            "Epoch 153/200\n",
            "2552/2552 [==============================] - 0s 151us/sample - loss: 0.0095 - val_loss: 0.0082\n",
            "Epoch 154/200\n",
            "2552/2552 [==============================] - 0s 137us/sample - loss: 0.0095 - val_loss: 0.0083\n",
            "Epoch 155/200\n",
            "2552/2552 [==============================] - 0s 140us/sample - loss: 0.0095 - val_loss: 0.0084\n",
            "Epoch 156/200\n",
            "2552/2552 [==============================] - 0s 141us/sample - loss: 0.0095 - val_loss: 0.0082\n",
            "Epoch 157/200\n",
            "2552/2552 [==============================] - 0s 146us/sample - loss: 0.0095 - val_loss: 0.0082\n",
            "Epoch 158/200\n",
            "2552/2552 [==============================] - 0s 139us/sample - loss: 0.0095 - val_loss: 0.0082\n",
            "Epoch 159/200\n",
            "2552/2552 [==============================] - 0s 152us/sample - loss: 0.0095 - val_loss: 0.0082\n",
            "Epoch 160/200\n",
            "2552/2552 [==============================] - 0s 140us/sample - loss: 0.0095 - val_loss: 0.0082\n",
            "Epoch 161/200\n",
            "2552/2552 [==============================] - 0s 141us/sample - loss: 0.0095 - val_loss: 0.0082\n",
            "Epoch 162/200\n",
            "2552/2552 [==============================] - 0s 140us/sample - loss: 0.0095 - val_loss: 0.0083\n",
            "Epoch 163/200\n",
            "2552/2552 [==============================] - 0s 137us/sample - loss: 0.0094 - val_loss: 0.0082\n",
            "Epoch 164/200\n",
            "2552/2552 [==============================] - 0s 139us/sample - loss: 0.0095 - val_loss: 0.0082\n",
            "Epoch 165/200\n",
            "2552/2552 [==============================] - 0s 139us/sample - loss: 0.0095 - val_loss: 0.0083\n",
            "Epoch 166/200\n",
            "2552/2552 [==============================] - 0s 134us/sample - loss: 0.0095 - val_loss: 0.0082\n",
            "Epoch 167/200\n",
            "2552/2552 [==============================] - 0s 139us/sample - loss: 0.0095 - val_loss: 0.0082\n",
            "Epoch 168/200\n",
            "2552/2552 [==============================] - 0s 136us/sample - loss: 0.0094 - val_loss: 0.0081\n",
            "Epoch 169/200\n",
            "2552/2552 [==============================] - 0s 150us/sample - loss: 0.0094 - val_loss: 0.0082\n",
            "Epoch 170/200\n",
            "2552/2552 [==============================] - 0s 137us/sample - loss: 0.0095 - val_loss: 0.0083\n",
            "Epoch 171/200\n",
            "2552/2552 [==============================] - 0s 138us/sample - loss: 0.0095 - val_loss: 0.0081\n",
            "Epoch 172/200\n",
            "2552/2552 [==============================] - 0s 139us/sample - loss: 0.0095 - val_loss: 0.0081\n",
            "Epoch 173/200\n",
            "2552/2552 [==============================] - 0s 144us/sample - loss: 0.0095 - val_loss: 0.0082\n",
            "Epoch 174/200\n",
            "2552/2552 [==============================] - 0s 153us/sample - loss: 0.0094 - val_loss: 0.0082\n",
            "Epoch 175/200\n",
            "2552/2552 [==============================] - 0s 138us/sample - loss: 0.0094 - val_loss: 0.0082\n",
            "Epoch 176/200\n",
            "2552/2552 [==============================] - 0s 137us/sample - loss: 0.0094 - val_loss: 0.0082\n",
            "Epoch 177/200\n",
            "2552/2552 [==============================] - 0s 140us/sample - loss: 0.0094 - val_loss: 0.0082\n",
            "Epoch 178/200\n",
            "2552/2552 [==============================] - 0s 147us/sample - loss: 0.0095 - val_loss: 0.0083\n",
            "Epoch 179/200\n",
            "2552/2552 [==============================] - 0s 147us/sample - loss: 0.0095 - val_loss: 0.0082\n",
            "Epoch 180/200\n",
            "2552/2552 [==============================] - 0s 138us/sample - loss: 0.0094 - val_loss: 0.0081\n",
            "Epoch 181/200\n",
            "2552/2552 [==============================] - 0s 144us/sample - loss: 0.0095 - val_loss: 0.0081\n",
            "Epoch 182/200\n",
            "2552/2552 [==============================] - 0s 139us/sample - loss: 0.0095 - val_loss: 0.0082\n",
            "Epoch 183/200\n",
            "2552/2552 [==============================] - 0s 141us/sample - loss: 0.0095 - val_loss: 0.0082\n",
            "Epoch 184/200\n",
            "2552/2552 [==============================] - 0s 138us/sample - loss: 0.0095 - val_loss: 0.0081\n",
            "Epoch 185/200\n",
            "2552/2552 [==============================] - 0s 147us/sample - loss: 0.0095 - val_loss: 0.0082\n",
            "Epoch 186/200\n",
            "2552/2552 [==============================] - 0s 146us/sample - loss: 0.0094 - val_loss: 0.0082\n",
            "Epoch 187/200\n",
            "2552/2552 [==============================] - 0s 142us/sample - loss: 0.0094 - val_loss: 0.0081\n",
            "Epoch 188/200\n",
            "2552/2552 [==============================] - 0s 140us/sample - loss: 0.0094 - val_loss: 0.0081\n",
            "Epoch 189/200\n",
            "2552/2552 [==============================] - 0s 138us/sample - loss: 0.0094 - val_loss: 0.0081\n",
            "Epoch 190/200\n",
            "2552/2552 [==============================] - 0s 140us/sample - loss: 0.0094 - val_loss: 0.0083\n",
            "Epoch 191/200\n",
            "2552/2552 [==============================] - 0s 139us/sample - loss: 0.0095 - val_loss: 0.0081\n",
            "Epoch 192/200\n",
            "2552/2552 [==============================] - 0s 145us/sample - loss: 0.0094 - val_loss: 0.0083\n",
            "Epoch 193/200\n",
            "2552/2552 [==============================] - 0s 138us/sample - loss: 0.0095 - val_loss: 0.0081\n",
            "Epoch 194/200\n",
            "2552/2552 [==============================] - 0s 138us/sample - loss: 0.0094 - val_loss: 0.0082\n",
            "Epoch 195/200\n",
            "2552/2552 [==============================] - 0s 148us/sample - loss: 0.0094 - val_loss: 0.0081\n",
            "Epoch 196/200\n",
            "2552/2552 [==============================] - 0s 139us/sample - loss: 0.0094 - val_loss: 0.0081\n",
            "Epoch 197/200\n",
            "2552/2552 [==============================] - 0s 141us/sample - loss: 0.0094 - val_loss: 0.0081\n",
            "Epoch 198/200\n",
            "2552/2552 [==============================] - 0s 151us/sample - loss: 0.0094 - val_loss: 0.0082\n",
            "Epoch 199/200\n",
            "2552/2552 [==============================] - 0s 143us/sample - loss: 0.0095 - val_loss: 0.0083\n",
            "Epoch 200/200\n",
            "2552/2552 [==============================] - 0s 144us/sample - loss: 0.0094 - val_loss: 0.0082\n"
          ],
          "name": "stdout"
        },
        {
          "output_type": "execute_result",
          "data": {
            "text/plain": [
              "<tensorflow.python.keras.callbacks.History at 0x7f295a78fef0>"
            ]
          },
          "metadata": {
            "tags": []
          },
          "execution_count": 72
        }
      ]
    },
    {
      "cell_type": "markdown",
      "metadata": {
        "id": "v_wTb77xa17t",
        "colab_type": "text"
      },
      "source": [
        "## Make Predictions and Evaluate your model"
      ]
    },
    {
      "cell_type": "code",
      "metadata": {
        "id": "UTgdpg1OmJrh",
        "colab_type": "code",
        "colab": {
          "base_uri": "https://localhost:8080/",
          "height": 457
        },
        "outputId": "9ac9bb5d-4153-4ff6-df22-7b2270e67cd5"
      },
      "source": [
        "X_test"
      ],
      "execution_count": 73,
      "outputs": [
        {
          "output_type": "execute_result",
          "data": {
            "text/plain": [
              "array([[[0.58174905],\n",
              "        [0.54372624],\n",
              "        [0.51330798]],\n",
              "\n",
              "       [[0.54372624],\n",
              "        [0.51330798],\n",
              "        [0.57034221]],\n",
              "\n",
              "       [[0.51330798],\n",
              "        [0.57034221],\n",
              "        [0.51711027]],\n",
              "\n",
              "       ...,\n",
              "\n",
              "       [[0.55513308],\n",
              "        [0.53231939],\n",
              "        [0.51711027]],\n",
              "\n",
              "       [[0.53231939],\n",
              "        [0.51711027],\n",
              "        [0.51330798]],\n",
              "\n",
              "       [[0.51711027],\n",
              "        [0.51330798],\n",
              "        [0.59695817]]])"
            ]
          },
          "metadata": {
            "tags": []
          },
          "execution_count": 73
        }
      ]
    },
    {
      "cell_type": "code",
      "metadata": {
        "id": "aKx11BUtmMCz",
        "colab_type": "code",
        "colab": {
          "base_uri": "https://localhost:8080/",
          "height": 140
        },
        "outputId": "5e574e2c-9ae0-485c-e93c-9b7bb7cc9500"
      },
      "source": [
        "y_predict"
      ],
      "execution_count": 74,
      "outputs": [
        {
          "output_type": "execute_result",
          "data": {
            "text/plain": [
              "array([[0.5532748 ],\n",
              "       [0.5250256 ],\n",
              "       [0.50217503],\n",
              "       ...,\n",
              "       [0.5050433 ],\n",
              "       [0.50217503],\n",
              "       [0.56447506]], dtype=float32)"
            ]
          },
          "metadata": {
            "tags": []
          },
          "execution_count": 74
        }
      ]
    },
    {
      "cell_type": "code",
      "metadata": {
        "id": "qpaYPAA2imP0",
        "colab_type": "code",
        "colab": {}
      },
      "source": [
        "y_predict=model.predict(X_test)"
      ],
      "execution_count": 0,
      "outputs": []
    },
    {
      "cell_type": "code",
      "metadata": {
        "id": "wdRU_X4DjDfu",
        "colab_type": "code",
        "colab": {
          "base_uri": "https://localhost:8080/",
          "height": 52
        },
        "outputId": "1d9935ee-6419-4986-c295-8d27dc82e1fb"
      },
      "source": [
        "model.evaluate(X_test,y_predict)"
      ],
      "execution_count": 76,
      "outputs": [
        {
          "output_type": "stream",
          "text": [
            "1092/1092 [==============================] - 0s 41us/sample - loss: 1.2137e-15\n"
          ],
          "name": "stdout"
        },
        {
          "output_type": "execute_result",
          "data": {
            "text/plain": [
              "1.2137218377266593e-15"
            ]
          },
          "metadata": {
            "tags": []
          },
          "execution_count": 76
        }
      ]
    },
    {
      "cell_type": "code",
      "metadata": {
        "colab_type": "code",
        "id": "85Ip5wrq7Jyi",
        "colab": {}
      },
      "source": [
        "#Get prediction for both Training and Test Data\n",
        "trainPredict = model.predict(X_train)\n",
        "testPredict = model.predict(X_test)\n"
      ],
      "execution_count": 0,
      "outputs": []
    },
    {
      "cell_type": "code",
      "metadata": {
        "id": "Y7lxHgNRfRgr",
        "colab_type": "code",
        "colab": {}
      },
      "source": [
        "#Un-normalize the predited data\n",
        "trainPredict = model.predict(X_train)\n",
        "testPredict = model.predict(X_test)\n",
        "trainPredict = scaler.inverse_transform(trainPredict)\n",
        "testPredict = scaler.inverse_transform(testPredict)"
      ],
      "execution_count": 0,
      "outputs": []
    },
    {
      "cell_type": "markdown",
      "metadata": {
        "id": "hvxT8YJ7a17z",
        "colab_type": "text"
      },
      "source": [
        "## Plot the results"
      ]
    },
    {
      "cell_type": "code",
      "metadata": {
        "colab_type": "code",
        "id": "FHbIWp-D7Jyn",
        "colab": {}
      },
      "source": [
        "import matplotlib.pyplot as plt"
      ],
      "execution_count": 0,
      "outputs": []
    },
    {
      "cell_type": "code",
      "metadata": {
        "id": "taMVIZEYfVC1",
        "colab_type": "code",
        "outputId": "8bb06e83-1385-46c3-f6be-7e60981282d5",
        "colab": {
          "base_uri": "https://localhost:8080/",
          "height": 592
        }
      },
      "source": [
        "trainPredictPlot = np.empty_like(scaled)\n",
        "trainPredictPlot[:, :] = np.nan\n",
        "trainPredictPlot[window_size:len(trainPredict)+window_size, :] = trainPredict\n",
        "# shift test predictions for plotting\n",
        "testPredictPlot = np.empty_like(scaled)\n",
        "testPredictPlot[:, :] = np.nan\n",
        "testPredictPlot[len(trainPredict)+(window_size*2):len(scaled), :] = testPredict\n",
        "# plot baseline and predictions\n",
        "plt.figure(figsize=(20,10))\n",
        "plt.plot(scaler.inverse_transform(scaled))\n",
        "plt.plot(trainPredictPlot)\n",
        "plt.plot(testPredictPlot)\n",
        "plt.show()"
      ],
      "execution_count": 79,
      "outputs": [
        {
          "output_type": "display_data",
          "data": {
            "image/png": "[encoded data removed]",
            "text/plain": [
              "<Figure size 1440x720 with 1 Axes>"
            ]
          },
          "metadata": {
            "tags": []
          }
        }
      ]
    },
    {
      "cell_type": "code",
      "metadata": {
        "id": "IjQrZtC6fXl5",
        "colab_type": "code",
        "colab": {}
      },
      "source": [
        ""
      ],
      "execution_count": 0,
      "outputs": []
    }
  ]
}