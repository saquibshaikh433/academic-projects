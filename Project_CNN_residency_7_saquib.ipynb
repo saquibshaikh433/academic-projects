{
  "nbformat": 4,
  "nbformat_minor": 0,
  "metadata": {
    "colab": {
      "name": "Project_CNN_residency_7_saquib.ipynb",
      "provenance": [],
      "collapsed_sections": []
    },
    "kernelspec": {
      "name": "python3",
      "display_name": "Python 3"
    },
    "accelerator": "GPU"
  },
  "cells": [
    {
      "cell_type": "code",
      "metadata": {
        "id": "83PUYivSnsfS",
        "colab_type": "code",
        "outputId": "87ebe069-e7fe-4a24-e4a5-1ec810c92f74",
        "colab": {
          "base_uri": "https://localhost:8080/",
          "height": 125
        }
      },
      "source": [
        "from google.colab import drive\n",
        "drive.mount('/content/drive/')\n"
      ],
      "execution_count": 0,
      "outputs": [
        {
          "output_type": "stream",
          "text": [
            "Go to this URL in a browser: https://accounts.google.com/o/oauth2/auth?client_id=947318989803-6bn6qk8qdgf4n4g3pfee6491hc0brc4i.apps.googleusercontent.com&redirect_uri=urn%3aietf%3awg%3aoauth%3a2.0%3aoob&response_type=code&scope=email%20https%3a%2f%2fwww.googleapis.com%2fauth%2fdocs.test%20https%3a%2f%2fwww.googleapis.com%2fauth%2fdrive%20https%3a%2f%2fwww.googleapis.com%2fauth%2fdrive.photos.readonly%20https%3a%2f%2fwww.googleapis.com%2fauth%2fpeopleapi.readonly\n",
            "\n",
            "Enter your authorization code:\n",
            "··········\n",
            "Mounted at /content/drive/\n"
          ],
          "name": "stdout"
        }
      ]
    },
    {
      "cell_type": "markdown",
      "metadata": {
        "id": "rpL-uzXMUpLY",
        "colab_type": "text"
      },
      "source": [
        "# **Download** the dataset "
      ]
    },
    {
      "cell_type": "code",
      "metadata": {
        "id": "UFDFH9_ssNTA",
        "colab_type": "code",
        "outputId": "894d6a1d-d3e2-44b4-be46-540c5b816096",
        "colab": {
          "base_uri": "https://localhost:8080/",
          "height": 275
        }
      },
      "source": [
        "!wget -P gdrive/My\\ Drive /content/sample_data/Project\\ CNN / https://vision.eng.au.dk/?download=/data/WeedData/Nonsegmented.zip"
      ],
      "execution_count": 0,
      "outputs": [
        {
          "output_type": "stream",
          "text": [
            "/content/sample_data/Project CNN: Scheme missing.\n",
            "/: Scheme missing.\n",
            "--2020-02-19 04:56:13--  https://vision.eng.au.dk/?download=/data/WeedData/Nonsegmented.zip\n",
            "Resolving vision.eng.au.dk (vision.eng.au.dk)... 130.225.18.133\n",
            "Connecting to vision.eng.au.dk (vision.eng.au.dk)|130.225.18.133|:443... connected.\n",
            "HTTP request sent, awaiting response... 302 Found\n",
            "Location: /data/WeedData/Nonsegmented.zip [following]\n",
            "--2020-02-19 04:56:14--  https://vision.eng.au.dk/data/WeedData/Nonsegmented.zip\n",
            "Reusing existing connection to vision.eng.au.dk:443.\n",
            "HTTP request sent, awaiting response... 200 OK\n",
            "Length: 1748383102 (1.6G) [application/zip]\n",
            "Saving to: ‘gdrive/My Drive/index.html?download=%2Fdata%2FWeedData%2FNonsegmented.zip’\n",
            "\n",
            "wnload=%2Fdata%2FWe  98%[==================> ]   1.60G   780KB/s    eta 37s    "
          ],
          "name": "stdout"
        }
      ]
    },
    {
      "cell_type": "code",
      "metadata": {
        "id": "Tg_iVvY4wIkC",
        "colab_type": "code",
        "outputId": "2b1267a1-36e9-413f-9cd8-3a7650b32c35",
        "colab": {
          "base_uri": "https://localhost:8080/",
          "height": 50
        }
      },
      "source": [
        "#Check if file is downloaded\n",
        "!ls -l gdrive"
      ],
      "execution_count": 0,
      "outputs": [
        {
          "output_type": "stream",
          "text": [
            "total 4\n",
            "drwxr-xr-x 2 root root 4096 Feb  9 11:33 'My Drive'\n"
          ],
          "name": "stdout"
        }
      ]
    },
    {
      "cell_type": "markdown",
      "metadata": {
        "id": "mGJq62OVU8zM",
        "colab_type": "text"
      },
      "source": [
        "# **Unzip Downloaded File**"
      ]
    },
    {
      "cell_type": "code",
      "metadata": {
        "id": "ZMdlAlgb00lw",
        "colab_type": "code",
        "outputId": "9463be41-71e6-421e-c926-1c1ea0acfcc2",
        "colab": {
          "base_uri": "https://localhost:8080/",
          "height": 151
        }
      },
      "source": [
        "!apt install unzip"
      ],
      "execution_count": 0,
      "outputs": [
        {
          "output_type": "stream",
          "text": [
            "\rReading package lists... 0%\r\rReading package lists... 0%\r\rReading package lists... 0%\r\rReading package lists... 7%\r\rReading package lists... 7%\r\rReading package lists... 7%\r\rReading package lists... 7%\r\rReading package lists... 65%\r\rReading package lists... 65%\r\rReading package lists... 65%\r\rReading package lists... 65%\r\rReading package lists... 72%\r\rReading package lists... 72%\r\rReading package lists... 73%\r\rReading package lists... 73%\r\rReading package lists... 82%\r\rReading package lists... 82%\r\rReading package lists... 82%\r\rReading package lists... 82%\r\rReading package lists... 82%\r\rReading package lists... 82%\r\rReading package lists... 82%\r\rReading package lists... 82%\r\rReading package lists... 82%\r\rReading package lists... 87%\r\rReading package lists... 87%\r\rReading package lists... 87%\r\rReading package lists... 87%\r\rReading package lists... 93%\r\rReading package lists... 93%\r\rReading package lists... 93%\r\rReading package lists... 93%\r\rReading package lists... 93%\r\rReading package lists... 93%\r\rReading package lists... 94%\r\rReading package lists... 94%\r\rReading package lists... 95%\r\rReading package lists... 95%\r\rReading package lists... 98%\r\rReading package lists... 98%\r\rReading package lists... 98%\r\rReading package lists... 98%\r\rReading package lists... Done\r\n",
            "\rBuilding dependency tree... 0%\r\rBuilding dependency tree... 0%\r\rBuilding dependency tree... 50%\r\rBuilding dependency tree... 50%\r\rBuilding dependency tree       \r\n",
            "\rReading state information... 0%\r\rReading state information... 0%\r\rReading state information... Done\r\n",
            "unzip is already the newest version (6.0-21ubuntu1).\n",
            "The following package was automatically installed and is no longer required:\n",
            "  libnvidia-common-430\n",
            "Use 'apt autoremove' to remove it.\n",
            "0 upgraded, 0 newly installed, 0 to remove and 25 not upgraded.\n"
          ],
          "name": "stdout"
        }
      ]
    },
    {
      "cell_type": "code",
      "metadata": {
        "id": "Cockk1IkxFqi",
        "colab_type": "code",
        "colab": {}
      },
      "source": [
        "#!unzip /content/gdrive/My Drive/Seed Nonsegmented.zip -d /content/gdrive/My Drive\n",
        "!unzip -q \"/content/gdrive/My Drive/Seed Nonsegmented.zip\""
      ],
      "execution_count": 0,
      "outputs": []
    },
    {
      "cell_type": "code",
      "metadata": {
        "id": "1Sp1Pdju49c6",
        "colab_type": "code",
        "outputId": "f91d9de6-05c8-4c2d-d7e5-3605b32a019f",
        "colab": {
          "base_uri": "https://localhost:8080/",
          "height": 84
        }
      },
      "source": [
        "!ls Nonsegmented"
      ],
      "execution_count": 0,
      "outputs": [
        {
          "output_type": "stream",
          "text": [
            " Black-grass\t    'Common wheat'\t'Scentless Mayweed'\n",
            " Charlock\t    'Fat Hen'\t\t'Shepherd’s Purse'\n",
            " Cleavers\t    'Loose Silky-bent'\t'Small-flowered Cranesbill'\n",
            "'Common Chickweed'   Maize\t\t'Sugar beet'\n"
          ],
          "name": "stdout"
        }
      ]
    },
    {
      "cell_type": "code",
      "metadata": {
        "id": "X3hzthpv54KM",
        "colab_type": "code",
        "colab": {}
      },
      "source": [
        "#list of useful imports that  I will use\n",
        "%matplotlib inline\n",
        "import os\n",
        "\n",
        "import matplotlib.pyplot as plt\n",
        "import pandas as pd\n",
        "import cv2\n",
        "import numpy as np\n",
        "from glob import glob\n",
        "import seaborn as sns"
      ],
      "execution_count": 0,
      "outputs": []
    },
    {
      "cell_type": "code",
      "metadata": {
        "id": "114tT1ao8GmJ",
        "colab_type": "code",
        "colab": {}
      },
      "source": [
        "#save the path into variable to use it easily next times.\n",
        "TRAin_DATA_FOLDER= \"/content/Nonsegmented\""
      ],
      "execution_count": 0,
      "outputs": []
    },
    {
      "cell_type": "markdown",
      "metadata": {
        "id": "ICg5WW3V8bJG",
        "colab_type": "text"
      },
      "source": [
        "# **Read images and remove missing values save images in images list**"
      ]
    },
    {
      "cell_type": "code",
      "metadata": {
        "id": "vZwz-Hfy8Qdj",
        "colab_type": "code",
        "colab": {}
      },
      "source": [
        "images = []\n",
        "classes=[]\n",
        "missing=0\n",
        "for class_folder_name in os.listdir(TRAin_DATA_FOLDER):\n",
        "    class_folder_path = os.path.join(TRAin_DATA_FOLDER, class_folder_name)\n",
        "    class_label = class_folder_name\n",
        "    \n",
        "    for image_path in glob(os.path.join(class_folder_path, \"*.png\")):\n",
        "        image_bgr = cv2.imread(image_path, cv2.IMREAD_COLOR)\n",
        "        if image_bgr is None: # if the file contain any missig value ignore it\n",
        "          missing += 1\n",
        "          continue\n",
        "        images.append(image_bgr)\n",
        "        \n",
        "        classes.append(class_label)\n",
        "        "
      ],
      "execution_count": 0,
      "outputs": []
    },
    {
      "cell_type": "code",
      "metadata": {
        "id": "_5HP_rag8t0D",
        "colab_type": "code",
        "outputId": "51e12dc3-d7f1-4238-a00f-1a538f7ed18c",
        "colab": {
          "base_uri": "https://localhost:8080/",
          "height": 34
        }
      },
      "source": [
        "len(images) # number of all images"
      ],
      "execution_count": 0,
      "outputs": [
        {
          "output_type": "execute_result",
          "data": {
            "text/plain": [
              "5544"
            ]
          },
          "metadata": {
            "tags": []
          },
          "execution_count": 32
        }
      ]
    },
    {
      "cell_type": "markdown",
      "metadata": {
        "id": "NxImvOIp9Nys",
        "colab_type": "text"
      },
      "source": [
        "\n",
        "**resizing images**"
      ]
    },
    {
      "cell_type": "code",
      "metadata": {
        "id": "r_ZwQuIf8-Qf",
        "colab_type": "code",
        "colab": {}
      },
      "source": [
        "def resize_images(img):\n",
        "\n",
        "  img = np.array(img).astype(np.uint8)\n",
        "  #print(img.dtype)\n",
        "  res = cv2.resize(img,(256,256), interpolation = cv2.INTER_CUBIC)\n",
        "  return res\n"
      ],
      "execution_count": 0,
      "outputs": []
    },
    {
      "cell_type": "code",
      "metadata": {
        "id": "aP1VLsHG9jLL",
        "colab_type": "code",
        "colab": {}
      },
      "source": [
        "\n",
        "#save resized images into images.\n",
        "images = [resize_images(img) for img in images]"
      ],
      "execution_count": 0,
      "outputs": []
    },
    {
      "cell_type": "code",
      "metadata": {
        "id": "QH3zw5N09tf5",
        "colab_type": "code",
        "outputId": "ef88f0f1-c0df-4269-b61f-dbb76c929ed3",
        "colab": {
          "base_uri": "https://localhost:8080/",
          "height": 34
        }
      },
      "source": [
        "images[0].shape"
      ],
      "execution_count": 0,
      "outputs": [
        {
          "output_type": "execute_result",
          "data": {
            "text/plain": [
              "(256, 256, 3)"
            ]
          },
          "metadata": {
            "tags": []
          },
          "execution_count": 35
        }
      ]
    },
    {
      "cell_type": "markdown",
      "metadata": {
        "id": "znRinH_c_saO",
        "colab_type": "text"
      },
      "source": [
        "**number of images in each class**\n"
      ]
    },
    {
      "cell_type": "code",
      "metadata": {
        "id": "CihvVRq5_Bzt",
        "colab_type": "code",
        "outputId": "f8a7cf93-b8f4-4255-8ad0-f855a5e7e3b9",
        "colab": {
          "base_uri": "https://localhost:8080/",
          "height": 252
        }
      },
      "source": [
        "#see number of images in each lablel\n",
        "images = np.array(images)\n",
        "classes = np.array(classes)\n",
        "print(\"images shape: \", images.shape)\n",
        "print(\"classes shape: \", classes.shape)\n",
        "#for key,value in images_per_class.items():\n",
        "   # print(\"number of {0} images is  -> {1}\".format(key, len(value)))\n",
        "  \n",
        "for label in set(classes):\n",
        "\n",
        "  print(\"number of {} images is  -> {}\".format(\n",
        "        label, \n",
        "        len(images[classes == label])))"
      ],
      "execution_count": 0,
      "outputs": [
        {
          "output_type": "stream",
          "text": [
            "images shape:  (5544, 256, 256, 3)\n",
            "classes shape:  (5544,)\n",
            "number of Fat Hen images is  -> 538\n",
            "number of Cleavers images is  -> 335\n",
            "number of Scentless Mayweed images is  -> 607\n",
            "number of Maize images is  -> 257\n",
            "number of Shepherd’s Purse images is  -> 274\n",
            "number of Small-flowered Cranesbill images is  -> 576\n",
            "number of Loose Silky-bent images is  -> 766\n",
            "number of Black-grass images is  -> 310\n",
            "number of Sugar beet images is  -> 463\n",
            "number of Charlock images is  -> 452\n",
            "number of Common wheat images is  -> 253\n",
            "number of Common Chickweed images is  -> 713\n"
          ],
          "name": "stdout"
        }
      ]
    },
    {
      "cell_type": "markdown",
      "metadata": {
        "id": "lhgLnEf5_6Ez",
        "colab_type": "text"
      },
      "source": [
        "**plot the distrbution of number of images**"
      ]
    },
    {
      "cell_type": "code",
      "metadata": {
        "id": "YG1lbt_x_5ni",
        "colab_type": "code",
        "outputId": "6ed3c43d-49c9-40d1-9b2d-d797b1ee66ef",
        "colab": {
          "base_uri": "https://localhost:8080/",
          "height": 530
        }
      },
      "source": [
        "values =[]\n",
        "labels=[]\n",
        "for label in set(classes):\n",
        "  values.append(len(images[classes == label]))\n",
        "  labels.append(label)\n",
        "\n",
        "fig, ax = plt.subplots(figsize=(22,7))\n",
        "ax.bar(labels, values)\n",
        "ax.set_xlabel(\" classes\")\n",
        "ax.set_ylabel(\"number of images\")\n",
        "#axs[1].scatter(label, )\n",
        "  #axs[2].plot(names, values)\n",
        "fig.suptitle('Categorical Plotting')"
      ],
      "execution_count": 0,
      "outputs": [
        {
          "output_type": "execute_result",
          "data": {
            "text/plain": [
              "Text(0.5, 0.98, 'Categorical Plotting')"
            ]
          },
          "metadata": {
            "tags": []
          },
          "execution_count": 37
        },
        {
          "output_type": "display_data",
          "data": {
            "image/png": "[encoded data removed]",
            "text/plain": [
              "<Figure size 1584x504 with 1 Axes>"
            ]
          },
          "metadata": {
            "tags": []
          }
        }
      ]
    },
    {
      "cell_type": "markdown",
      "metadata": {
        "id": "SfhTuEJ8ATby",
        "colab_type": "text"
      },
      "source": [
        "**Label encoder**"
      ]
    },
    {
      "cell_type": "code",
      "metadata": {
        "id": "Foch4MhYASOl",
        "colab_type": "code",
        "colab": {}
      },
      "source": [
        "from sklearn.preprocessing import LabelBinarizer\n",
        "enc = LabelBinarizer()\n",
        "y = enc.fit_transform(classes)"
      ],
      "execution_count": 0,
      "outputs": []
    },
    {
      "cell_type": "code",
      "metadata": {
        "id": "0nlQUPzrAg6H",
        "colab_type": "code",
        "outputId": "76498c4d-77c9-4339-dec2-dde6f80ce57b",
        "colab": {
          "base_uri": "https://localhost:8080/",
          "height": 34
        }
      },
      "source": [
        "y[0]"
      ],
      "execution_count": 0,
      "outputs": [
        {
          "output_type": "execute_result",
          "data": {
            "text/plain": [
              "array([0, 0, 0, 0, 1, 0, 0, 0, 0, 0, 0, 0])"
            ]
          },
          "metadata": {
            "tags": []
          },
          "execution_count": 39
        }
      ]
    },
    {
      "cell_type": "markdown",
      "metadata": {
        "id": "d1ayJuZCAvDG",
        "colab_type": "text"
      },
      "source": [
        "Spliting data into training and testing set\n",
        "training set : 70%\n",
        "testing set: 30% "
      ]
    },
    {
      "cell_type": "code",
      "metadata": {
        "id": "GFJNtlc-Aqys",
        "colab_type": "code",
        "outputId": "ee095883-ad93-45b7-93da-bf448ca5ff56",
        "colab": {
          "base_uri": "https://localhost:8080/",
          "height": 34
        }
      },
      "source": [
        "from sklearn.model_selection import train_test_split\n",
        "X_train, X_test, y_train, y_test = train_test_split(images, y, test_size=0.3, random_state=50)\n",
        "X_train.shape"
      ],
      "execution_count": 0,
      "outputs": [
        {
          "output_type": "execute_result",
          "data": {
            "text/plain": [
              "(3880, 256, 256, 3)"
            ]
          },
          "metadata": {
            "tags": []
          },
          "execution_count": 40
        }
      ]
    },
    {
      "cell_type": "markdown",
      "metadata": {
        "id": "A4MEmLdFBJOX",
        "colab_type": "text"
      },
      "source": [
        "Create validation set\n",
        "split test data into 50% test, 50% validation"
      ]
    },
    {
      "cell_type": "code",
      "metadata": {
        "id": "XVHVR9mWBC8X",
        "colab_type": "code",
        "colab": {}
      },
      "source": [
        "random_seed = 2\n",
        "from sklearn.model_selection import train_test_split\n",
        "X_test, X_val, y_test, Y_val = train_test_split(X_test,y_test, test_size = 0.5, random_state=random_seed)"
      ],
      "execution_count": 0,
      "outputs": []
    },
    {
      "cell_type": "code",
      "metadata": {
        "id": "o3WkM93cBWPn",
        "colab_type": "code",
        "outputId": "ddd5613f-cc95-4718-b5db-8c5f36608d1e",
        "colab": {
          "base_uri": "https://localhost:8080/",
          "height": 50
        }
      },
      "source": [
        "print(X_test.shape)\n",
        "print(X_val.shape)"
      ],
      "execution_count": 0,
      "outputs": [
        {
          "output_type": "stream",
          "text": [
            "(832, 256, 256, 3)\n",
            "(832, 256, 256, 3)\n"
          ],
          "name": "stdout"
        }
      ]
    },
    {
      "cell_type": "markdown",
      "metadata": {
        "id": "PkrwokNJBg3U",
        "colab_type": "text"
      },
      "source": [
        "# **CNN MODEL**\n"
      ]
    },
    {
      "cell_type": "code",
      "metadata": {
        "id": "V-I0JR1oBoqY",
        "colab_type": "code",
        "outputId": "0f15c026-af5d-4730-bd54-5e145cf23b55",
        "colab": {
          "base_uri": "https://localhost:8080/",
          "height": 689
        }
      },
      "source": [
        "from keras.utils.np_utils import to_categorical # convert to one-hot-encoding\n",
        "from keras.models import Sequential\n",
        "from keras.layers import Dense, Dropout, Flatten, Conv2D, MaxPool2D, GlobalMaxPooling2D\n",
        "from keras.optimizers import RMSprop\n",
        "from keras.preprocessing.image import ImageDataGenerator\n",
        "from keras.optimizers import Adam\n",
        "\n",
        "# Set the CNN model \n",
        "\n",
        "batch_size = None\n",
        "\n",
        "model = Sequential()\n",
        "\n",
        "model.add(Conv2D(filters = 32, kernel_size = (5,5),padding = 'Same', \n",
        "                 activation ='relu', batch_input_shape = (batch_size,256, 256, 3)))\n",
        "\n",
        "\n",
        "\n",
        "model.add(Conv2D(filters = 32, kernel_size = (5,5),padding = 'Same', \n",
        "                 activation ='relu'))\n",
        "model.add(MaxPool2D(pool_size=(2,2)))\n",
        "model.add(Dropout(0.2))\n",
        "\n",
        "\n",
        "model.add(Conv2D(filters = 64, kernel_size = (3,3),padding = 'Same', \n",
        "                 activation ='relu'))\n",
        "\n",
        "model.add(Conv2D(filters = 64, kernel_size = (3,3),padding = 'same', \n",
        "                 activation ='relu'))\n",
        "model.add(MaxPool2D(pool_size=(2,2), strides=(2,2)))\n",
        "model.add(Dropout(0.3))\n",
        "\n",
        "model.add(Conv2D(filters = 128, kernel_size = (3,3),padding = 'Same', \n",
        "                 activation ='relu'))\n",
        "\n",
        "model.add(Conv2D(filters = 128, kernel_size = (3,3),padding = 'Same', \n",
        "                 activation ='relu'))\n",
        "\n",
        "model.add(MaxPool2D(pool_size=(2,2), strides=(2,2)))\n",
        "model.add(Dropout(0.4))\n",
        "\n",
        "\n",
        "\n",
        "model.add(GlobalMaxPooling2D())\n",
        "model.add(Dense(256, activation = \"relu\"))\n",
        "model.add(Dropout(0.5))\n",
        "model.add(Dense(12, activation = \"softmax\"))\n",
        "model.summary()"
      ],
      "execution_count": 0,
      "outputs": [
        {
          "output_type": "stream",
          "text": [
            "Model: \"sequential_4\"\n",
            "_________________________________________________________________\n",
            "Layer (type)                 Output Shape              Param #   \n",
            "=================================================================\n",
            "conv2d_9 (Conv2D)            (None, 256, 256, 32)      2432      \n",
            "_________________________________________________________________\n",
            "conv2d_10 (Conv2D)           (None, 256, 256, 32)      25632     \n",
            "_________________________________________________________________\n",
            "max_pooling2d_4 (MaxPooling2 (None, 128, 128, 32)      0         \n",
            "_________________________________________________________________\n",
            "dropout_5 (Dropout)          (None, 128, 128, 32)      0         \n",
            "_________________________________________________________________\n",
            "conv2d_11 (Conv2D)           (None, 128, 128, 64)      18496     \n",
            "_________________________________________________________________\n",
            "conv2d_12 (Conv2D)           (None, 128, 128, 64)      36928     \n",
            "_________________________________________________________________\n",
            "max_pooling2d_5 (MaxPooling2 (None, 64, 64, 64)        0         \n",
            "_________________________________________________________________\n",
            "dropout_6 (Dropout)          (None, 64, 64, 64)        0         \n",
            "_________________________________________________________________\n",
            "conv2d_13 (Conv2D)           (None, 64, 64, 128)       73856     \n",
            "_________________________________________________________________\n",
            "conv2d_14 (Conv2D)           (None, 64, 64, 128)       147584    \n",
            "_________________________________________________________________\n",
            "max_pooling2d_6 (MaxPooling2 (None, 32, 32, 128)       0         \n",
            "_________________________________________________________________\n",
            "dropout_7 (Dropout)          (None, 32, 32, 128)       0         \n",
            "_________________________________________________________________\n",
            "global_max_pooling2d_2 (Glob (None, 128)               0         \n",
            "_________________________________________________________________\n",
            "dense_3 (Dense)              (None, 256)               33024     \n",
            "_________________________________________________________________\n",
            "dropout_8 (Dropout)          (None, 256)               0         \n",
            "_________________________________________________________________\n",
            "dense_4 (Dense)              (None, 12)                3084      \n",
            "=================================================================\n",
            "Total params: 341,036\n",
            "Trainable params: 341,036\n",
            "Non-trainable params: 0\n",
            "_________________________________________________________________\n"
          ],
          "name": "stdout"
        }
      ]
    },
    {
      "cell_type": "code",
      "metadata": {
        "id": "r8Y1jYXjB9G8",
        "colab_type": "code",
        "colab": {}
      },
      "source": [
        "opt = Adam(lr=0.001)\n",
        "\n",
        "optimizer = RMSprop(lr=0.001, rho=0.9, epsilon=1e-08, decay=0.0)\n",
        "model.compile(optimizer = optimizer, loss = \"categorical_crossentropy\", metrics = [\"accuracy\"])"
      ],
      "execution_count": 0,
      "outputs": []
    },
    {
      "cell_type": "code",
      "metadata": {
        "id": "917i6Wm4Ct96",
        "colab_type": "code",
        "outputId": "e20ff4a9-c012-4e4e-aeb0-b29ea2505510",
        "colab": {
          "base_uri": "https://localhost:8080/",
          "height": 1000
        }
      },
      "source": [
        "\n",
        "# I put epochs = 70 and I waited until it reach a acceptable accuracy for me then I stopped the training at this point.\n",
        "model.fit(X_train, y_train, epochs = 70, validation_data = (X_val,Y_val),batch_size = batch_size)"
      ],
      "execution_count": 0,
      "outputs": [
        {
          "output_type": "stream",
          "text": [
            "Train on 3880 samples, validate on 832 samples\n",
            "Epoch 1/70\n",
            "3880/3880 [==============================] - 16s 4ms/step - loss: 11.2556 - acc: 0.1126 - val_loss: 2.4470 - val_acc: 0.1466\n",
            "Epoch 2/70\n",
            "3880/3880 [==============================] - 15s 4ms/step - loss: 2.4413 - acc: 0.1639 - val_loss: 2.3056 - val_acc: 0.2909\n",
            "Epoch 3/70\n",
            "3880/3880 [==============================] - 15s 4ms/step - loss: 2.2187 - acc: 0.2425 - val_loss: 2.3654 - val_acc: 0.1550\n",
            "Epoch 4/70\n",
            "3880/3880 [==============================] - 15s 4ms/step - loss: 2.0933 - acc: 0.2974 - val_loss: 2.0556 - val_acc: 0.4014\n",
            "Epoch 5/70\n",
            "3880/3880 [==============================] - 15s 4ms/step - loss: 1.8616 - acc: 0.3724 - val_loss: 1.7982 - val_acc: 0.4111\n",
            "Epoch 6/70\n",
            "3880/3880 [==============================] - 15s 4ms/step - loss: 1.7075 - acc: 0.4155 - val_loss: 1.5982 - val_acc: 0.4567\n",
            "Epoch 7/70\n",
            "3880/3880 [==============================] - 15s 4ms/step - loss: 1.4845 - acc: 0.4856 - val_loss: 1.6785 - val_acc: 0.3666\n",
            "Epoch 8/70\n",
            "3880/3880 [==============================] - 15s 4ms/step - loss: 1.4005 - acc: 0.5258 - val_loss: 1.4312 - val_acc: 0.6070\n",
            "Epoch 9/70\n",
            "3880/3880 [==============================] - 15s 4ms/step - loss: 1.2441 - acc: 0.5776 - val_loss: 1.2296 - val_acc: 0.5938\n",
            "Epoch 10/70\n",
            "3880/3880 [==============================] - 15s 4ms/step - loss: 1.1423 - acc: 0.6178 - val_loss: 1.1051 - val_acc: 0.6490\n",
            "Epoch 11/70\n",
            "3880/3880 [==============================] - 15s 4ms/step - loss: 1.0508 - acc: 0.6312 - val_loss: 1.1499 - val_acc: 0.5938\n",
            "Epoch 12/70\n",
            "3880/3880 [==============================] - 15s 4ms/step - loss: 0.9819 - acc: 0.6644 - val_loss: 1.5305 - val_acc: 0.4627\n",
            "Epoch 13/70\n",
            "3880/3880 [==============================] - 15s 4ms/step - loss: 0.9200 - acc: 0.6822 - val_loss: 1.1164 - val_acc: 0.6286\n",
            "Epoch 14/70\n",
            "3880/3880 [==============================] - 15s 4ms/step - loss: 0.8604 - acc: 0.7046 - val_loss: 1.1446 - val_acc: 0.6022\n",
            "Epoch 15/70\n",
            "3880/3880 [==============================] - 15s 4ms/step - loss: 0.8356 - acc: 0.7183 - val_loss: 2.4081 - val_acc: 0.2692\n",
            "Epoch 16/70\n",
            "3880/3880 [==============================] - 15s 4ms/step - loss: 0.7892 - acc: 0.7250 - val_loss: 0.8839 - val_acc: 0.6947\n",
            "Epoch 17/70\n",
            "3880/3880 [==============================] - 15s 4ms/step - loss: 0.7435 - acc: 0.7412 - val_loss: 0.7998 - val_acc: 0.6863\n",
            "Epoch 18/70\n",
            "3880/3880 [==============================] - 15s 4ms/step - loss: 0.7154 - acc: 0.7546 - val_loss: 0.7528 - val_acc: 0.7776\n",
            "Epoch 19/70\n",
            "3880/3880 [==============================] - 15s 4ms/step - loss: 0.6969 - acc: 0.7631 - val_loss: 0.7921 - val_acc: 0.7236\n",
            "Epoch 20/70\n",
            "3880/3880 [==============================] - 15s 4ms/step - loss: 0.6540 - acc: 0.7729 - val_loss: 1.4967 - val_acc: 0.4507\n",
            "Epoch 21/70\n",
            "3880/3880 [==============================] - 15s 4ms/step - loss: 0.6490 - acc: 0.7773 - val_loss: 0.7575 - val_acc: 0.7464\n",
            "Epoch 22/70\n",
            "3880/3880 [==============================] - 15s 4ms/step - loss: 0.6702 - acc: 0.7784 - val_loss: 1.1276 - val_acc: 0.6010\n",
            "Epoch 23/70\n",
            "3880/3880 [==============================] - 15s 4ms/step - loss: 0.6492 - acc: 0.7817 - val_loss: 0.6559 - val_acc: 0.7812\n",
            "Epoch 24/70\n",
            "3880/3880 [==============================] - 15s 4ms/step - loss: 0.5964 - acc: 0.8028 - val_loss: 1.1156 - val_acc: 0.6418\n",
            "Epoch 25/70\n",
            "3880/3880 [==============================] - 15s 4ms/step - loss: 0.6126 - acc: 0.7905 - val_loss: 0.6783 - val_acc: 0.7560\n",
            "Epoch 26/70\n",
            "3880/3880 [==============================] - 15s 4ms/step - loss: 0.5914 - acc: 0.8013 - val_loss: 0.8599 - val_acc: 0.6707\n",
            "Epoch 27/70\n",
            "3880/3880 [==============================] - 15s 4ms/step - loss: 0.5990 - acc: 0.7992 - val_loss: 0.7287 - val_acc: 0.7440\n",
            "Epoch 28/70\n",
            "3880/3880 [==============================] - 15s 4ms/step - loss: 0.6043 - acc: 0.8036 - val_loss: 0.5439 - val_acc: 0.8377\n",
            "Epoch 29/70\n",
            "3880/3880 [==============================] - 15s 4ms/step - loss: 0.5604 - acc: 0.8057 - val_loss: 0.5996 - val_acc: 0.7921\n",
            "Epoch 30/70\n",
            "3880/3880 [==============================] - 15s 4ms/step - loss: 0.5615 - acc: 0.8095 - val_loss: 0.7188 - val_acc: 0.7668\n",
            "Epoch 31/70\n",
            "3880/3880 [==============================] - 15s 4ms/step - loss: 0.5304 - acc: 0.8170 - val_loss: 0.7954 - val_acc: 0.7236\n",
            "Epoch 32/70\n",
            "3880/3880 [==============================] - 15s 4ms/step - loss: 0.5237 - acc: 0.8155 - val_loss: 0.5269 - val_acc: 0.8317\n",
            "Epoch 33/70\n",
            "3880/3880 [==============================] - 15s 4ms/step - loss: 0.5505 - acc: 0.8209 - val_loss: 0.6237 - val_acc: 0.7608\n",
            "Epoch 34/70\n",
            "3880/3880 [==============================] - 15s 4ms/step - loss: 0.5136 - acc: 0.8278 - val_loss: 0.4944 - val_acc: 0.8353\n",
            "Epoch 35/70\n",
            "3880/3880 [==============================] - 15s 4ms/step - loss: 0.5135 - acc: 0.8351 - val_loss: 0.5335 - val_acc: 0.8197\n",
            "Epoch 36/70\n",
            "3880/3880 [==============================] - 15s 4ms/step - loss: 0.5374 - acc: 0.8206 - val_loss: 0.5123 - val_acc: 0.8221\n",
            "Epoch 37/70\n",
            "3880/3880 [==============================] - 15s 4ms/step - loss: 0.5477 - acc: 0.8165 - val_loss: 0.5379 - val_acc: 0.8041\n",
            "Epoch 38/70\n",
            "3880/3880 [==============================] - 15s 4ms/step - loss: 0.5092 - acc: 0.8250 - val_loss: 0.6392 - val_acc: 0.8053\n",
            "Epoch 39/70\n",
            "3880/3880 [==============================] - 15s 4ms/step - loss: 0.5338 - acc: 0.8168 - val_loss: 0.5682 - val_acc: 0.7945\n",
            "Epoch 40/70\n",
            "3880/3880 [==============================] - 15s 4ms/step - loss: 0.6164 - acc: 0.7995 - val_loss: 0.6552 - val_acc: 0.7800\n",
            "Epoch 41/70\n",
            "3880/3880 [==============================] - 15s 4ms/step - loss: 0.5253 - acc: 0.8240 - val_loss: 0.6186 - val_acc: 0.7764\n",
            "Epoch 42/70\n",
            "3880/3880 [==============================] - 15s 4ms/step - loss: 0.5765 - acc: 0.8240 - val_loss: 0.5162 - val_acc: 0.8353\n",
            "Epoch 43/70\n",
            "3880/3880 [==============================] - 15s 4ms/step - loss: 0.5597 - acc: 0.8222 - val_loss: 0.6555 - val_acc: 0.7812\n",
            "Epoch 44/70\n",
            "3880/3880 [==============================] - 15s 4ms/step - loss: 0.5385 - acc: 0.8253 - val_loss: 0.6159 - val_acc: 0.7752\n",
            "Epoch 45/70\n",
            "3880/3880 [==============================] - 15s 4ms/step - loss: 0.5276 - acc: 0.8379 - val_loss: 0.7487 - val_acc: 0.6935\n",
            "Epoch 46/70\n",
            "3880/3880 [==============================] - 15s 4ms/step - loss: 0.5162 - acc: 0.8343 - val_loss: 0.5799 - val_acc: 0.8053\n",
            "Epoch 47/70\n",
            "3880/3880 [==============================] - 15s 4ms/step - loss: 0.4926 - acc: 0.8384 - val_loss: 0.4914 - val_acc: 0.8269\n",
            "Epoch 48/70\n",
            "3880/3880 [==============================] - 15s 4ms/step - loss: 0.5230 - acc: 0.8312 - val_loss: 1.0521 - val_acc: 0.6611\n",
            "Epoch 49/70\n",
            "3880/3880 [==============================] - 15s 4ms/step - loss: 0.4889 - acc: 0.8330 - val_loss: 0.5403 - val_acc: 0.7969\n",
            "Epoch 50/70\n",
            "3880/3880 [==============================] - 15s 4ms/step - loss: 0.5840 - acc: 0.8155 - val_loss: 0.5208 - val_acc: 0.8017\n",
            "Epoch 51/70\n",
            "3880/3880 [==============================] - 15s 4ms/step - loss: 0.5337 - acc: 0.8162 - val_loss: 0.5604 - val_acc: 0.8173\n",
            "Epoch 52/70\n",
            "3880/3880 [==============================] - 15s 4ms/step - loss: 0.5239 - acc: 0.8379 - val_loss: 0.9878 - val_acc: 0.6286\n",
            "Epoch 53/70\n",
            "3880/3880 [==============================] - 15s 4ms/step - loss: 0.5875 - acc: 0.8031 - val_loss: 0.7295 - val_acc: 0.7764\n",
            "Epoch 54/70\n",
            "3880/3880 [==============================] - 15s 4ms/step - loss: 0.5576 - acc: 0.8255 - val_loss: 0.7435 - val_acc: 0.7488\n",
            "Epoch 55/70\n",
            "3880/3880 [==============================] - 15s 4ms/step - loss: 0.5781 - acc: 0.8155 - val_loss: 0.6624 - val_acc: 0.7584\n",
            "Epoch 56/70\n",
            "3880/3880 [==============================] - 15s 4ms/step - loss: 0.6667 - acc: 0.8008 - val_loss: 0.6516 - val_acc: 0.7392\n",
            "Epoch 57/70\n",
            "3880/3880 [==============================] - 15s 4ms/step - loss: 0.6430 - acc: 0.7902 - val_loss: 0.5840 - val_acc: 0.8077\n",
            "Epoch 58/70\n",
            "3880/3880 [==============================] - 15s 4ms/step - loss: 0.5760 - acc: 0.8165 - val_loss: 0.5773 - val_acc: 0.7861\n",
            "Epoch 59/70\n",
            "3880/3880 [==============================] - 15s 4ms/step - loss: 0.5665 - acc: 0.8278 - val_loss: 0.5369 - val_acc: 0.8125\n",
            "Epoch 60/70\n",
            "3880/3880 [==============================] - 15s 4ms/step - loss: 0.6165 - acc: 0.8028 - val_loss: 0.8171 - val_acc: 0.7248\n",
            "Epoch 61/70\n",
            "3880/3880 [==============================] - 15s 4ms/step - loss: 0.6179 - acc: 0.8015 - val_loss: 1.0021 - val_acc: 0.6538\n",
            "Epoch 62/70\n",
            "3880/3880 [==============================] - 15s 4ms/step - loss: 0.5726 - acc: 0.8168 - val_loss: 0.7209 - val_acc: 0.7596\n",
            "Epoch 63/70\n",
            "3880/3880 [==============================] - 15s 4ms/step - loss: 0.5807 - acc: 0.8088 - val_loss: 1.1524 - val_acc: 0.6418\n",
            "Epoch 64/70\n",
            "3880/3880 [==============================] - 15s 4ms/step - loss: 0.5615 - acc: 0.8222 - val_loss: 1.2084 - val_acc: 0.6178\n",
            "Epoch 65/70\n",
            "3880/3880 [==============================] - 15s 4ms/step - loss: 0.5964 - acc: 0.8077 - val_loss: 0.5964 - val_acc: 0.7909\n",
            "Epoch 66/70\n",
            "3880/3880 [==============================] - 15s 4ms/step - loss: 0.5603 - acc: 0.8232 - val_loss: 1.1564 - val_acc: 0.5805\n",
            "Epoch 67/70\n",
            "3880/3880 [==============================] - 15s 4ms/step - loss: 0.6300 - acc: 0.8044 - val_loss: 0.4380 - val_acc: 0.8546\n",
            "Epoch 68/70\n",
            "3880/3880 [==============================] - 15s 4ms/step - loss: 0.6560 - acc: 0.8013 - val_loss: 0.7961 - val_acc: 0.7392\n",
            "Epoch 69/70\n",
            "3880/3880 [==============================] - 15s 4ms/step - loss: 0.5883 - acc: 0.8119 - val_loss: 0.7597 - val_acc: 0.7512\n",
            "Epoch 70/70\n",
            "3880/3880 [==============================] - 15s 4ms/step - loss: 0.6605 - acc: 0.7961 - val_loss: 0.5918 - val_acc: 0.7921\n"
          ],
          "name": "stdout"
        },
        {
          "output_type": "execute_result",
          "data": {
            "text/plain": [
              "<keras.callbacks.History at 0x7fb32b84e048>"
            ]
          },
          "metadata": {
            "tags": []
          },
          "execution_count": 51
        }
      ]
    },
    {
      "cell_type": "code",
      "metadata": {
        "id": "4HpoHEc0SZjr",
        "colab_type": "code",
        "outputId": "e32699fc-96aa-4ca8-926f-c22c345d8c30",
        "colab": {
          "base_uri": "https://localhost:8080/",
          "height": 50
        }
      },
      "source": [
        "score = model.evaluate(X_test, y_test, verbose=0, batch_size = 38)\n",
        "print('Test loss:', score[0])\n",
        "print('Test accuracy:', score[1])"
      ],
      "execution_count": 0,
      "outputs": [
        {
          "output_type": "stream",
          "text": [
            "Test loss: 0.5715112163900182\n",
            "Test accuracy: 0.8100961670279503\n"
          ],
          "name": "stdout"
        }
      ]
    }
  ]
}