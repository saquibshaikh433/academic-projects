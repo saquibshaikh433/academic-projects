{
  "nbformat": 4,
  "nbformat_minor": 0,
  "metadata": {
    "colab": {
      "name": "Copy_of_CV_Project2_Dog_Breed_Classification_solution (1).ipynb",
      "provenance": [],
      "collapsed_sections": [],
      "machine_shape": "hm"
    },
    "kernelspec": {
      "display_name": "Python 3",
      "language": "python",
      "name": "python3"
    },
    "accelerator": "GPU"
  },
  "cells": [
    {
      "cell_type": "markdown",
      "metadata": {
        "colab_type": "text",
        "id": "2kIWaR5ZpKlJ"
      },
      "source": [
        "## Dog Breed Classification\n",
        "\n",
        "In this project we will use traditional CNN, CNN with data augmentation and finally transfer Learning by VGG16 model with weights pre-trained on Imagenet to solve the dog breed classification problem"
      ]
    },
    {
      "cell_type": "markdown",
      "metadata": {
        "colab_type": "text",
        "id": "F7MDmaAw2xGO"
      },
      "source": [
        "### Load Dataset Files"
      ]
    },
    {
      "cell_type": "code",
      "metadata": {
        "colab_type": "code",
        "id": "BZWpQv1OwqYK",
        "colab": {}
      },
      "source": [
        "from google.colab import drive"
      ],
      "execution_count": 0,
      "outputs": []
    },
    {
      "cell_type": "code",
      "metadata": {
        "id": "oJUCIS5zszyb",
        "colab_type": "code",
        "colab": {}
      },
      "source": [
        "import pandas as pd\n"
      ],
      "execution_count": 0,
      "outputs": []
    },
    {
      "cell_type": "code",
      "metadata": {
        "id": "FO1KILsAtEhJ",
        "colab_type": "code",
        "colab": {}
      },
      "source": [
        "%tensorflow_version 2.x"
      ],
      "execution_count": 0,
      "outputs": []
    },
    {
      "cell_type": "code",
      "metadata": {
        "colab_type": "code",
        "id": "fVhB9OopxFbX",
        "outputId": "1633edc3-a568-44fe-d2e8-a5fba0fce293",
        "colab": {
          "base_uri": "https://localhost:8080/",
          "height": 125
        }
      },
      "source": [
        "rive.mount('/content/drive')"
      ],
      "execution_count": 2,
      "outputs": [
        {
          "output_type": "stream",
          "text": [
            "Go to this URL in a browser: https://accounts.google.com/o/oauth2/auth?client_id=947318989803-6bn6qk8qdgf4n4g3pfee6491hc0brc4i.apps.googleusercontent.com&redirect_uri=urn%3aietf%3awg%3aoauth%3a2.0%3aoob&response_type=code&scope=email%20https%3a%2f%2fwww.googleapis.com%2fauth%2fdocs.test%20https%3a%2f%2fwww.googleapis.com%2fauth%2fdrive%20https%3a%2f%2fwww.googleapis.com%2fauth%2fdrive.photos.readonly%20https%3a%2f%2fwww.googleapis.com%2fauth%2fpeopleapi.readonly\n",
            "\n",
            "Enter your authorization code:\n",
            "··········\n",
            "Mounted at /content/drive\n"
          ],
          "name": "stdout"
        }
      ]
    },
    {
      "cell_type": "markdown",
      "metadata": {
        "colab_type": "text",
        "id": "1q2zzIaUprk_"
      },
      "source": [
        "Now, upload the given dataset file shared with you in your google drive and give its path for the below given `project_path` variable. For example, a path is given below according to the file path in our google drive. You need to change this to match the path of yours."
      ]
    },
    {
      "cell_type": "code",
      "metadata": {
        "colab_type": "code",
        "id": "Tp6FvAToxUFs",
        "colab": {}
      },
      "source": [
        "project_path = \"/content/drive/My Drive/DogBreed_Classification/\""
      ],
      "execution_count": 0,
      "outputs": []
    },
    {
      "cell_type": "markdown",
      "metadata": {
        "colab_type": "text",
        "id": "rydR_j8lqUei"
      },
      "source": [
        "Run the below code to extract all the images in the train.zip files given in the dataset. We are going to use these images as train and validation sets and their labels in further steps."
      ]
    },
    {
      "cell_type": "code",
      "metadata": {
        "colab_type": "code",
        "id": "3350WZM4w4EL",
        "colab": {}
      },
      "source": [
        "from zipfile import ZipFile\n",
        "with ZipFile(project_path+'train.zip', 'r') as z:\n",
        "  z.extractall()"
      ],
      "execution_count": 0,
      "outputs": []
    },
    {
      "cell_type": "markdown",
      "metadata": {
        "id": "3NHq1iBCfFjE",
        "colab_type": "text"
      },
      "source": [
        "Repeat the same step for test.zip"
      ]
    },
    {
      "cell_type": "code",
      "metadata": {
        "colab_type": "code",
        "id": "_fxzynvB2YCb",
        "colab": {}
      },
      "source": [
        "from zipfile import ZipFile\n",
        "with ZipFile(project_path+'test.zip', 'r') as z:\n",
        "  z.extractall()"
      ],
      "execution_count": 0,
      "outputs": []
    },
    {
      "cell_type": "markdown",
      "metadata": {
        "id": "jnUMhQrDfJmz",
        "colab_type": "text"
      },
      "source": [
        "Repeat the same step for sample_submission.csv.zip"
      ]
    },
    {
      "cell_type": "code",
      "metadata": {
        "colab_type": "code",
        "id": "4PyTxE8q2jLf",
        "colab": {}
      },
      "source": [
        "from zipfile import ZipFile\n",
        "with ZipFile(project_path+'sample_submission.csv.zip', 'r') as z:\n",
        "  z.extractall()"
      ],
      "execution_count": 0,
      "outputs": []
    },
    {
      "cell_type": "markdown",
      "metadata": {
        "id": "2G9RIxB-fOLT",
        "colab_type": "text"
      },
      "source": [
        "Repeat the same step for labels.csv.zip"
      ]
    },
    {
      "cell_type": "code",
      "metadata": {
        "colab_type": "code",
        "id": "rXtnEoEixbgi",
        "colab": {}
      },
      "source": [
        "from zipfile import ZipFile\n",
        "with ZipFile(project_path+'labels.csv.zip', 'r') as z:\n",
        "  z.extractall()"
      ],
      "execution_count": 0,
      "outputs": []
    },
    {
      "cell_type": "markdown",
      "metadata": {
        "id": "sJc1lVrW_jmL",
        "colab_type": "text"
      },
      "source": [
        "After this process, we will have 4 files - Train folder, test folder and labels.csv and sample_submission.csv as part of your google drive"
      ]
    },
    {
      "cell_type": "markdown",
      "metadata": {
        "colab_type": "text",
        "id": "aYmJKmDqqpng"
      },
      "source": [
        "### Read labels.csv file using pandas"
      ]
    },
    {
      "cell_type": "code",
      "metadata": {
        "id": "hPvb1RSc96If",
        "colab_type": "code",
        "outputId": "b21fcc32-f716-481c-afeb-6ee8ce39967f",
        "colab": {
          "base_uri": "https://localhost:8080/",
          "height": 195
        }
      },
      "source": [
        "labels = pd.read_csv('./labels.csv')\n",
        "labels.head()"
      ],
      "execution_count": 11,
      "outputs": [
        {
          "output_type": "execute_result",
          "data": {
            "text/html": [
              "<div>\n",
              "<style scoped>\n",
              "    .dataframe tbody tr th:only-of-type {\n",
              "        vertical-align: middle;\n",
              "    }\n",
              "\n",
              "    .dataframe tbody tr th {\n",
              "        vertical-align: top;\n",
              "    }\n",
              "\n",
              "    .dataframe thead th {\n",
              "        text-align: right;\n",
              "    }\n",
              "</style>\n",
              "<table border=\"1\" class=\"dataframe\">\n",
              "  <thead>\n",
              "    <tr style=\"text-align: right;\">\n",
              "      <th></th>\n",
              "      <th>id</th>\n",
              "      <th>breed</th>\n",
              "    </tr>\n",
              "  </thead>\n",
              "  <tbody>\n",
              "    <tr>\n",
              "      <th>0</th>\n",
              "      <td>000bec180eb18c7604dcecc8fe0dba07</td>\n",
              "      <td>boston_bull</td>\n",
              "    </tr>\n",
              "    <tr>\n",
              "      <th>1</th>\n",
              "      <td>001513dfcb2ffafc82cccf4d8bbaba97</td>\n",
              "      <td>dingo</td>\n",
              "    </tr>\n",
              "    <tr>\n",
              "      <th>2</th>\n",
              "      <td>001cdf01b096e06d78e9e5112d419397</td>\n",
              "      <td>pekinese</td>\n",
              "    </tr>\n",
              "    <tr>\n",
              "      <th>3</th>\n",
              "      <td>00214f311d5d2247d5dfe4fe24b2303d</td>\n",
              "      <td>bluetick</td>\n",
              "    </tr>\n",
              "    <tr>\n",
              "      <th>4</th>\n",
              "      <td>0021f9ceb3235effd7fcde7f7538ed62</td>\n",
              "      <td>golden_retriever</td>\n",
              "    </tr>\n",
              "  </tbody>\n",
              "</table>\n",
              "</div>"
            ],
            "text/plain": [
              "                                 id             breed\n",
              "0  000bec180eb18c7604dcecc8fe0dba07       boston_bull\n",
              "1  001513dfcb2ffafc82cccf4d8bbaba97             dingo\n",
              "2  001cdf01b096e06d78e9e5112d419397          pekinese\n",
              "3  00214f311d5d2247d5dfe4fe24b2303d          bluetick\n",
              "4  0021f9ceb3235effd7fcde7f7538ed62  golden_retriever"
            ]
          },
          "metadata": {
            "tags": []
          },
          "execution_count": 11
        }
      ]
    },
    {
      "cell_type": "markdown",
      "metadata": {
        "colab_type": "text",
        "id": "QP8YAzQvqyK-"
      },
      "source": [
        "### Print the count of each category of Dogs given in the dataset\n",
        "\n"
      ]
    },
    {
      "cell_type": "code",
      "metadata": {
        "id": "3L2naXlr96Im",
        "colab_type": "code",
        "outputId": "88c1579c-55f3-40f3-9d06-a7c03194d113",
        "colab": {
          "base_uri": "https://localhost:8080/",
          "height": 228
        }
      },
      "source": [
        "labels['breed'].value_counts()"
      ],
      "execution_count": 12,
      "outputs": [
        {
          "output_type": "execute_result",
          "data": {
            "text/plain": [
              "scottish_deerhound      126\n",
              "maltese_dog             117\n",
              "afghan_hound            116\n",
              "entlebucher             115\n",
              "bernese_mountain_dog    114\n",
              "                       ... \n",
              "komondor                 67\n",
              "brabancon_griffon        67\n",
              "golden_retriever         67\n",
              "eskimo_dog               66\n",
              "briard                   66\n",
              "Name: breed, Length: 120, dtype: int64"
            ]
          },
          "metadata": {
            "tags": []
          },
          "execution_count": 12
        }
      ]
    },
    {
      "cell_type": "code",
      "metadata": {
        "id": "CLm3W5RN96Ir",
        "colab_type": "code",
        "outputId": "1baf4adc-6da9-48d3-95ec-5ac525a9ae8c",
        "colab": {
          "base_uri": "https://localhost:8080/",
          "height": 1000
        }
      },
      "source": [
        "import seaborn as sns\n",
        "import matplotlib.pyplot as plt\n",
        "plt.figure(figsize=(20,20))\n",
        "sns.countplot(y=labels['breed'])"
      ],
      "execution_count": 13,
      "outputs": [
        {
          "output_type": "stream",
          "text": [
            "/usr/local/lib/python3.6/dist-packages/statsmodels/tools/_testing.py:19: FutureWarning: pandas.util.testing is deprecated. Use the functions in the public API at pandas.testing instead.\n",
            "  import pandas.util.testing as tm\n"
          ],
          "name": "stderr"
        },
        {
          "output_type": "execute_result",
          "data": {
            "text/plain": [
              "<matplotlib.axes._subplots.AxesSubplot at 0x7fc495ad6cc0>"
            ]
          },
          "metadata": {
            "tags": []
          },
          "execution_count": 13
        },
        {
          "output_type": "display_data",
          "data": {
            "image/png": "[encoded data removed]",
            "text/plain": [
              "<Figure size 1440x1440 with 1 Axes>"
            ]
          },
          "metadata": {
            "tags": []
          }
        }
      ]
    },
    {
      "cell_type": "markdown",
      "metadata": {
        "colab_type": "text",
        "id": "WI94_Qcc0D4M"
      },
      "source": [
        "### Get one-hot encodings of labels"
      ]
    },
    {
      "cell_type": "code",
      "metadata": {
        "id": "Q48iAcY196I3",
        "colab_type": "code",
        "colab": {}
      },
      "source": [
        "from sklearn.preprocessing import LabelEncoder\n",
        "from tensorflow.keras.utils import to_categorical"
      ],
      "execution_count": 0,
      "outputs": []
    },
    {
      "cell_type": "code",
      "metadata": {
        "id": "9nlWmRNM96I8",
        "colab_type": "code",
        "colab": {}
      },
      "source": [
        "encode = LabelEncoder()\n",
        "len = encode.fit_transform(labels['breed'])\n",
        "y = to_categorical(len,num_classes=labels['breed'].nunique())"
      ],
      "execution_count": 0,
      "outputs": []
    },
    {
      "cell_type": "markdown",
      "metadata": {
        "id": "VWaJ9naXfoiU",
        "colab_type": "text"
      },
      "source": [
        "## Preparing training dataset\n",
        "1. Write a code which reads each and every id from labels.csv file and loads the corresponding image (in RGB - 128, 128, 3) from the train folder. <br>\n",
        "2. Create 2 variables <br> \n",
        "     a.  x_train - Should have all the images of the dogs from train folder <br>\n",
        "     b.  y_train - Corresponding label of the dog <br>\n",
        "<u>Note:</u> The id of the dog images and its corresponding labels are available in labels.csv file   \n",
        "<u>Hint:</u> Watch the video shared on \"Preparing the training dataset\" if you face issue on creating the training dataset"
      ]
    },
    {
      "cell_type": "code",
      "metadata": {
        "id": "kQU_WsFMsHCN",
        "colab_type": "code",
        "colab": {}
      },
      "source": [
        "import cv2"
      ],
      "execution_count": 0,
      "outputs": []
    },
    {
      "cell_type": "code",
      "metadata": {
        "colab_type": "code",
        "id": "aC2f9ecR0XGR",
        "colab": {}
      },
      "source": [
        "x_train = []\n",
        "label = []\n",
        "\n",
        "for img,breeds in labels.values:\n",
        "  train_feat = cv2.imread('./train/{}.jpg'.format(img),1)\n",
        "  train_feat_resz = cv2.resize(train_feat,(128,128))\n",
        "  x_train.append(train_feat_resz)\n",
        "  label.append(breeds)"
      ],
      "execution_count": 0,
      "outputs": []
    },
    {
      "cell_type": "code",
      "metadata": {
        "colab_type": "code",
        "id": "nkkZEpOe0ipk",
        "outputId": "04bacc99-d435-4ab3-f172-6188d3f1e5b1",
        "colab": {
          "base_uri": "https://localhost:8080/",
          "height": 243
        }
      },
      "source": [
        "for i in range(10):\n",
        "  plt.subplot(2,5,i+1)\n",
        "  plt.imshow(x_train[i])\n",
        "  plt.xlabel(label[i])\n",
        "  i += 1"
      ],
      "execution_count": 47,
      "outputs": [
        {
          "output_type": "display_data",
          "data": {
            "image/png": "[encoded data removed]",
            "text/plain": [
              "<Figure size 432x288 with 10 Axes>"
            ]
          },
          "metadata": {
            "tags": []
          }
        }
      ]
    },
    {
      "cell_type": "markdown",
      "metadata": {
        "id": "6ioWDEgElBOs",
        "colab_type": "text"
      },
      "source": [
        "Normalize the training data and convert into 4 dimensions so that it can be used as an input to conv layers in the model"
      ]
    },
    {
      "cell_type": "code",
      "metadata": {
        "id": "gesgSwrJxTc_",
        "colab_type": "code",
        "colab": {}
      },
      "source": [
        "import numpy as np\n",
        "x_train = np.array(x_train).astype('float32')"
      ],
      "execution_count": 0,
      "outputs": []
    },
    {
      "cell_type": "code",
      "metadata": {
        "colab_type": "code",
        "id": "ARn76j3U1CDa",
        "colab": {}
      },
      "source": [
        "x_train_no = x_train/255"
      ],
      "execution_count": 0,
      "outputs": []
    },
    {
      "cell_type": "code",
      "metadata": {
        "id": "8kfFcEYaED5o",
        "colab_type": "code",
        "outputId": "7b931d09-30cf-4ddf-a761-4772d9fa169a",
        "colab": {
          "base_uri": "https://localhost:8080/",
          "height": 34
        }
      },
      "source": [
        "print(\"The shape of X_train is ==>\",x_train_no[0].shape)"
      ],
      "execution_count": 50,
      "outputs": [
        {
          "output_type": "stream",
          "text": [
            "The shape of X_train is ==> (128, 128, 3)\n"
          ],
          "name": "stdout"
        }
      ]
    },
    {
      "cell_type": "code",
      "metadata": {
        "id": "_8KkUoqoxL0k",
        "colab_type": "code",
        "outputId": "a569f502-d93f-4501-98c6-f71ec737bad1",
        "colab": {
          "base_uri": "https://localhost:8080/",
          "height": 243
        }
      },
      "source": [
        "for i in range(10):\n",
        "  plt.subplot(2,5,i+1)\n",
        "  plt.imshow(x_train_no[i])\n",
        "  plt.xlabel(label[i])\n",
        "  i += 1"
      ],
      "execution_count": 51,
      "outputs": [
        {
          "output_type": "display_data",
          "data": {
            "image/png": "[encoded data removed]",
            "text/plain": [
              "<Figure size 432x288 with 10 Axes>"
            ]
          },
          "metadata": {
            "tags": []
          }
        }
      ]
    },
    {
      "cell_type": "markdown",
      "metadata": {
        "colab_type": "text",
        "id": "bdCXuAE11gZL"
      },
      "source": [
        "### Split the training and validation data from `x_train_data` and `y_train_data` obtained from above step"
      ]
    },
    {
      "cell_type": "code",
      "metadata": {
        "id": "B_f6P3RME2T1",
        "colab_type": "code",
        "colab": {}
      },
      "source": [
        "from sklearn.model_selection import train_test_split"
      ],
      "execution_count": 0,
      "outputs": []
    },
    {
      "cell_type": "code",
      "metadata": {
        "id": "kpWx-pgV96Jv",
        "colab_type": "code",
        "colab": {}
      },
      "source": [
        "x_train,x_val,y_train,y_val = train_test_split(x_train_no,y,test_size=0.3)"
      ],
      "execution_count": 0,
      "outputs": []
    },
    {
      "cell_type": "markdown",
      "metadata": {
        "colab_type": "text",
        "id": "XkL-N1jDsU8m"
      },
      "source": [
        "### Loading the test data\n",
        "Read the id column from the samples_submission.csv and store it in test_img"
      ]
    },
    {
      "cell_type": "code",
      "metadata": {
        "colab_type": "code",
        "id": "DnpXdpd9b3E7",
        "outputId": "04807571-8708-4453-fbc5-6aab7da48630",
        "colab": {
          "base_uri": "https://localhost:8080/",
          "height": 261
        }
      },
      "source": [
        "samples = pd.read_csv('./sample_submission.csv')\n",
        "samples.head()"
      ],
      "execution_count": 54,
      "outputs": [
        {
          "output_type": "execute_result",
          "data": {
            "text/html": [
              "<div>\n",
              "<style scoped>\n",
              "    .dataframe tbody tr th:only-of-type {\n",
              "        vertical-align: middle;\n",
              "    }\n",
              "\n",
              "    .dataframe tbody tr th {\n",
              "        vertical-align: top;\n",
              "    }\n",
              "\n",
              "    .dataframe thead th {\n",
              "        text-align: right;\n",
              "    }\n",
              "</style>\n",
              "<table border=\"1\" class=\"dataframe\">\n",
              "  <thead>\n",
              "    <tr style=\"text-align: right;\">\n",
              "      <th></th>\n",
              "      <th>id</th>\n",
              "      <th>affenpinscher</th>\n",
              "      <th>afghan_hound</th>\n",
              "      <th>african_hunting_dog</th>\n",
              "      <th>airedale</th>\n",
              "      <th>american_staffordshire_terrier</th>\n",
              "      <th>appenzeller</th>\n",
              "      <th>australian_terrier</th>\n",
              "      <th>basenji</th>\n",
              "      <th>basset</th>\n",
              "      <th>beagle</th>\n",
              "      <th>bedlington_terrier</th>\n",
              "      <th>bernese_mountain_dog</th>\n",
              "      <th>black-and-tan_coonhound</th>\n",
              "      <th>blenheim_spaniel</th>\n",
              "      <th>bloodhound</th>\n",
              "      <th>bluetick</th>\n",
              "      <th>border_collie</th>\n",
              "      <th>border_terrier</th>\n",
              "      <th>borzoi</th>\n",
              "      <th>boston_bull</th>\n",
              "      <th>bouvier_des_flandres</th>\n",
              "      <th>boxer</th>\n",
              "      <th>brabancon_griffon</th>\n",
              "      <th>briard</th>\n",
              "      <th>brittany_spaniel</th>\n",
              "      <th>bull_mastiff</th>\n",
              "      <th>cairn</th>\n",
              "      <th>cardigan</th>\n",
              "      <th>chesapeake_bay_retriever</th>\n",
              "      <th>chihuahua</th>\n",
              "      <th>chow</th>\n",
              "      <th>clumber</th>\n",
              "      <th>cocker_spaniel</th>\n",
              "      <th>collie</th>\n",
              "      <th>curly-coated_retriever</th>\n",
              "      <th>dandie_dinmont</th>\n",
              "      <th>dhole</th>\n",
              "      <th>dingo</th>\n",
              "      <th>doberman</th>\n",
              "      <th>...</th>\n",
              "      <th>norwegian_elkhound</th>\n",
              "      <th>norwich_terrier</th>\n",
              "      <th>old_english_sheepdog</th>\n",
              "      <th>otterhound</th>\n",
              "      <th>papillon</th>\n",
              "      <th>pekinese</th>\n",
              "      <th>pembroke</th>\n",
              "      <th>pomeranian</th>\n",
              "      <th>pug</th>\n",
              "      <th>redbone</th>\n",
              "      <th>rhodesian_ridgeback</th>\n",
              "      <th>rottweiler</th>\n",
              "      <th>saint_bernard</th>\n",
              "      <th>saluki</th>\n",
              "      <th>samoyed</th>\n",
              "      <th>schipperke</th>\n",
              "      <th>scotch_terrier</th>\n",
              "      <th>scottish_deerhound</th>\n",
              "      <th>sealyham_terrier</th>\n",
              "      <th>shetland_sheepdog</th>\n",
              "      <th>shih-tzu</th>\n",
              "      <th>siberian_husky</th>\n",
              "      <th>silky_terrier</th>\n",
              "      <th>soft-coated_wheaten_terrier</th>\n",
              "      <th>staffordshire_bullterrier</th>\n",
              "      <th>standard_poodle</th>\n",
              "      <th>standard_schnauzer</th>\n",
              "      <th>sussex_spaniel</th>\n",
              "      <th>tibetan_mastiff</th>\n",
              "      <th>tibetan_terrier</th>\n",
              "      <th>toy_poodle</th>\n",
              "      <th>toy_terrier</th>\n",
              "      <th>vizsla</th>\n",
              "      <th>walker_hound</th>\n",
              "      <th>weimaraner</th>\n",
              "      <th>welsh_springer_spaniel</th>\n",
              "      <th>west_highland_white_terrier</th>\n",
              "      <th>whippet</th>\n",
              "      <th>wire-haired_fox_terrier</th>\n",
              "      <th>yorkshire_terrier</th>\n",
              "    </tr>\n",
              "  </thead>\n",
              "  <tbody>\n",
              "    <tr>\n",
              "      <th>0</th>\n",
              "      <td>000621fb3cbb32d8935728e48679680e</td>\n",
              "      <td>0.008333</td>\n",
              "      <td>0.008333</td>\n",
              "      <td>0.008333</td>\n",
              "      <td>0.008333</td>\n",
              "      <td>0.008333</td>\n",
              "      <td>0.008333</td>\n",
              "      <td>0.008333</td>\n",
              "      <td>0.008333</td>\n",
              "      <td>0.008333</td>\n",
              "      <td>0.008333</td>\n",
              "      <td>0.008333</td>\n",
              "      <td>0.008333</td>\n",
              "      <td>0.008333</td>\n",
              "      <td>0.008333</td>\n",
              "      <td>0.008333</td>\n",
              "      <td>0.008333</td>\n",
              "      <td>0.008333</td>\n",
              "      <td>0.008333</td>\n",
              "      <td>0.008333</td>\n",
              "      <td>0.008333</td>\n",
              "      <td>0.008333</td>\n",
              "      <td>0.008333</td>\n",
              "      <td>0.008333</td>\n",
              "      <td>0.008333</td>\n",
              "      <td>0.008333</td>\n",
              "      <td>0.008333</td>\n",
              "      <td>0.008333</td>\n",
              "      <td>0.008333</td>\n",
              "      <td>0.008333</td>\n",
              "      <td>0.008333</td>\n",
              "      <td>0.008333</td>\n",
              "      <td>0.008333</td>\n",
              "      <td>0.008333</td>\n",
              "      <td>0.008333</td>\n",
              "      <td>0.008333</td>\n",
              "      <td>0.008333</td>\n",
              "      <td>0.008333</td>\n",
              "      <td>0.008333</td>\n",
              "      <td>0.008333</td>\n",
              "      <td>...</td>\n",
              "      <td>0.008333</td>\n",
              "      <td>0.008333</td>\n",
              "      <td>0.008333</td>\n",
              "      <td>0.008333</td>\n",
              "      <td>0.008333</td>\n",
              "      <td>0.008333</td>\n",
              "      <td>0.008333</td>\n",
              "      <td>0.008333</td>\n",
              "      <td>0.008333</td>\n",
              "      <td>0.008333</td>\n",
              "      <td>0.008333</td>\n",
              "      <td>0.008333</td>\n",
              "      <td>0.008333</td>\n",
              "      <td>0.008333</td>\n",
              "      <td>0.008333</td>\n",
              "      <td>0.008333</td>\n",
              "      <td>0.008333</td>\n",
              "      <td>0.008333</td>\n",
              "      <td>0.008333</td>\n",
              "      <td>0.008333</td>\n",
              "      <td>0.008333</td>\n",
              "      <td>0.008333</td>\n",
              "      <td>0.008333</td>\n",
              "      <td>0.008333</td>\n",
              "      <td>0.008333</td>\n",
              "      <td>0.008333</td>\n",
              "      <td>0.008333</td>\n",
              "      <td>0.008333</td>\n",
              "      <td>0.008333</td>\n",
              "      <td>0.008333</td>\n",
              "      <td>0.008333</td>\n",
              "      <td>0.008333</td>\n",
              "      <td>0.008333</td>\n",
              "      <td>0.008333</td>\n",
              "      <td>0.008333</td>\n",
              "      <td>0.008333</td>\n",
              "      <td>0.008333</td>\n",
              "      <td>0.008333</td>\n",
              "      <td>0.008333</td>\n",
              "      <td>0.008333</td>\n",
              "    </tr>\n",
              "    <tr>\n",
              "      <th>1</th>\n",
              "      <td>00102ee9d8eb90812350685311fe5890</td>\n",
              "      <td>0.008333</td>\n",
              "      <td>0.008333</td>\n",
              "      <td>0.008333</td>\n",
              "      <td>0.008333</td>\n",
              "      <td>0.008333</td>\n",
              "      <td>0.008333</td>\n",
              "      <td>0.008333</td>\n",
              "      <td>0.008333</td>\n",
              "      <td>0.008333</td>\n",
              "      <td>0.008333</td>\n",
              "      <td>0.008333</td>\n",
              "      <td>0.008333</td>\n",
              "      <td>0.008333</td>\n",
              "      <td>0.008333</td>\n",
              "      <td>0.008333</td>\n",
              "      <td>0.008333</td>\n",
              "      <td>0.008333</td>\n",
              "      <td>0.008333</td>\n",
              "      <td>0.008333</td>\n",
              "      <td>0.008333</td>\n",
              "      <td>0.008333</td>\n",
              "      <td>0.008333</td>\n",
              "      <td>0.008333</td>\n",
              "      <td>0.008333</td>\n",
              "      <td>0.008333</td>\n",
              "      <td>0.008333</td>\n",
              "      <td>0.008333</td>\n",
              "      <td>0.008333</td>\n",
              "      <td>0.008333</td>\n",
              "      <td>0.008333</td>\n",
              "      <td>0.008333</td>\n",
              "      <td>0.008333</td>\n",
              "      <td>0.008333</td>\n",
              "      <td>0.008333</td>\n",
              "      <td>0.008333</td>\n",
              "      <td>0.008333</td>\n",
              "      <td>0.008333</td>\n",
              "      <td>0.008333</td>\n",
              "      <td>0.008333</td>\n",
              "      <td>...</td>\n",
              "      <td>0.008333</td>\n",
              "      <td>0.008333</td>\n",
              "      <td>0.008333</td>\n",
              "      <td>0.008333</td>\n",
              "      <td>0.008333</td>\n",
              "      <td>0.008333</td>\n",
              "      <td>0.008333</td>\n",
              "      <td>0.008333</td>\n",
              "      <td>0.008333</td>\n",
              "      <td>0.008333</td>\n",
              "      <td>0.008333</td>\n",
              "      <td>0.008333</td>\n",
              "      <td>0.008333</td>\n",
              "      <td>0.008333</td>\n",
              "      <td>0.008333</td>\n",
              "      <td>0.008333</td>\n",
              "      <td>0.008333</td>\n",
              "      <td>0.008333</td>\n",
              "      <td>0.008333</td>\n",
              "      <td>0.008333</td>\n",
              "      <td>0.008333</td>\n",
              "      <td>0.008333</td>\n",
              "      <td>0.008333</td>\n",
              "      <td>0.008333</td>\n",
              "      <td>0.008333</td>\n",
              "      <td>0.008333</td>\n",
              "      <td>0.008333</td>\n",
              "      <td>0.008333</td>\n",
              "      <td>0.008333</td>\n",
              "      <td>0.008333</td>\n",
              "      <td>0.008333</td>\n",
              "      <td>0.008333</td>\n",
              "      <td>0.008333</td>\n",
              "      <td>0.008333</td>\n",
              "      <td>0.008333</td>\n",
              "      <td>0.008333</td>\n",
              "      <td>0.008333</td>\n",
              "      <td>0.008333</td>\n",
              "      <td>0.008333</td>\n",
              "      <td>0.008333</td>\n",
              "    </tr>\n",
              "    <tr>\n",
              "      <th>2</th>\n",
              "      <td>0012a730dfa437f5f3613fb75efcd4ce</td>\n",
              "      <td>0.008333</td>\n",
              "      <td>0.008333</td>\n",
              "      <td>0.008333</td>\n",
              "      <td>0.008333</td>\n",
              "      <td>0.008333</td>\n",
              "      <td>0.008333</td>\n",
              "      <td>0.008333</td>\n",
              "      <td>0.008333</td>\n",
              "      <td>0.008333</td>\n",
              "      <td>0.008333</td>\n",
              "      <td>0.008333</td>\n",
              "      <td>0.008333</td>\n",
              "      <td>0.008333</td>\n",
              "      <td>0.008333</td>\n",
              "      <td>0.008333</td>\n",
              "      <td>0.008333</td>\n",
              "      <td>0.008333</td>\n",
              "      <td>0.008333</td>\n",
              "      <td>0.008333</td>\n",
              "      <td>0.008333</td>\n",
              "      <td>0.008333</td>\n",
              "      <td>0.008333</td>\n",
              "      <td>0.008333</td>\n",
              "      <td>0.008333</td>\n",
              "      <td>0.008333</td>\n",
              "      <td>0.008333</td>\n",
              "      <td>0.008333</td>\n",
              "      <td>0.008333</td>\n",
              "      <td>0.008333</td>\n",
              "      <td>0.008333</td>\n",
              "      <td>0.008333</td>\n",
              "      <td>0.008333</td>\n",
              "      <td>0.008333</td>\n",
              "      <td>0.008333</td>\n",
              "      <td>0.008333</td>\n",
              "      <td>0.008333</td>\n",
              "      <td>0.008333</td>\n",
              "      <td>0.008333</td>\n",
              "      <td>0.008333</td>\n",
              "      <td>...</td>\n",
              "      <td>0.008333</td>\n",
              "      <td>0.008333</td>\n",
              "      <td>0.008333</td>\n",
              "      <td>0.008333</td>\n",
              "      <td>0.008333</td>\n",
              "      <td>0.008333</td>\n",
              "      <td>0.008333</td>\n",
              "      <td>0.008333</td>\n",
              "      <td>0.008333</td>\n",
              "      <td>0.008333</td>\n",
              "      <td>0.008333</td>\n",
              "      <td>0.008333</td>\n",
              "      <td>0.008333</td>\n",
              "      <td>0.008333</td>\n",
              "      <td>0.008333</td>\n",
              "      <td>0.008333</td>\n",
              "      <td>0.008333</td>\n",
              "      <td>0.008333</td>\n",
              "      <td>0.008333</td>\n",
              "      <td>0.008333</td>\n",
              "      <td>0.008333</td>\n",
              "      <td>0.008333</td>\n",
              "      <td>0.008333</td>\n",
              "      <td>0.008333</td>\n",
              "      <td>0.008333</td>\n",
              "      <td>0.008333</td>\n",
              "      <td>0.008333</td>\n",
              "      <td>0.008333</td>\n",
              "      <td>0.008333</td>\n",
              "      <td>0.008333</td>\n",
              "      <td>0.008333</td>\n",
              "      <td>0.008333</td>\n",
              "      <td>0.008333</td>\n",
              "      <td>0.008333</td>\n",
              "      <td>0.008333</td>\n",
              "      <td>0.008333</td>\n",
              "      <td>0.008333</td>\n",
              "      <td>0.008333</td>\n",
              "      <td>0.008333</td>\n",
              "      <td>0.008333</td>\n",
              "    </tr>\n",
              "    <tr>\n",
              "      <th>3</th>\n",
              "      <td>001510bc8570bbeee98c8d80c8a95ec1</td>\n",
              "      <td>0.008333</td>\n",
              "      <td>0.008333</td>\n",
              "      <td>0.008333</td>\n",
              "      <td>0.008333</td>\n",
              "      <td>0.008333</td>\n",
              "      <td>0.008333</td>\n",
              "      <td>0.008333</td>\n",
              "      <td>0.008333</td>\n",
              "      <td>0.008333</td>\n",
              "      <td>0.008333</td>\n",
              "      <td>0.008333</td>\n",
              "      <td>0.008333</td>\n",
              "      <td>0.008333</td>\n",
              "      <td>0.008333</td>\n",
              "      <td>0.008333</td>\n",
              "      <td>0.008333</td>\n",
              "      <td>0.008333</td>\n",
              "      <td>0.008333</td>\n",
              "      <td>0.008333</td>\n",
              "      <td>0.008333</td>\n",
              "      <td>0.008333</td>\n",
              "      <td>0.008333</td>\n",
              "      <td>0.008333</td>\n",
              "      <td>0.008333</td>\n",
              "      <td>0.008333</td>\n",
              "      <td>0.008333</td>\n",
              "      <td>0.008333</td>\n",
              "      <td>0.008333</td>\n",
              "      <td>0.008333</td>\n",
              "      <td>0.008333</td>\n",
              "      <td>0.008333</td>\n",
              "      <td>0.008333</td>\n",
              "      <td>0.008333</td>\n",
              "      <td>0.008333</td>\n",
              "      <td>0.008333</td>\n",
              "      <td>0.008333</td>\n",
              "      <td>0.008333</td>\n",
              "      <td>0.008333</td>\n",
              "      <td>0.008333</td>\n",
              "      <td>...</td>\n",
              "      <td>0.008333</td>\n",
              "      <td>0.008333</td>\n",
              "      <td>0.008333</td>\n",
              "      <td>0.008333</td>\n",
              "      <td>0.008333</td>\n",
              "      <td>0.008333</td>\n",
              "      <td>0.008333</td>\n",
              "      <td>0.008333</td>\n",
              "      <td>0.008333</td>\n",
              "      <td>0.008333</td>\n",
              "      <td>0.008333</td>\n",
              "      <td>0.008333</td>\n",
              "      <td>0.008333</td>\n",
              "      <td>0.008333</td>\n",
              "      <td>0.008333</td>\n",
              "      <td>0.008333</td>\n",
              "      <td>0.008333</td>\n",
              "      <td>0.008333</td>\n",
              "      <td>0.008333</td>\n",
              "      <td>0.008333</td>\n",
              "      <td>0.008333</td>\n",
              "      <td>0.008333</td>\n",
              "      <td>0.008333</td>\n",
              "      <td>0.008333</td>\n",
              "      <td>0.008333</td>\n",
              "      <td>0.008333</td>\n",
              "      <td>0.008333</td>\n",
              "      <td>0.008333</td>\n",
              "      <td>0.008333</td>\n",
              "      <td>0.008333</td>\n",
              "      <td>0.008333</td>\n",
              "      <td>0.008333</td>\n",
              "      <td>0.008333</td>\n",
              "      <td>0.008333</td>\n",
              "      <td>0.008333</td>\n",
              "      <td>0.008333</td>\n",
              "      <td>0.008333</td>\n",
              "      <td>0.008333</td>\n",
              "      <td>0.008333</td>\n",
              "      <td>0.008333</td>\n",
              "    </tr>\n",
              "    <tr>\n",
              "      <th>4</th>\n",
              "      <td>001a5f3114548acdefa3d4da05474c2e</td>\n",
              "      <td>0.008333</td>\n",
              "      <td>0.008333</td>\n",
              "      <td>0.008333</td>\n",
              "      <td>0.008333</td>\n",
              "      <td>0.008333</td>\n",
              "      <td>0.008333</td>\n",
              "      <td>0.008333</td>\n",
              "      <td>0.008333</td>\n",
              "      <td>0.008333</td>\n",
              "      <td>0.008333</td>\n",
              "      <td>0.008333</td>\n",
              "      <td>0.008333</td>\n",
              "      <td>0.008333</td>\n",
              "      <td>0.008333</td>\n",
              "      <td>0.008333</td>\n",
              "      <td>0.008333</td>\n",
              "      <td>0.008333</td>\n",
              "      <td>0.008333</td>\n",
              "      <td>0.008333</td>\n",
              "      <td>0.008333</td>\n",
              "      <td>0.008333</td>\n",
              "      <td>0.008333</td>\n",
              "      <td>0.008333</td>\n",
              "      <td>0.008333</td>\n",
              "      <td>0.008333</td>\n",
              "      <td>0.008333</td>\n",
              "      <td>0.008333</td>\n",
              "      <td>0.008333</td>\n",
              "      <td>0.008333</td>\n",
              "      <td>0.008333</td>\n",
              "      <td>0.008333</td>\n",
              "      <td>0.008333</td>\n",
              "      <td>0.008333</td>\n",
              "      <td>0.008333</td>\n",
              "      <td>0.008333</td>\n",
              "      <td>0.008333</td>\n",
              "      <td>0.008333</td>\n",
              "      <td>0.008333</td>\n",
              "      <td>0.008333</td>\n",
              "      <td>...</td>\n",
              "      <td>0.008333</td>\n",
              "      <td>0.008333</td>\n",
              "      <td>0.008333</td>\n",
              "      <td>0.008333</td>\n",
              "      <td>0.008333</td>\n",
              "      <td>0.008333</td>\n",
              "      <td>0.008333</td>\n",
              "      <td>0.008333</td>\n",
              "      <td>0.008333</td>\n",
              "      <td>0.008333</td>\n",
              "      <td>0.008333</td>\n",
              "      <td>0.008333</td>\n",
              "      <td>0.008333</td>\n",
              "      <td>0.008333</td>\n",
              "      <td>0.008333</td>\n",
              "      <td>0.008333</td>\n",
              "      <td>0.008333</td>\n",
              "      <td>0.008333</td>\n",
              "      <td>0.008333</td>\n",
              "      <td>0.008333</td>\n",
              "      <td>0.008333</td>\n",
              "      <td>0.008333</td>\n",
              "      <td>0.008333</td>\n",
              "      <td>0.008333</td>\n",
              "      <td>0.008333</td>\n",
              "      <td>0.008333</td>\n",
              "      <td>0.008333</td>\n",
              "      <td>0.008333</td>\n",
              "      <td>0.008333</td>\n",
              "      <td>0.008333</td>\n",
              "      <td>0.008333</td>\n",
              "      <td>0.008333</td>\n",
              "      <td>0.008333</td>\n",
              "      <td>0.008333</td>\n",
              "      <td>0.008333</td>\n",
              "      <td>0.008333</td>\n",
              "      <td>0.008333</td>\n",
              "      <td>0.008333</td>\n",
              "      <td>0.008333</td>\n",
              "      <td>0.008333</td>\n",
              "    </tr>\n",
              "  </tbody>\n",
              "</table>\n",
              "<p>5 rows × 121 columns</p>\n",
              "</div>"
            ],
            "text/plain": [
              "                                 id  ...  yorkshire_terrier\n",
              "0  000621fb3cbb32d8935728e48679680e  ...           0.008333\n",
              "1  00102ee9d8eb90812350685311fe5890  ...           0.008333\n",
              "2  0012a730dfa437f5f3613fb75efcd4ce  ...           0.008333\n",
              "3  001510bc8570bbeee98c8d80c8a95ec1  ...           0.008333\n",
              "4  001a5f3114548acdefa3d4da05474c2e  ...           0.008333\n",
              "\n",
              "[5 rows x 121 columns]"
            ]
          },
          "metadata": {
            "tags": []
          },
          "execution_count": 54
        }
      ]
    },
    {
      "cell_type": "code",
      "metadata": {
        "id": "4p7wT-jGFJqN",
        "colab_type": "code",
        "colab": {}
      },
      "source": [
        "test_img = samples.id"
      ],
      "execution_count": 0,
      "outputs": []
    },
    {
      "cell_type": "code",
      "metadata": {
        "id": "3sEOigtEGYf1",
        "colab_type": "code",
        "outputId": "9ceb23e4-0ec8-48fb-df5c-842826f25ad4",
        "colab": {
          "base_uri": "https://localhost:8080/",
          "height": 122
        }
      },
      "source": [
        "test_img.values"
      ],
      "execution_count": 56,
      "outputs": [
        {
          "output_type": "execute_result",
          "data": {
            "text/plain": [
              "array(['000621fb3cbb32d8935728e48679680e',\n",
              "       '00102ee9d8eb90812350685311fe5890',\n",
              "       '0012a730dfa437f5f3613fb75efcd4ce', ...,\n",
              "       'fff74b59b758bbbf13a5793182a9bbe4',\n",
              "       'fff7d50d848e8014ac1e9172dc6762a3',\n",
              "       'fffbff22c1f51e3dc80c4bf04089545b'], dtype=object)"
            ]
          },
          "metadata": {
            "tags": []
          },
          "execution_count": 56
        }
      ]
    },
    {
      "cell_type": "markdown",
      "metadata": {
        "id": "DEJqZIMbm0Jo",
        "colab_type": "text"
      },
      "source": [
        "Run the below code to load the test image files in x_test_feature"
      ]
    },
    {
      "cell_type": "code",
      "metadata": {
        "colab_type": "code",
        "id": "zf7n4WG-b3Hv",
        "outputId": "6de91d44-67fb-42f9-871b-08d6e6814ed8",
        "colab": {
          "base_uri": "https://localhost:8080/",
          "height": 34
        }
      },
      "source": [
        "img_rows = 120\n",
        "img_cols = 120\n",
        "from tqdm import tqdm\n",
        "x_test_feat = []\n",
        "i = 0 # initialisation\n",
        "for f in tqdm(test_img.values): # f for format ,jpg\n",
        "    img = cv2.imread('./test/{}.jpg'.format(f), 1)\n",
        "    img_resize = cv2.resize(img, (img_rows, img_cols)) \n",
        "    x_test_feature.append(img_resize)"
      ],
      "execution_count": 57,
      "outputs": [
        {
          "output_type": "stream",
          "text": [
            "100%|██████████| 10357/10357 [00:26<00:00, 390.71it/s]\n"
          ],
          "name": "stderr"
        }
      ]
    },
    {
      "cell_type": "markdown",
      "metadata": {
        "id": "9My6qSyDnE-_",
        "colab_type": "text"
      },
      "source": [
        "Normalize the test data and convert it into 4 dimensions"
      ]
    },
    {
      "cell_type": "code",
      "metadata": {
        "id": "93n-IntMnJGI",
        "colab_type": "code",
        "colab": {}
      },
      "source": [
        "x_test = np.array(x_test_feature)"
      ],
      "execution_count": 0,
      "outputs": []
    },
    {
      "cell_type": "code",
      "metadata": {
        "id": "NiFy9aOlGdyT",
        "colab_type": "code",
        "colab": {}
      },
      "source": [
        "x_test_no = x_test/255"
      ],
      "execution_count": 0,
      "outputs": []
    },
    {
      "cell_type": "code",
      "metadata": {
        "id": "HgEa8aVSGkAC",
        "colab_type": "code",
        "outputId": "577a6d1d-e04e-4cd2-f3e6-5ad2482a8583",
        "colab": {
          "base_uri": "https://localhost:8080/",
          "height": 34
        }
      },
      "source": [
        "x_test_no.shape"
      ],
      "execution_count": 60,
      "outputs": [
        {
          "output_type": "execute_result",
          "data": {
            "text/plain": [
              "(20714,)"
            ]
          },
          "metadata": {
            "tags": []
          },
          "execution_count": 60
        }
      ]
    },
    {
      "cell_type": "markdown",
      "metadata": {
        "colab_type": "text",
        "id": "zKezNJVMsocP"
      },
      "source": [
        "### Build a basic conv neural network with 2 conv layers (kernel sizes - 5 and 3) add layers as mentioned below for classification.\n",
        "\n",
        "1. Add a Dense layer with 256 neurons with `relu` activation\n",
        "\n",
        "2. Add a Dense layer with 120 neurons as final layer (as there are 120 classes in the given dataset) with `softmax` activation for classifiaction. "
      ]
    },
    {
      "cell_type": "code",
      "metadata": {
        "colab_type": "code",
        "id": "BmRfc4AOZflB",
        "colab": {}
      },
      "source": [
        "from tensorflow.keras.layers import MaxPool2D,Dropout,Dense,Conv2D,BatchNormalization,Flatten\n",
        "from tensorflow.keras.models import Sequential"
      ],
      "execution_count": 0,
      "outputs": []
    },
    {
      "cell_type": "code",
      "metadata": {
        "id": "f_BAvCzo96J6",
        "colab_type": "code",
        "colab": {}
      },
      "source": [
        "model = Sequential()\n",
        "model.add(Conv2D(40,kernel_size=5,activation='relu',input_shape=(128,128,3)))\n",
        "model.add(MaxPool2D(pool_size=2))\n",
        "model.add(Conv2D(84,kernel_size=3,activation='relu'))\n",
        "model.add(MaxPool2D(pool_size=2))\n",
        "model.add(Flatten())\n",
        "model.add(Dense(256,activation='relu'))\n",
        "model.add(Dropout(rate=0.2))\n",
        "model.add(Dense(120,activation='softmax'))\n",
        "model.compile(optimizer='adam',loss='categorical_crossentropy',metrics=['accuracy'])"
      ],
      "execution_count": 0,
      "outputs": []
    },
    {
      "cell_type": "code",
      "metadata": {
        "id": "T1xtlZUQe3m8",
        "colab_type": "code",
        "outputId": "b5e45372-688d-4f5f-8b06-9f7b55fd9690",
        "colab": {
          "base_uri": "https://localhost:8080/",
          "height": 439
        }
      },
      "source": [
        "model.summary()"
      ],
      "execution_count": 63,
      "outputs": [
        {
          "output_type": "stream",
          "text": [
            "Model: \"sequential\"\n",
            "_________________________________________________________________\n",
            "Layer (type)                 Output Shape              Param #   \n",
            "=================================================================\n",
            "conv2d (Conv2D)              (None, 124, 124, 40)      3040      \n",
            "_________________________________________________________________\n",
            "max_pooling2d (MaxPooling2D) (None, 62, 62, 40)        0         \n",
            "_________________________________________________________________\n",
            "conv2d_1 (Conv2D)            (None, 60, 60, 84)        30324     \n",
            "_________________________________________________________________\n",
            "max_pooling2d_1 (MaxPooling2 (None, 30, 30, 84)        0         \n",
            "_________________________________________________________________\n",
            "flatten (Flatten)            (None, 75600)             0         \n",
            "_________________________________________________________________\n",
            "dense (Dense)                (None, 256)               19353856  \n",
            "_________________________________________________________________\n",
            "dropout (Dropout)            (None, 256)               0         \n",
            "_________________________________________________________________\n",
            "dense_1 (Dense)              (None, 120)               30840     \n",
            "=================================================================\n",
            "Total params: 19,418,060\n",
            "Trainable params: 19,418,060\n",
            "Non-trainable params: 0\n",
            "_________________________________________________________________\n"
          ],
          "name": "stdout"
        }
      ]
    },
    {
      "cell_type": "markdown",
      "metadata": {
        "id": "ui8EXw6_oqpR",
        "colab_type": "text"
      },
      "source": [
        "### Use batch_size = 128 and epochs = 10 and execute the model"
      ]
    },
    {
      "cell_type": "code",
      "metadata": {
        "id": "IriIc37NozbK",
        "colab_type": "code",
        "colab": {}
      },
      "source": [
        "from tensorflow.keras.callbacks import EarlyStopping\n",
        "fastop=EarlyStopping(monitor='val_loss', patience=3)"
      ],
      "execution_count": 0,
      "outputs": []
    },
    {
      "cell_type": "code",
      "metadata": {
        "id": "0PR9j5_Xozmd",
        "colab_type": "code",
        "outputId": "3ff0b255-c940-4851-948d-9be81fb9674d",
        "colab": {
          "base_uri": "https://localhost:8080/",
          "height": 158
        }
      },
      "source": [
        "history = model.fit(x_train,y_train,validation_data = (x_val,y_val),epochs = 10,batch_size = 128,callbacks=[fastop])"
      ],
      "execution_count": 70,
      "outputs": [
        {
          "output_type": "stream",
          "text": [
            "Epoch 1/10\n",
            "56/56 [==============================] - 3s 60ms/step - loss: 0.3720 - accuracy: 0.9062 - val_loss: 8.2495 - val_accuracy: 0.0381\n",
            "Epoch 2/10\n",
            "56/56 [==============================] - 3s 60ms/step - loss: 0.2086 - accuracy: 0.9514 - val_loss: 8.8163 - val_accuracy: 0.0411\n",
            "Epoch 3/10\n",
            "56/56 [==============================] - 3s 60ms/step - loss: 0.1539 - accuracy: 0.9644 - val_loss: 9.4436 - val_accuracy: 0.0388\n",
            "Epoch 4/10\n",
            "56/56 [==============================] - 3s 61ms/step - loss: 0.1300 - accuracy: 0.9705 - val_loss: 9.3451 - val_accuracy: 0.0398\n"
          ],
          "name": "stdout"
        }
      ]
    },
    {
      "cell_type": "code",
      "metadata": {
        "id": "qtD8IrADGExP",
        "colab_type": "code",
        "outputId": "0fe8a04a-1e0b-49a2-f65e-e8025afc538e",
        "colab": {
          "base_uri": "https://localhost:8080/",
          "height": 87
        }
      },
      "source": [
        "loss,accuracy = model.evaluate(x_train,y_train)\n",
        "loss1,accuracy1 = model.evaluate(x_val,y_val)\n",
        "print(\"The training loss was about {}% wherein the training accuracy accounted up to {}% but,\\n the validation loss goes upto {}% & validation accuracy is {}%\".format(loss*100,accuracy*100,loss1*100,accuracy1*100))"
      ],
      "execution_count": 71,
      "outputs": [
        {
          "output_type": "stream",
          "text": [
            "224/224 [==============================] - 2s 7ms/step - loss: 0.0198 - accuracy: 0.9990\n",
            "96/96 [==============================] - 1s 7ms/step - loss: 9.3448 - accuracy: 0.0398\n",
            "The training loss was about 1.9789321348071098% wherein the training accuracy accounted up to 99.90216493606567% but,\n",
            " the validation loss goes upto 934.4755172729492% & validation accuracy is 3.977828472852707%\n"
          ],
          "name": "stdout"
        }
      ]
    },
    {
      "cell_type": "code",
      "metadata": {
        "id": "ydwNd23xG5nf",
        "colab_type": "code",
        "outputId": "432b47a4-7b51-4a9a-aac4-c5e4626fd863",
        "colab": {
          "base_uri": "https://localhost:8080/",
          "height": 449
        }
      },
      "source": [
        "fig,(ax1,ax2) = plt.subplots(1,2,figsize=(14,6))\n",
        "fig.suptitle(\"Model stats\")\n",
        "fig.subplots_adjust(top=0.85, wspace=0.3)\n",
        "\n",
        "ax1.plot(history.history['accuracy'],label='Train Accuracy')\n",
        "ax1.plot(history.history['val_accuracy'],label='Validation Accuracy')\n",
        "ax1.set_title('Accuracy')\n",
        "ax1.set_xlabel('Epochs')\n",
        "ax1.set_ylabel('Accuracy(%)')\n",
        "ax1.legend(loc='best')\n",
        "\n",
        "ax2.plot(history.history['loss'],label='Train Loss')\n",
        "ax2.plot(history.history['val_loss'],label='Validation Loss')\n",
        "ax2.set_title('Loss')\n",
        "ax2.set_xlabel('Epochs')\n",
        "ax2.set_ylabel('Loss value(%)')\n",
        "ax2.legend(loc='best')"
      ],
      "execution_count": 76,
      "outputs": [
        {
          "output_type": "execute_result",
          "data": {
            "text/plain": [
              "<matplotlib.legend.Legend at 0x7fc40242b550>"
            ]
          },
          "metadata": {
            "tags": []
          },
          "execution_count": 76
        },
        {
          "output_type": "display_data",
          "data": {
            "image/png": "[encoded data removed]",
            "text/plain": [
              "<Figure size 1008x432 with 2 Axes>"
            ]
          },
          "metadata": {
            "tags": []
          }
        }
      ]
    },
    {
      "cell_type": "code",
      "metadata": {
        "id": "e0CH6cW2iWbv",
        "colab_type": "code",
        "colab": {}
      },
      "source": [
        "model1 = Sequential()\n",
        "model1.add(Conv2D(10,kernel_size=5,activation='relu',input_shape=(128,128,3)))\n",
        "model1.add(Conv2D(30,kernel_size=3,activation='relu'))\n",
        "model1.add(MaxPool2D(pool_size=2))\n",
        "model1.add(BatchNormalization())\n",
        "model1.add(Conv2D(60,kernel_size=3,activation='relu'))\n",
        "model1.add(Conv2D(90,kernel_size=3,activation='relu'))\n",
        "model1.add(MaxPool2D(pool_size=3))\n",
        "model1.add(Conv2D(120,kernel_size=3,activation='relu'))\n",
        "model1.add(Conv2D(150,kernel_size=3,activation='relu'))\n",
        "model1.add(MaxPool2D(pool_size=2))\n",
        "model1.add(Flatten())\n",
        "model1.add(BatchNormalization())\n",
        "model1.add(Dense(512,activation='relu'))\n",
        "model1.add(Dropout(rate=0.25))\n",
        "model1.add(Dense(256,activation='relu'))\n",
        "model1.add(Dense(120,activation='softmax'))\n",
        "model1.compile(optimizer='adam',loss='categorical_crossentropy',metrics=['accuracy'])"
      ],
      "execution_count": 0,
      "outputs": []
    },
    {
      "cell_type": "code",
      "metadata": {
        "id": "EmDj5nvOi1H9",
        "colab_type": "code",
        "outputId": "f6379a56-e3d0-42d4-db22-425537906958",
        "colab": {
          "base_uri": "https://localhost:8080/",
          "height": 721
        }
      },
      "source": [
        "model1.summary()"
      ],
      "execution_count": 79,
      "outputs": [
        {
          "output_type": "stream",
          "text": [
            "Model: \"sequential_2\"\n",
            "_________________________________________________________________\n",
            "Layer (type)                 Output Shape              Param #   \n",
            "=================================================================\n",
            "conv2d_8 (Conv2D)            (None, 124, 124, 10)      760       \n",
            "_________________________________________________________________\n",
            "conv2d_9 (Conv2D)            (None, 122, 122, 30)      2730      \n",
            "_________________________________________________________________\n",
            "max_pooling2d_5 (MaxPooling2 (None, 61, 61, 30)        0         \n",
            "_________________________________________________________________\n",
            "batch_normalization_2 (Batch (None, 61, 61, 30)        120       \n",
            "_________________________________________________________________\n",
            "conv2d_10 (Conv2D)           (None, 59, 59, 60)        16260     \n",
            "_________________________________________________________________\n",
            "conv2d_11 (Conv2D)           (None, 57, 57, 90)        48690     \n",
            "_________________________________________________________________\n",
            "max_pooling2d_6 (MaxPooling2 (None, 19, 19, 90)        0         \n",
            "_________________________________________________________________\n",
            "conv2d_12 (Conv2D)           (None, 17, 17, 120)       97320     \n",
            "_________________________________________________________________\n",
            "conv2d_13 (Conv2D)           (None, 15, 15, 150)       162150    \n",
            "_________________________________________________________________\n",
            "max_pooling2d_7 (MaxPooling2 (None, 7, 7, 150)         0         \n",
            "_________________________________________________________________\n",
            "flatten_2 (Flatten)          (None, 7350)              0         \n",
            "_________________________________________________________________\n",
            "batch_normalization_3 (Batch (None, 7350)              29400     \n",
            "_________________________________________________________________\n",
            "dense_5 (Dense)              (None, 512)               3763712   \n",
            "_________________________________________________________________\n",
            "dropout_2 (Dropout)          (None, 512)               0         \n",
            "_________________________________________________________________\n",
            "dense_6 (Dense)              (None, 256)               131328    \n",
            "_________________________________________________________________\n",
            "dense_7 (Dense)              (None, 120)               30840     \n",
            "=================================================================\n",
            "Total params: 4,283,310\n",
            "Trainable params: 4,268,550\n",
            "Non-trainable params: 14,760\n",
            "_________________________________________________________________\n"
          ],
          "name": "stdout"
        }
      ]
    },
    {
      "cell_type": "code",
      "metadata": {
        "id": "TUEVeuW7i386",
        "colab_type": "code",
        "outputId": "83c8826f-8da6-4863-ace0-fc9fceda70e0",
        "colab": {
          "base_uri": "https://localhost:8080/",
          "height": 1000
        }
      },
      "source": [
        "history = model1.fit(x_train,y_train,validation_data=(x_val,y_val),epochs=50,batch_size=128)\n",
        "fig,(ax1,ax2) = plt.subplots(1,2,figsize=(14,6))\n",
        "fig.suptitle(\"Model stats\")\n",
        "fig.subplots_adjust(top=0.85, wspace=0.3)\n",
        "\n",
        "ax1.plot(history.history['accuracy'],label='Train Accuracy')\n",
        "ax1.plot(history.history['val_accuracy'],label='Validation Accuracy')\n",
        "ax1.set_title('Accuracy')\n",
        "ax1.set_xlabel('Epochs')\n",
        "ax1.set_ylabel('Accuracy(%)')\n",
        "ax1.legend(loc='best')\n",
        "\n",
        "ax2.plot(history.history['loss'],label='Train Loss')\n",
        "ax2.plot(history.history['val_loss'],label='Validation Loss')\n",
        "ax2.set_title('Loss')\n",
        "ax2.set_xlabel('Epochs')\n",
        "ax2.set_ylabel('Loss value(%)')\n",
        "ax2.legend(loc='best')"
      ],
      "execution_count": 81,
      "outputs": [
        {
          "output_type": "stream",
          "text": [
            "Epoch 1/50\n",
            "56/56 [==============================] - 5s 81ms/step - loss: 0.3419 - accuracy: 0.9187 - val_loss: 6.4190 - val_accuracy: 0.0783\n",
            "Epoch 2/50\n",
            "56/56 [==============================] - 5s 81ms/step - loss: 0.2662 - accuracy: 0.9410 - val_loss: 6.5268 - val_accuracy: 0.0734\n",
            "Epoch 3/50\n",
            "56/56 [==============================] - 5s 81ms/step - loss: 0.2346 - accuracy: 0.9452 - val_loss: 6.8649 - val_accuracy: 0.0773\n",
            "Epoch 4/50\n",
            "56/56 [==============================] - 5s 81ms/step - loss: 0.1949 - accuracy: 0.9561 - val_loss: 7.5701 - val_accuracy: 0.0812\n",
            "Epoch 5/50\n",
            "56/56 [==============================] - 5s 81ms/step - loss: 0.1424 - accuracy: 0.9695 - val_loss: 6.8529 - val_accuracy: 0.0783\n",
            "Epoch 6/50\n",
            "56/56 [==============================] - 5s 81ms/step - loss: 0.1160 - accuracy: 0.9760 - val_loss: 7.2628 - val_accuracy: 0.0815\n",
            "Epoch 7/50\n",
            "56/56 [==============================] - 5s 81ms/step - loss: 0.1206 - accuracy: 0.9733 - val_loss: 7.2031 - val_accuracy: 0.0818\n",
            "Epoch 8/50\n",
            "56/56 [==============================] - 5s 81ms/step - loss: 0.0998 - accuracy: 0.9779 - val_loss: 7.2988 - val_accuracy: 0.0864\n",
            "Epoch 9/50\n",
            "56/56 [==============================] - 5s 81ms/step - loss: 0.1010 - accuracy: 0.9771 - val_loss: 8.1632 - val_accuracy: 0.0792\n",
            "Epoch 10/50\n",
            "56/56 [==============================] - 5s 81ms/step - loss: 0.0834 - accuracy: 0.9810 - val_loss: 7.8090 - val_accuracy: 0.0822\n",
            "Epoch 11/50\n",
            "56/56 [==============================] - 5s 81ms/step - loss: 0.0761 - accuracy: 0.9843 - val_loss: 7.6789 - val_accuracy: 0.0799\n",
            "Epoch 12/50\n",
            "56/56 [==============================] - 5s 81ms/step - loss: 0.0698 - accuracy: 0.9863 - val_loss: 7.7440 - val_accuracy: 0.0838\n",
            "Epoch 13/50\n",
            "56/56 [==============================] - 5s 80ms/step - loss: 0.0727 - accuracy: 0.9823 - val_loss: 8.0260 - val_accuracy: 0.0779\n",
            "Epoch 14/50\n",
            "56/56 [==============================] - 5s 81ms/step - loss: 0.0750 - accuracy: 0.9827 - val_loss: 7.9667 - val_accuracy: 0.0743\n",
            "Epoch 15/50\n",
            "56/56 [==============================] - 5s 81ms/step - loss: 0.0776 - accuracy: 0.9813 - val_loss: 7.9628 - val_accuracy: 0.0724\n",
            "Epoch 16/50\n",
            "56/56 [==============================] - 5s 81ms/step - loss: 0.0854 - accuracy: 0.9800 - val_loss: 8.5027 - val_accuracy: 0.0721\n",
            "Epoch 17/50\n",
            "56/56 [==============================] - 5s 81ms/step - loss: 0.0792 - accuracy: 0.9797 - val_loss: 8.3167 - val_accuracy: 0.0685\n",
            "Epoch 18/50\n",
            "56/56 [==============================] - 5s 81ms/step - loss: 0.0758 - accuracy: 0.9810 - val_loss: 8.1875 - val_accuracy: 0.0730\n",
            "Epoch 19/50\n",
            "56/56 [==============================] - 5s 81ms/step - loss: 0.0664 - accuracy: 0.9839 - val_loss: 9.1008 - val_accuracy: 0.0730\n",
            "Epoch 20/50\n",
            "56/56 [==============================] - 4s 80ms/step - loss: 0.0707 - accuracy: 0.9834 - val_loss: 8.7543 - val_accuracy: 0.0769\n",
            "Epoch 21/50\n",
            "56/56 [==============================] - 5s 81ms/step - loss: 0.0744 - accuracy: 0.9813 - val_loss: 8.2775 - val_accuracy: 0.0844\n",
            "Epoch 22/50\n",
            "56/56 [==============================] - 5s 81ms/step - loss: 0.0771 - accuracy: 0.9793 - val_loss: 8.6253 - val_accuracy: 0.0727\n",
            "Epoch 23/50\n",
            "56/56 [==============================] - 5s 81ms/step - loss: 0.0744 - accuracy: 0.9813 - val_loss: 8.7053 - val_accuracy: 0.0766\n",
            "Epoch 24/50\n",
            "56/56 [==============================] - 5s 81ms/step - loss: 0.0685 - accuracy: 0.9820 - val_loss: 8.4192 - val_accuracy: 0.0766\n",
            "Epoch 25/50\n",
            "56/56 [==============================] - 5s 81ms/step - loss: 0.0863 - accuracy: 0.9737 - val_loss: 9.7548 - val_accuracy: 0.0708\n",
            "Epoch 26/50\n",
            "56/56 [==============================] - 5s 81ms/step - loss: 0.0822 - accuracy: 0.9781 - val_loss: 9.5015 - val_accuracy: 0.0724\n",
            "Epoch 27/50\n",
            "56/56 [==============================] - 5s 81ms/step - loss: 0.0901 - accuracy: 0.9741 - val_loss: 8.9390 - val_accuracy: 0.0734\n",
            "Epoch 28/50\n",
            "56/56 [==============================] - 4s 80ms/step - loss: 0.0936 - accuracy: 0.9718 - val_loss: 10.6953 - val_accuracy: 0.0665\n",
            "Epoch 29/50\n",
            "56/56 [==============================] - 5s 81ms/step - loss: 0.0978 - accuracy: 0.9711 - val_loss: 9.5080 - val_accuracy: 0.0708\n",
            "Epoch 30/50\n",
            "56/56 [==============================] - 5s 81ms/step - loss: 0.0876 - accuracy: 0.9755 - val_loss: 9.0149 - val_accuracy: 0.0688\n",
            "Epoch 31/50\n",
            "56/56 [==============================] - 5s 80ms/step - loss: 0.0843 - accuracy: 0.9762 - val_loss: 9.7319 - val_accuracy: 0.0639\n",
            "Epoch 32/50\n",
            "56/56 [==============================] - 5s 81ms/step - loss: 0.0824 - accuracy: 0.9771 - val_loss: 9.2065 - val_accuracy: 0.0711\n",
            "Epoch 33/50\n",
            "56/56 [==============================] - 5s 81ms/step - loss: 0.0723 - accuracy: 0.9797 - val_loss: 9.0586 - val_accuracy: 0.0802\n",
            "Epoch 34/50\n",
            "56/56 [==============================] - 5s 81ms/step - loss: 0.0759 - accuracy: 0.9776 - val_loss: 9.2936 - val_accuracy: 0.0672\n",
            "Epoch 35/50\n",
            "56/56 [==============================] - 5s 81ms/step - loss: 0.0790 - accuracy: 0.9782 - val_loss: 9.9966 - val_accuracy: 0.0734\n",
            "Epoch 36/50\n",
            "56/56 [==============================] - 5s 81ms/step - loss: 0.0715 - accuracy: 0.9792 - val_loss: 10.1227 - val_accuracy: 0.0822\n",
            "Epoch 37/50\n",
            "56/56 [==============================] - 5s 81ms/step - loss: 0.0791 - accuracy: 0.9792 - val_loss: 9.5890 - val_accuracy: 0.0773\n",
            "Epoch 38/50\n",
            "56/56 [==============================] - 5s 81ms/step - loss: 0.0638 - accuracy: 0.9811 - val_loss: 10.4507 - val_accuracy: 0.0786\n",
            "Epoch 39/50\n",
            "56/56 [==============================] - 5s 81ms/step - loss: 0.0748 - accuracy: 0.9783 - val_loss: 10.2681 - val_accuracy: 0.0734\n",
            "Epoch 40/50\n",
            "56/56 [==============================] - 5s 80ms/step - loss: 0.0725 - accuracy: 0.9774 - val_loss: 9.8853 - val_accuracy: 0.0766\n",
            "Epoch 41/50\n",
            "56/56 [==============================] - 5s 81ms/step - loss: 0.0698 - accuracy: 0.9803 - val_loss: 10.6025 - val_accuracy: 0.0646\n",
            "Epoch 42/50\n",
            "56/56 [==============================] - 5s 81ms/step - loss: 0.0775 - accuracy: 0.9764 - val_loss: 10.0725 - val_accuracy: 0.0698\n",
            "Epoch 43/50\n",
            "56/56 [==============================] - 5s 81ms/step - loss: 0.0737 - accuracy: 0.9781 - val_loss: 11.5087 - val_accuracy: 0.0577\n",
            "Epoch 44/50\n",
            "56/56 [==============================] - 5s 81ms/step - loss: 0.0786 - accuracy: 0.9753 - val_loss: 10.5397 - val_accuracy: 0.0616\n",
            "Epoch 45/50\n",
            "56/56 [==============================] - 5s 81ms/step - loss: 0.0922 - accuracy: 0.9720 - val_loss: 11.3521 - val_accuracy: 0.0603\n",
            "Epoch 46/50\n",
            "56/56 [==============================] - 5s 81ms/step - loss: 0.0685 - accuracy: 0.9797 - val_loss: 11.9761 - val_accuracy: 0.0694\n",
            "Epoch 47/50\n",
            "56/56 [==============================] - 5s 81ms/step - loss: 0.0882 - accuracy: 0.9732 - val_loss: 10.6449 - val_accuracy: 0.0721\n",
            "Epoch 48/50\n",
            "56/56 [==============================] - 5s 81ms/step - loss: 0.0893 - accuracy: 0.9732 - val_loss: 9.8157 - val_accuracy: 0.0672\n",
            "Epoch 49/50\n",
            "56/56 [==============================] - 5s 81ms/step - loss: 0.0764 - accuracy: 0.9761 - val_loss: 9.8618 - val_accuracy: 0.0789\n",
            "Epoch 50/50\n",
            "56/56 [==============================] - 4s 80ms/step - loss: 0.0713 - accuracy: 0.9783 - val_loss: 10.9028 - val_accuracy: 0.0662\n"
          ],
          "name": "stdout"
        },
        {
          "output_type": "execute_result",
          "data": {
            "text/plain": [
              "<matplotlib.legend.Legend at 0x7fc400b64128>"
            ]
          },
          "metadata": {
            "tags": []
          },
          "execution_count": 81
        },
        {
          "output_type": "display_data",
          "data": {
            "image/png": "[encoded data removed]",
            "text/plain": [
              "<Figure size 1008x432 with 2 Axes>"
            ]
          },
          "metadata": {
            "tags": []
          }
        }
      ]
    },
    {
      "cell_type": "markdown",
      "metadata": {
        "id": "Z8hWaKmjoz69",
        "colab_type": "text"
      },
      "source": [
        "#The model accuracy is very poor !!!!"
      ]
    },
    {
      "cell_type": "markdown",
      "metadata": {
        "colab_type": "text",
        "id": "agJKkc6xtKiq"
      },
      "source": [
        "### Use Data Augmentation in the above model to see if the accuracy improves\n"
      ]
    },
    {
      "cell_type": "code",
      "metadata": {
        "colab_type": "code",
        "id": "31Mn8qnZb3Ru",
        "colab": {}
      },
      "source": [
        "from tensorflow.keras.preprocessing.image import ImageDataGenerator"
      ],
      "execution_count": 0,
      "outputs": []
    },
    {
      "cell_type": "code",
      "metadata": {
        "id": "gDLQVFDP96KI",
        "colab_type": "code",
        "colab": {}
      },
      "source": [
        "train_datagen = ImageDataGenerator(rotation_range=45,horizontal_flip=True,width_shift_range=0.2,height_shift_range=0.2,rescale = 1./255,shear_range=0.2,zoom_range=0.2,fill_mode='nearest')"
      ],
      "execution_count": 0,
      "outputs": []
    },
    {
      "cell_type": "code",
      "metadata": {
        "colab_type": "code",
        "id": "bqTlW0qHb3Xb",
        "colab": {}
      },
      "source": [
        "val_datagenn = ImageDataGenerator(rescale=1./255)"
      ],
      "execution_count": 0,
      "outputs": []
    },
    {
      "cell_type": "markdown",
      "metadata": {
        "colab_type": "text",
        "id": "6sssbaTfxlkk"
      },
      "source": [
        "### Using the above objects, create the image generators with variable names `train_generator` and `val_generator`\n",
        "\n",
        "You need to use train_datagen.flow() and val_datagen.flow()"
      ]
    },
    {
      "cell_type": "code",
      "metadata": {
        "id": "sehaRgT-96KQ",
        "colab_type": "code",
        "colab": {}
      },
      "source": [
        "train_generator = train_datagen.flow(x_train,y_train,batch_size=100,shuffle=False)"
      ],
      "execution_count": 0,
      "outputs": []
    },
    {
      "cell_type": "code",
      "metadata": {
        "id": "JwB-u0O-O83a",
        "colab_type": "code",
        "colab": {}
      },
      "source": [
        "val_generator = val_datagenn.flow(x_val,y_val,batch_size=100,shuffle=False)"
      ],
      "execution_count": 0,
      "outputs": []
    },
    {
      "cell_type": "code",
      "metadata": {
        "id": "yJUfNkp2bPNy",
        "colab_type": "code",
        "outputId": "00270064-b60e-4ecb-dfbc-053fa46c9211",
        "colab": {
          "base_uri": "https://localhost:8080/",
          "height": 89
        }
      },
      "source": [
        "from matplotlib import pyplot as plt\n",
        "for i in range(1, 6):\n",
        "    plt.subplot(1,5,i)\n",
        "    plt.axis(\"off\")\n",
        "    gene=val_datagenn.random_transform(x_val[1])\n",
        "    plt.imshow(gene)\n",
        "    plt.plot()\n",
        "plt.show()"
      ],
      "execution_count": 93,
      "outputs": [
        {
          "output_type": "display_data",
          "data": {
            "image/png": "[encoded data removed]",
            "text/plain": [
              "<Figure size 432x288 with 5 Axes>"
            ]
          },
          "metadata": {
            "tags": []
          }
        }
      ]
    },
    {
      "cell_type": "markdown",
      "metadata": {
        "colab_type": "text",
        "id": "TVFQJZw3x4-C"
      },
      "source": [
        "### Fit the model using fit_generator() using `train_generator` and `val_generator` from the above step with 10 epochs"
      ]
    },
    {
      "cell_type": "code",
      "metadata": {
        "colab_type": "code",
        "id": "J1K2MqHbuPUa",
        "outputId": "9d3084f4-fed3-4fe1-8c14-f66079879138",
        "colab": {
          "base_uri": "https://localhost:8080/",
          "height": 350
        }
      },
      "source": [
        "model1.fit(train_generator,validation_data=val_generator,epochs=10)"
      ],
      "execution_count": 94,
      "outputs": [
        {
          "output_type": "stream",
          "text": [
            "Epoch 1/10\n",
            "    222/Unknown - 69s 312ms/step - loss: 4.6764 - accuracy: 0.0189"
          ],
          "name": "stdout"
        },
        {
          "output_type": "error",
          "ename": "KeyboardInterrupt",
          "evalue": "ignored",
          "traceback": [
            "\u001b[0;31m---------------------------------------------------------------------------\u001b[0m",
            "\u001b[0;31mKeyboardInterrupt\u001b[0m                         Traceback (most recent call last)",
            "\u001b[0;32m<ipython-input-94-6c9cc14ee9c1>\u001b[0m in \u001b[0;36m<module>\u001b[0;34m()\u001b[0m\n\u001b[0;32m----> 1\u001b[0;31m \u001b[0mmodel1\u001b[0m\u001b[0;34m.\u001b[0m\u001b[0mfit\u001b[0m\u001b[0;34m(\u001b[0m\u001b[0mtrain_generator\u001b[0m\u001b[0;34m,\u001b[0m\u001b[0mvalidation_data\u001b[0m\u001b[0;34m=\u001b[0m\u001b[0mval_generator\u001b[0m\u001b[0;34m,\u001b[0m\u001b[0mepochs\u001b[0m\u001b[0;34m=\u001b[0m\u001b[0;36m10\u001b[0m\u001b[0;34m)\u001b[0m\u001b[0;34m\u001b[0m\u001b[0;34m\u001b[0m\u001b[0m\n\u001b[0m",
            "\u001b[0;32m/usr/local/lib/python3.6/dist-packages/tensorflow/python/keras/engine/training.py\u001b[0m in \u001b[0;36m_method_wrapper\u001b[0;34m(self, *args, **kwargs)\u001b[0m\n\u001b[1;32m     64\u001b[0m   \u001b[0;32mdef\u001b[0m \u001b[0m_method_wrapper\u001b[0m\u001b[0;34m(\u001b[0m\u001b[0mself\u001b[0m\u001b[0;34m,\u001b[0m \u001b[0;34m*\u001b[0m\u001b[0margs\u001b[0m\u001b[0;34m,\u001b[0m \u001b[0;34m**\u001b[0m\u001b[0mkwargs\u001b[0m\u001b[0;34m)\u001b[0m\u001b[0;34m:\u001b[0m\u001b[0;34m\u001b[0m\u001b[0;34m\u001b[0m\u001b[0m\n\u001b[1;32m     65\u001b[0m     \u001b[0;32mif\u001b[0m \u001b[0;32mnot\u001b[0m \u001b[0mself\u001b[0m\u001b[0;34m.\u001b[0m\u001b[0m_in_multi_worker_mode\u001b[0m\u001b[0;34m(\u001b[0m\u001b[0;34m)\u001b[0m\u001b[0;34m:\u001b[0m  \u001b[0;31m# pylint: disable=protected-access\u001b[0m\u001b[0;34m\u001b[0m\u001b[0;34m\u001b[0m\u001b[0m\n\u001b[0;32m---> 66\u001b[0;31m       \u001b[0;32mreturn\u001b[0m \u001b[0mmethod\u001b[0m\u001b[0;34m(\u001b[0m\u001b[0mself\u001b[0m\u001b[0;34m,\u001b[0m \u001b[0;34m*\u001b[0m\u001b[0margs\u001b[0m\u001b[0;34m,\u001b[0m \u001b[0;34m**\u001b[0m\u001b[0mkwargs\u001b[0m\u001b[0;34m)\u001b[0m\u001b[0;34m\u001b[0m\u001b[0;34m\u001b[0m\u001b[0m\n\u001b[0m\u001b[1;32m     67\u001b[0m \u001b[0;34m\u001b[0m\u001b[0m\n\u001b[1;32m     68\u001b[0m     \u001b[0;31m# Running inside `run_distribute_coordinator` already.\u001b[0m\u001b[0;34m\u001b[0m\u001b[0;34m\u001b[0m\u001b[0;34m\u001b[0m\u001b[0m\n",
            "\u001b[0;32m/usr/local/lib/python3.6/dist-packages/tensorflow/python/keras/engine/training.py\u001b[0m in \u001b[0;36mfit\u001b[0;34m(self, x, y, batch_size, epochs, verbose, callbacks, validation_split, validation_data, shuffle, class_weight, sample_weight, initial_epoch, steps_per_epoch, validation_steps, validation_batch_size, validation_freq, max_queue_size, workers, use_multiprocessing, **kwargs)\u001b[0m\n\u001b[1;32m    783\u001b[0m                 batch_size=batch_size):\n\u001b[1;32m    784\u001b[0m               \u001b[0mcallbacks\u001b[0m\u001b[0;34m.\u001b[0m\u001b[0mon_train_batch_begin\u001b[0m\u001b[0;34m(\u001b[0m\u001b[0mstep\u001b[0m\u001b[0;34m)\u001b[0m\u001b[0;34m\u001b[0m\u001b[0;34m\u001b[0m\u001b[0m\n\u001b[0;32m--> 785\u001b[0;31m               \u001b[0mtmp_logs\u001b[0m \u001b[0;34m=\u001b[0m \u001b[0mtrain_function\u001b[0m\u001b[0;34m(\u001b[0m\u001b[0miterator\u001b[0m\u001b[0;34m)\u001b[0m\u001b[0;34m\u001b[0m\u001b[0;34m\u001b[0m\u001b[0m\n\u001b[0m\u001b[1;32m    786\u001b[0m               \u001b[0;31m# Catch OutOfRangeError for Datasets of unknown size.\u001b[0m\u001b[0;34m\u001b[0m\u001b[0;34m\u001b[0m\u001b[0;34m\u001b[0m\u001b[0m\n\u001b[1;32m    787\u001b[0m               \u001b[0;31m# This blocks until the batch has finished executing.\u001b[0m\u001b[0;34m\u001b[0m\u001b[0;34m\u001b[0m\u001b[0;34m\u001b[0m\u001b[0m\n",
            "\u001b[0;32m/usr/local/lib/python3.6/dist-packages/tensorflow/python/eager/def_function.py\u001b[0m in \u001b[0;36m__call__\u001b[0;34m(self, *args, **kwds)\u001b[0m\n\u001b[1;32m    578\u001b[0m         \u001b[0mxla_context\u001b[0m\u001b[0;34m.\u001b[0m\u001b[0mExit\u001b[0m\u001b[0;34m(\u001b[0m\u001b[0;34m)\u001b[0m\u001b[0;34m\u001b[0m\u001b[0;34m\u001b[0m\u001b[0m\n\u001b[1;32m    579\u001b[0m     \u001b[0;32melse\u001b[0m\u001b[0;34m:\u001b[0m\u001b[0;34m\u001b[0m\u001b[0;34m\u001b[0m\u001b[0m\n\u001b[0;32m--> 580\u001b[0;31m       \u001b[0mresult\u001b[0m \u001b[0;34m=\u001b[0m \u001b[0mself\u001b[0m\u001b[0;34m.\u001b[0m\u001b[0m_call\u001b[0m\u001b[0;34m(\u001b[0m\u001b[0;34m*\u001b[0m\u001b[0margs\u001b[0m\u001b[0;34m,\u001b[0m \u001b[0;34m**\u001b[0m\u001b[0mkwds\u001b[0m\u001b[0;34m)\u001b[0m\u001b[0;34m\u001b[0m\u001b[0;34m\u001b[0m\u001b[0m\n\u001b[0m\u001b[1;32m    581\u001b[0m \u001b[0;34m\u001b[0m\u001b[0m\n\u001b[1;32m    582\u001b[0m     \u001b[0;32mif\u001b[0m \u001b[0mtracing_count\u001b[0m \u001b[0;34m==\u001b[0m \u001b[0mself\u001b[0m\u001b[0;34m.\u001b[0m\u001b[0m_get_tracing_count\u001b[0m\u001b[0;34m(\u001b[0m\u001b[0;34m)\u001b[0m\u001b[0;34m:\u001b[0m\u001b[0;34m\u001b[0m\u001b[0;34m\u001b[0m\u001b[0m\n",
            "\u001b[0;32m/usr/local/lib/python3.6/dist-packages/tensorflow/python/eager/def_function.py\u001b[0m in \u001b[0;36m_call\u001b[0;34m(self, *args, **kwds)\u001b[0m\n\u001b[1;32m    609\u001b[0m       \u001b[0;31m# In this case we have created variables on the first call, so we run the\u001b[0m\u001b[0;34m\u001b[0m\u001b[0;34m\u001b[0m\u001b[0;34m\u001b[0m\u001b[0m\n\u001b[1;32m    610\u001b[0m       \u001b[0;31m# defunned version which is guaranteed to never create variables.\u001b[0m\u001b[0;34m\u001b[0m\u001b[0;34m\u001b[0m\u001b[0;34m\u001b[0m\u001b[0m\n\u001b[0;32m--> 611\u001b[0;31m       \u001b[0;32mreturn\u001b[0m \u001b[0mself\u001b[0m\u001b[0;34m.\u001b[0m\u001b[0m_stateless_fn\u001b[0m\u001b[0;34m(\u001b[0m\u001b[0;34m*\u001b[0m\u001b[0margs\u001b[0m\u001b[0;34m,\u001b[0m \u001b[0;34m**\u001b[0m\u001b[0mkwds\u001b[0m\u001b[0;34m)\u001b[0m  \u001b[0;31m# pylint: disable=not-callable\u001b[0m\u001b[0;34m\u001b[0m\u001b[0;34m\u001b[0m\u001b[0m\n\u001b[0m\u001b[1;32m    612\u001b[0m     \u001b[0;32melif\u001b[0m \u001b[0mself\u001b[0m\u001b[0;34m.\u001b[0m\u001b[0m_stateful_fn\u001b[0m \u001b[0;32mis\u001b[0m \u001b[0;32mnot\u001b[0m \u001b[0;32mNone\u001b[0m\u001b[0;34m:\u001b[0m\u001b[0;34m\u001b[0m\u001b[0;34m\u001b[0m\u001b[0m\n\u001b[1;32m    613\u001b[0m       \u001b[0;31m# Release the lock early so that multiple threads can perform the call\u001b[0m\u001b[0;34m\u001b[0m\u001b[0;34m\u001b[0m\u001b[0;34m\u001b[0m\u001b[0m\n",
            "\u001b[0;32m/usr/local/lib/python3.6/dist-packages/tensorflow/python/eager/function.py\u001b[0m in \u001b[0;36m__call__\u001b[0;34m(self, *args, **kwargs)\u001b[0m\n\u001b[1;32m   2418\u001b[0m     \u001b[0;32mwith\u001b[0m \u001b[0mself\u001b[0m\u001b[0;34m.\u001b[0m\u001b[0m_lock\u001b[0m\u001b[0;34m:\u001b[0m\u001b[0;34m\u001b[0m\u001b[0;34m\u001b[0m\u001b[0m\n\u001b[1;32m   2419\u001b[0m       \u001b[0mgraph_function\u001b[0m\u001b[0;34m,\u001b[0m \u001b[0margs\u001b[0m\u001b[0;34m,\u001b[0m \u001b[0mkwargs\u001b[0m \u001b[0;34m=\u001b[0m \u001b[0mself\u001b[0m\u001b[0;34m.\u001b[0m\u001b[0m_maybe_define_function\u001b[0m\u001b[0;34m(\u001b[0m\u001b[0margs\u001b[0m\u001b[0;34m,\u001b[0m \u001b[0mkwargs\u001b[0m\u001b[0;34m)\u001b[0m\u001b[0;34m\u001b[0m\u001b[0;34m\u001b[0m\u001b[0m\n\u001b[0;32m-> 2420\u001b[0;31m     \u001b[0;32mreturn\u001b[0m \u001b[0mgraph_function\u001b[0m\u001b[0;34m.\u001b[0m\u001b[0m_filtered_call\u001b[0m\u001b[0;34m(\u001b[0m\u001b[0margs\u001b[0m\u001b[0;34m,\u001b[0m \u001b[0mkwargs\u001b[0m\u001b[0;34m)\u001b[0m  \u001b[0;31m# pylint: disable=protected-access\u001b[0m\u001b[0;34m\u001b[0m\u001b[0;34m\u001b[0m\u001b[0m\n\u001b[0m\u001b[1;32m   2421\u001b[0m \u001b[0;34m\u001b[0m\u001b[0m\n\u001b[1;32m   2422\u001b[0m   \u001b[0;34m@\u001b[0m\u001b[0mproperty\u001b[0m\u001b[0;34m\u001b[0m\u001b[0;34m\u001b[0m\u001b[0m\n",
            "\u001b[0;32m/usr/local/lib/python3.6/dist-packages/tensorflow/python/eager/function.py\u001b[0m in \u001b[0;36m_filtered_call\u001b[0;34m(self, args, kwargs)\u001b[0m\n\u001b[1;32m   1663\u001b[0m          if isinstance(t, (ops.Tensor,\n\u001b[1;32m   1664\u001b[0m                            resource_variable_ops.BaseResourceVariable))),\n\u001b[0;32m-> 1665\u001b[0;31m         self.captured_inputs)\n\u001b[0m\u001b[1;32m   1666\u001b[0m \u001b[0;34m\u001b[0m\u001b[0m\n\u001b[1;32m   1667\u001b[0m   \u001b[0;32mdef\u001b[0m \u001b[0m_call_flat\u001b[0m\u001b[0;34m(\u001b[0m\u001b[0mself\u001b[0m\u001b[0;34m,\u001b[0m \u001b[0margs\u001b[0m\u001b[0;34m,\u001b[0m \u001b[0mcaptured_inputs\u001b[0m\u001b[0;34m,\u001b[0m \u001b[0mcancellation_manager\u001b[0m\u001b[0;34m=\u001b[0m\u001b[0;32mNone\u001b[0m\u001b[0;34m)\u001b[0m\u001b[0;34m:\u001b[0m\u001b[0;34m\u001b[0m\u001b[0;34m\u001b[0m\u001b[0m\n",
            "\u001b[0;32m/usr/local/lib/python3.6/dist-packages/tensorflow/python/eager/function.py\u001b[0m in \u001b[0;36m_call_flat\u001b[0;34m(self, args, captured_inputs, cancellation_manager)\u001b[0m\n\u001b[1;32m   1744\u001b[0m       \u001b[0;31m# No tape is watching; skip to running the function.\u001b[0m\u001b[0;34m\u001b[0m\u001b[0;34m\u001b[0m\u001b[0;34m\u001b[0m\u001b[0m\n\u001b[1;32m   1745\u001b[0m       return self._build_call_outputs(self._inference_function.call(\n\u001b[0;32m-> 1746\u001b[0;31m           ctx, args, cancellation_manager=cancellation_manager))\n\u001b[0m\u001b[1;32m   1747\u001b[0m     forward_backward = self._select_forward_and_backward_functions(\n\u001b[1;32m   1748\u001b[0m         \u001b[0margs\u001b[0m\u001b[0;34m,\u001b[0m\u001b[0;34m\u001b[0m\u001b[0;34m\u001b[0m\u001b[0m\n",
            "\u001b[0;32m/usr/local/lib/python3.6/dist-packages/tensorflow/python/eager/function.py\u001b[0m in \u001b[0;36mcall\u001b[0;34m(self, ctx, args, cancellation_manager)\u001b[0m\n\u001b[1;32m    596\u001b[0m               \u001b[0minputs\u001b[0m\u001b[0;34m=\u001b[0m\u001b[0margs\u001b[0m\u001b[0;34m,\u001b[0m\u001b[0;34m\u001b[0m\u001b[0;34m\u001b[0m\u001b[0m\n\u001b[1;32m    597\u001b[0m               \u001b[0mattrs\u001b[0m\u001b[0;34m=\u001b[0m\u001b[0mattrs\u001b[0m\u001b[0;34m,\u001b[0m\u001b[0;34m\u001b[0m\u001b[0;34m\u001b[0m\u001b[0m\n\u001b[0;32m--> 598\u001b[0;31m               ctx=ctx)\n\u001b[0m\u001b[1;32m    599\u001b[0m         \u001b[0;32melse\u001b[0m\u001b[0;34m:\u001b[0m\u001b[0;34m\u001b[0m\u001b[0;34m\u001b[0m\u001b[0m\n\u001b[1;32m    600\u001b[0m           outputs = execute.execute_with_cancellation(\n",
            "\u001b[0;32m/usr/local/lib/python3.6/dist-packages/tensorflow/python/eager/execute.py\u001b[0m in \u001b[0;36mquick_execute\u001b[0;34m(op_name, num_outputs, inputs, attrs, ctx, name)\u001b[0m\n\u001b[1;32m     58\u001b[0m     \u001b[0mctx\u001b[0m\u001b[0;34m.\u001b[0m\u001b[0mensure_initialized\u001b[0m\u001b[0;34m(\u001b[0m\u001b[0;34m)\u001b[0m\u001b[0;34m\u001b[0m\u001b[0;34m\u001b[0m\u001b[0m\n\u001b[1;32m     59\u001b[0m     tensors = pywrap_tfe.TFE_Py_Execute(ctx._handle, device_name, op_name,\n\u001b[0;32m---> 60\u001b[0;31m                                         inputs, attrs, num_outputs)\n\u001b[0m\u001b[1;32m     61\u001b[0m   \u001b[0;32mexcept\u001b[0m \u001b[0mcore\u001b[0m\u001b[0;34m.\u001b[0m\u001b[0m_NotOkStatusException\u001b[0m \u001b[0;32mas\u001b[0m \u001b[0me\u001b[0m\u001b[0;34m:\u001b[0m\u001b[0;34m\u001b[0m\u001b[0;34m\u001b[0m\u001b[0m\n\u001b[1;32m     62\u001b[0m     \u001b[0;32mif\u001b[0m \u001b[0mname\u001b[0m \u001b[0;32mis\u001b[0m \u001b[0;32mnot\u001b[0m \u001b[0;32mNone\u001b[0m\u001b[0;34m:\u001b[0m\u001b[0;34m\u001b[0m\u001b[0;34m\u001b[0m\u001b[0m\n",
            "\u001b[0;31mKeyboardInterrupt\u001b[0m: "
          ]
        }
      ]
    },
    {
      "cell_type": "markdown",
      "metadata": {
        "id": "X5_uTLku25MN",
        "colab_type": "text"
      },
      "source": [
        "#i stoped this step because it take too much to run again"
      ]
    },
    {
      "cell_type": "code",
      "metadata": {
        "id": "Sq4f-xUNPoRh",
        "colab_type": "code",
        "colab": {
          "base_uri": "https://localhost:8080/",
          "height": 34
        },
        "outputId": "9a7dd779-569c-4165-f941-4a711b860503"
      },
      "source": [
        "loss1,acc1 = model.evaluate(train_generator)\n",
        "loss2,acc2 = model.evaluate(val_generator)\n",
        "print(\"The training loss was about {}% wherein the training accuracy accounted up to {}% but,\\n the validation loss goes upto {}% & validation accuracy is {}%\".format(loss1*100,acc1*100,loss2*100,acc2*100))"
      ],
      "execution_count": 0,
      "outputs": [
        {
          "output_type": "stream",
          "text": [
            "   2320/Unknown - 712s 307ms/step - loss: 6.6637 - accuracy: 0.0075"
          ],
          "name": "stdout"
        }
      ]
    },
    {
      "cell_type": "markdown",
      "metadata": {
        "id": "Q2zmLztqo5DY",
        "colab_type": "text"
      },
      "source": [
        "# Model accuracy is still poor !!"
      ]
    },
    {
      "cell_type": "markdown",
      "metadata": {
        "id": "rSTATrhsAo7L",
        "colab_type": "text"
      },
      "source": [
        "### Lets use Transfer Learning\n",
        "\n",
        "Download the vgg wieght file from here : https://github.com/MinerKasch/applied_deep_learning/blob/master/vgg16_weights_tf_dim_ordering_tf_kernels_notop.h5"
      ]
    },
    {
      "cell_type": "markdown",
      "metadata": {
        "id": "zy5JdbW6pIvD",
        "colab_type": "text"
      },
      "source": [
        "Use the below code to load VGG16 weights trained on ImageNet"
      ]
    },
    {
      "cell_type": "code",
      "metadata": {
        "id": "yrqs0zg7ApNw",
        "colab_type": "code",
        "colab": {}
      },
      "source": [
        "from tensorflow.keras.applications.vgg16 import VGG16, preprocess_input\n",
        "# Instantiate the model with the pre-trained weights (no top)\n",
        "base_model= VGG16(weights=('/content/drive/My Drive/AI/Project/6th/vgg16_weights_tf_dim_ordering_tf_kernels_notop.h5'),\n",
        "                 include_top=False, pooling='avg')"
      ],
      "execution_count": 0,
      "outputs": []
    },
    {
      "cell_type": "markdown",
      "metadata": {
        "id": "EItOlRBGpV_A",
        "colab_type": "text"
      },
      "source": [
        "Print the summary of the base_model"
      ]
    },
    {
      "cell_type": "code",
      "metadata": {
        "id": "lQsEBgnlpHjH",
        "colab_type": "code",
        "outputId": "7cdb403d-07c9-4995-926d-6fea599243b8",
        "colab": {
          "base_uri": "https://localhost:8080/",
          "height": 847
        }
      },
      "source": [
        "base_model.summary()"
      ],
      "execution_count": 0,
      "outputs": [
        {
          "output_type": "stream",
          "text": [
            "Model: \"vgg16\"\n",
            "_________________________________________________________________\n",
            "Layer (type)                 Output Shape              Param #   \n",
            "=================================================================\n",
            "input_1 (InputLayer)         [(None, None, None, 3)]   0         \n",
            "_________________________________________________________________\n",
            "block1_conv1 (Conv2D)        (None, None, None, 64)    1792      \n",
            "_________________________________________________________________\n",
            "block1_conv2 (Conv2D)        (None, None, None, 64)    36928     \n",
            "_________________________________________________________________\n",
            "block1_pool (MaxPooling2D)   (None, None, None, 64)    0         \n",
            "_________________________________________________________________\n",
            "block2_conv1 (Conv2D)        (None, None, None, 128)   73856     \n",
            "_________________________________________________________________\n",
            "block2_conv2 (Conv2D)        (None, None, None, 128)   147584    \n",
            "_________________________________________________________________\n",
            "block2_pool (MaxPooling2D)   (None, None, None, 128)   0         \n",
            "_________________________________________________________________\n",
            "block3_conv1 (Conv2D)        (None, None, None, 256)   295168    \n",
            "_________________________________________________________________\n",
            "block3_conv2 (Conv2D)        (None, None, None, 256)   590080    \n",
            "_________________________________________________________________\n",
            "block3_conv3 (Conv2D)        (None, None, None, 256)   590080    \n",
            "_________________________________________________________________\n",
            "block3_pool (MaxPooling2D)   (None, None, None, 256)   0         \n",
            "_________________________________________________________________\n",
            "block4_conv1 (Conv2D)        (None, None, None, 512)   1180160   \n",
            "_________________________________________________________________\n",
            "block4_conv2 (Conv2D)        (None, None, None, 512)   2359808   \n",
            "_________________________________________________________________\n",
            "block4_conv3 (Conv2D)        (None, None, None, 512)   2359808   \n",
            "_________________________________________________________________\n",
            "block4_pool (MaxPooling2D)   (None, None, None, 512)   0         \n",
            "_________________________________________________________________\n",
            "block5_conv1 (Conv2D)        (None, None, None, 512)   2359808   \n",
            "_________________________________________________________________\n",
            "block5_conv2 (Conv2D)        (None, None, None, 512)   2359808   \n",
            "_________________________________________________________________\n",
            "block5_conv3 (Conv2D)        (None, None, None, 512)   2359808   \n",
            "_________________________________________________________________\n",
            "block5_pool (MaxPooling2D)   (None, None, None, 512)   0         \n",
            "_________________________________________________________________\n",
            "global_average_pooling2d (Gl (None, 512)               0         \n",
            "=================================================================\n",
            "Total params: 14,714,688\n",
            "Trainable params: 14,714,688\n",
            "Non-trainable params: 0\n",
            "_________________________________________________________________\n"
          ],
          "name": "stdout"
        }
      ]
    },
    {
      "cell_type": "markdown",
      "metadata": {
        "id": "fHpeOyW0qauW",
        "colab_type": "text"
      },
      "source": [
        "### Add the following classification layers to the imported VGG Model <br>\n",
        "1. Flatten Layer\n",
        "2. Dense layer with 1024 neurons with activation as Relu\n",
        "3. Dense layer with 256 neurons with activation as Relu\n",
        "4. Dense layer with 120 neurons with activation as Softmax"
      ]
    },
    {
      "cell_type": "code",
      "metadata": {
        "id": "0BpT4MLkqoaO",
        "colab_type": "code",
        "colab": {}
      },
      "source": [
        "new_model = Sequential()\n",
        "new_model.add(base_model)\n",
        "new_model.add(Flatten())\n",
        "new_model.add(Dense(1024,activation='relu'))\n",
        "new_model.add(Dropout(rate=0.25))\n",
        "new_model.add(Dense(256,activation='relu'))\n",
        "new_model.add(Dropout(rate=0.25))\n",
        "new_model.add(Dense(120,activation='softmax'))"
      ],
      "execution_count": 0,
      "outputs": []
    },
    {
      "cell_type": "code",
      "metadata": {
        "id": "0J9OxNdjLJ45",
        "colab_type": "code",
        "outputId": "22bb8271-9926-4c35-bb66-07772a5e9043",
        "colab": {
          "base_uri": "https://localhost:8080/",
          "height": 397
        }
      },
      "source": [
        "new_model.summary()"
      ],
      "execution_count": 0,
      "outputs": [
        {
          "output_type": "stream",
          "text": [
            "Model: \"sequential\"\n",
            "_________________________________________________________________\n",
            "Layer (type)                 Output Shape              Param #   \n",
            "=================================================================\n",
            "vgg16 (Model)                (None, 512)               14714688  \n",
            "_________________________________________________________________\n",
            "flatten (Flatten)            (None, 512)               0         \n",
            "_________________________________________________________________\n",
            "dense (Dense)                (None, 1024)              525312    \n",
            "_________________________________________________________________\n",
            "dropout (Dropout)            (None, 1024)              0         \n",
            "_________________________________________________________________\n",
            "dense_1 (Dense)              (None, 256)               262400    \n",
            "_________________________________________________________________\n",
            "dropout_1 (Dropout)          (None, 256)               0         \n",
            "_________________________________________________________________\n",
            "dense_2 (Dense)              (None, 120)               30840     \n",
            "=================================================================\n",
            "Total params: 15,533,240\n",
            "Trainable params: 15,533,240\n",
            "Non-trainable params: 0\n",
            "_________________________________________________________________\n"
          ],
          "name": "stdout"
        }
      ]
    },
    {
      "cell_type": "markdown",
      "metadata": {
        "id": "LeQem0pHITIj",
        "colab_type": "text"
      },
      "source": [
        "### Make all the layers in the base_model (VGG16) to be non-trainable"
      ]
    },
    {
      "cell_type": "code",
      "metadata": {
        "id": "C7w9CSPvIRnX",
        "colab_type": "code",
        "colab": {}
      },
      "source": [
        "for layer in base_model.layers:\n",
        "  layer.trainable = False"
      ],
      "execution_count": 0,
      "outputs": []
    },
    {
      "cell_type": "code",
      "metadata": {
        "id": "PXmBsKhCZDSe",
        "colab_type": "code",
        "outputId": "97e71260-23ca-4479-9a40-7a49025dfff3",
        "colab": {
          "base_uri": "https://localhost:8080/",
          "height": 363
        }
      },
      "source": [
        "for layer in base_model.layers:\n",
        "  print(layer.name,layer.trainable)"
      ],
      "execution_count": 0,
      "outputs": [
        {
          "output_type": "stream",
          "text": [
            "input_1 False\n",
            "block1_conv1 False\n",
            "block1_conv2 False\n",
            "block1_pool False\n",
            "block2_conv1 False\n",
            "block2_conv2 False\n",
            "block2_pool False\n",
            "block3_conv1 False\n",
            "block3_conv2 False\n",
            "block3_conv3 False\n",
            "block3_pool False\n",
            "block4_conv1 False\n",
            "block4_conv2 False\n",
            "block4_conv3 False\n",
            "block4_pool False\n",
            "block5_conv1 False\n",
            "block5_conv2 False\n",
            "block5_conv3 False\n",
            "block5_pool False\n",
            "global_average_pooling2d False\n"
          ],
          "name": "stdout"
        }
      ]
    },
    {
      "cell_type": "markdown",
      "metadata": {
        "id": "kj-BwqgfIkdv",
        "colab_type": "text"
      },
      "source": [
        "### Fit and compile the model with batch_size = 128 and epochs = 10 and execute the model"
      ]
    },
    {
      "cell_type": "markdown",
      "metadata": {
        "id": "YD5fAgVQIpKZ",
        "colab_type": "text"
      },
      "source": [
        "Try to get training and validation accuracy to be more than 90%"
      ]
    },
    {
      "cell_type": "code",
      "metadata": {
        "id": "I09PG2KPcLed",
        "colab_type": "code",
        "colab": {}
      },
      "source": [
        "new_model.compile(optimizer='adam',loss='categorical_crossentropy',metrics=['accuracy'])"
      ],
      "execution_count": 0,
      "outputs": []
    },
    {
      "cell_type": "code",
      "metadata": {
        "id": "SZk2SWvjIoRP",
        "colab_type": "code",
        "outputId": "edca860f-9d63-4c5c-f7d5-8640bf12f130",
        "colab": {
          "base_uri": "https://localhost:8080/",
          "height": 380
        }
      },
      "source": [
        "new_history = new_model.fit(x_train,y_train,validation_data=(x_val,y_val),epochs=10,batch_size=128)"
      ],
      "execution_count": 0,
      "outputs": [
        {
          "output_type": "stream",
          "text": [
            "Train on 8177 samples, validate on 2045 samples\n",
            "Epoch 1/10\n",
            "8177/8177 [==============================] - 11s 1ms/sample - loss: 4.7768 - accuracy: 0.0168 - val_loss: 4.7053 - val_accuracy: 0.0416\n",
            "Epoch 2/10\n",
            "8177/8177 [==============================] - 8s 937us/sample - loss: 4.5396 - accuracy: 0.0412 - val_loss: 4.3068 - val_accuracy: 0.0694\n",
            "Epoch 3/10\n",
            "8177/8177 [==============================] - 8s 941us/sample - loss: 4.1437 - accuracy: 0.0794 - val_loss: 3.9112 - val_accuracy: 0.1066\n",
            "Epoch 4/10\n",
            "8177/8177 [==============================] - 8s 943us/sample - loss: 3.8105 - accuracy: 0.1202 - val_loss: 3.6724 - val_accuracy: 0.1222\n",
            "Epoch 5/10\n",
            "8177/8177 [==============================] - 8s 940us/sample - loss: 3.5824 - accuracy: 0.1480 - val_loss: 3.4928 - val_accuracy: 0.1804\n",
            "Epoch 6/10\n",
            "8177/8177 [==============================] - 8s 939us/sample - loss: 3.4049 - accuracy: 0.1801 - val_loss: 3.3678 - val_accuracy: 0.1765\n",
            "Epoch 7/10\n",
            "8177/8177 [==============================] - 8s 941us/sample - loss: 3.2669 - accuracy: 0.2012 - val_loss: 3.2634 - val_accuracy: 0.2044\n",
            "Epoch 8/10\n",
            "8177/8177 [==============================] - 8s 940us/sample - loss: 3.1499 - accuracy: 0.2228 - val_loss: 3.2048 - val_accuracy: 0.2181\n",
            "Epoch 9/10\n",
            "8177/8177 [==============================] - 8s 939us/sample - loss: 3.0434 - accuracy: 0.2423 - val_loss: 3.1844 - val_accuracy: 0.2156\n",
            "Epoch 10/10\n",
            "8177/8177 [==============================] - 8s 941us/sample - loss: 2.9487 - accuracy: 0.2577 - val_loss: 3.1384 - val_accuracy: 0.2284\n"
          ],
          "name": "stdout"
        }
      ]
    },
    {
      "cell_type": "code",
      "metadata": {
        "id": "bdEOLuQgbcqt",
        "colab_type": "code",
        "outputId": "6745d075-be62-4457-c7ba-e66b4d33febd",
        "colab": {
          "base_uri": "https://localhost:8080/",
          "height": 691
        }
      },
      "source": [
        "new_history1 = new_model.fit(x_train,y_train,validation_data=(x_val,y_val),epochs=20,batch_size=128,callbacks=[fastop])"
      ],
      "execution_count": 0,
      "outputs": [
        {
          "output_type": "stream",
          "text": [
            "Train on 8177 samples, validate on 2045 samples\n",
            "Epoch 1/20\n",
            "8177/8177 [==============================] - 8s 944us/sample - loss: 2.8599 - accuracy: 0.2799 - val_loss: 3.1121 - val_accuracy: 0.2333\n",
            "Epoch 2/20\n",
            "8177/8177 [==============================] - 8s 941us/sample - loss: 2.8002 - accuracy: 0.2871 - val_loss: 3.0704 - val_accuracy: 0.2421\n",
            "Epoch 3/20\n",
            "8177/8177 [==============================] - 8s 938us/sample - loss: 2.7445 - accuracy: 0.3008 - val_loss: 3.0736 - val_accuracy: 0.2381\n",
            "Epoch 4/20\n",
            "8177/8177 [==============================] - 8s 940us/sample - loss: 2.6688 - accuracy: 0.3172 - val_loss: 3.0363 - val_accuracy: 0.2513\n",
            "Epoch 5/20\n",
            "8177/8177 [==============================] - 8s 938us/sample - loss: 2.6022 - accuracy: 0.3191 - val_loss: 3.0263 - val_accuracy: 0.2548\n",
            "Epoch 6/20\n",
            "8177/8177 [==============================] - 8s 941us/sample - loss: 2.5415 - accuracy: 0.3422 - val_loss: 3.0419 - val_accuracy: 0.2538\n",
            "Epoch 7/20\n",
            "8177/8177 [==============================] - 8s 940us/sample - loss: 2.4647 - accuracy: 0.3566 - val_loss: 3.0182 - val_accuracy: 0.2494\n",
            "Epoch 8/20\n",
            "8177/8177 [==============================] - 8s 940us/sample - loss: 2.4188 - accuracy: 0.3701 - val_loss: 3.0270 - val_accuracy: 0.2528\n",
            "Epoch 9/20\n",
            "8177/8177 [==============================] - 8s 938us/sample - loss: 2.3683 - accuracy: 0.3841 - val_loss: 3.0482 - val_accuracy: 0.2538\n",
            "Epoch 10/20\n",
            "8177/8177 [==============================] - 8s 939us/sample - loss: 2.3042 - accuracy: 0.3904 - val_loss: 3.0445 - val_accuracy: 0.2621\n",
            "Epoch 11/20\n",
            "8177/8177 [==============================] - 8s 938us/sample - loss: 2.2429 - accuracy: 0.4054 - val_loss: 3.0477 - val_accuracy: 0.2543\n",
            "Epoch 12/20\n",
            "8177/8177 [==============================] - 8s 938us/sample - loss: 2.1886 - accuracy: 0.4170 - val_loss: 3.0402 - val_accuracy: 0.2631\n",
            "Epoch 13/20\n",
            "8177/8177 [==============================] - 8s 940us/sample - loss: 2.1485 - accuracy: 0.4211 - val_loss: 3.0352 - val_accuracy: 0.2557\n",
            "Epoch 14/20\n",
            "8177/8177 [==============================] - 8s 939us/sample - loss: 2.0785 - accuracy: 0.4461 - val_loss: 3.0916 - val_accuracy: 0.2562\n",
            "Epoch 15/20\n",
            "8177/8177 [==============================] - 8s 940us/sample - loss: 2.0190 - accuracy: 0.4520 - val_loss: 3.0861 - val_accuracy: 0.2582\n",
            "Epoch 16/20\n",
            "8177/8177 [==============================] - 8s 935us/sample - loss: 1.9784 - accuracy: 0.4633 - val_loss: 3.0542 - val_accuracy: 0.2611\n",
            "Epoch 17/20\n",
            "8177/8177 [==============================] - 8s 940us/sample - loss: 1.9198 - accuracy: 0.4812 - val_loss: 3.0903 - val_accuracy: 0.2572\n",
            "Epoch 18/20\n",
            "8177/8177 [==============================] - 8s 941us/sample - loss: 1.8613 - accuracy: 0.4892 - val_loss: 3.0835 - val_accuracy: 0.2645\n",
            "Epoch 19/20\n",
            "8177/8177 [==============================] - 8s 939us/sample - loss: 1.8005 - accuracy: 0.5079 - val_loss: 3.1012 - val_accuracy: 0.2631\n"
          ],
          "name": "stdout"
        }
      ]
    },
    {
      "cell_type": "code",
      "metadata": {
        "id": "cssj-CrApnyh",
        "colab_type": "code",
        "colab": {}
      },
      "source": [
        "import cv2\n",
        "import numpy as np\n",
        "\n",
        "x_train1 = []\n",
        "label = []\n",
        "\n",
        "for img,breeds in labels.values:\n",
        "  train_feat1 = cv2.imread('./train/{}.jpg'.format(img),1)\n",
        "  train_feat_resz1 = cv2.resize(train_feat1,(224,224))\n",
        "  x_train1.append(train_feat_resz1)\n",
        "  label.append(breeds)"
      ],
      "execution_count": 0,
      "outputs": []
    },
    {
      "cell_type": "code",
      "metadata": {
        "id": "ySGo-Vi1juSR",
        "colab_type": "code",
        "colab": {}
      },
      "source": [
        "import numpy as np\n",
        "x_train1 = np.array(x_train1)"
      ],
      "execution_count": 0,
      "outputs": []
    },
    {
      "cell_type": "code",
      "metadata": {
        "id": "BHONyigSkx9E",
        "colab_type": "code",
        "colab": {}
      },
      "source": [
        "x_train_pre = preprocess_input(x_train1)"
      ],
      "execution_count": 0,
      "outputs": []
    },
    {
      "cell_type": "code",
      "metadata": {
        "id": "yvAQNmNf-kXu",
        "colab_type": "code",
        "colab": {}
      },
      "source": [
        "from sklearn.model_selection import train_test_split\n",
        "x_train1,x_val1,y_train1,y_val1 = train_test_split(x_train_pre,ohe,test_size=0.25)"
      ],
      "execution_count": 0,
      "outputs": []
    },
    {
      "cell_type": "code",
      "metadata": {
        "id": "50viFG6SIk2X",
        "colab_type": "code",
        "outputId": "19719beb-0222-4a3a-dfb4-0ec4197d4b68",
        "colab": {
          "base_uri": "https://localhost:8080/",
          "height": 86
        }
      },
      "source": [
        "print(\"the shape of x_train1 is == >\",x_train1.shape)\n",
        "print(\"the shape of x_val1 is == >\",x_val1.shape)\n",
        "print(\"the shape of y_train1 is == >\",y_train1.shape)\n",
        "print(\"the shape of y_val1 is == >\",y_val1.shape)"
      ],
      "execution_count": 0,
      "outputs": [
        {
          "output_type": "stream",
          "text": [
            "the shape of x_train1 is == > (7666, 224, 224, 3)\n",
            "the shape of x_val1 is == > (2556, 224, 224, 3)\n",
            "the shape of y_train1 is == > (7666, 120)\n",
            "the shape of y_val1 is == > (2556, 120)\n"
          ],
          "name": "stdout"
        }
      ]
    },
    {
      "cell_type": "code",
      "metadata": {
        "id": "tHZy9gZKTDkN",
        "colab_type": "code",
        "colab": {}
      },
      "source": [
        "train_generator1 = train_datagen.flow(x_train1,y_train1,batch_size=64)\n",
        "val_generator1 = val_datagenn.flow(x_val1,y_val1,batch_size=64)"
      ],
      "execution_count": 0,
      "outputs": []
    },
    {
      "cell_type": "code",
      "metadata": {
        "id": "n2QEsdp5NXrc",
        "colab_type": "code",
        "colab": {}
      },
      "source": [
        "an_model = Sequential()\n",
        "an_model.add(base_model)\n",
        "an_model.add(Flatten())\n",
        "an_model.add(BatchNormalization())\n",
        "an_model.add(Dense(1000,activation='relu',input_dim=512))\n",
        "an_model.add(Dropout(rate=0.3))\n",
        "an_model.add(Dense(800,activation='relu'))\n",
        "an_model.add(Dropout(rate=0.25))\n",
        "an_model.add(Dense(500,activation='relu'))\n",
        "an_model.add(BatchNormalization())\n",
        "an_model.add(Dense(300,activation='relu'))\n",
        "an_model.add(Dropout(rate=0.25))\n",
        "an_model.add(Dense(120,activation='softmax'))\n",
        "an_model.compile(optimizer='adam',loss='categorical_crossentropy',metrics=['accuracy'])"
      ],
      "execution_count": 0,
      "outputs": []
    },
    {
      "cell_type": "code",
      "metadata": {
        "id": "n0K5TtBIm6Bl",
        "colab_type": "code",
        "outputId": "7ad5a520-5153-43a2-9760-5f3db70c962d",
        "colab": {
          "base_uri": "https://localhost:8080/",
          "height": 570
        }
      },
      "source": [
        "an_model.summary()"
      ],
      "execution_count": 0,
      "outputs": [
        {
          "output_type": "stream",
          "text": [
            "Model: \"sequential\"\n",
            "_________________________________________________________________\n",
            "Layer (type)                 Output Shape              Param #   \n",
            "=================================================================\n",
            "vgg16 (Model)                (None, 512)               14714688  \n",
            "_________________________________________________________________\n",
            "flatten (Flatten)            (None, 512)               0         \n",
            "_________________________________________________________________\n",
            "batch_normalization (BatchNo (None, 512)               2048      \n",
            "_________________________________________________________________\n",
            "dense (Dense)                (None, 1000)              513000    \n",
            "_________________________________________________________________\n",
            "dropout (Dropout)            (None, 1000)              0         \n",
            "_________________________________________________________________\n",
            "dense_1 (Dense)              (None, 800)               800800    \n",
            "_________________________________________________________________\n",
            "dropout_1 (Dropout)          (None, 800)               0         \n",
            "_________________________________________________________________\n",
            "dense_2 (Dense)              (None, 500)               400500    \n",
            "_________________________________________________________________\n",
            "batch_normalization_1 (Batch (None, 500)               2000      \n",
            "_________________________________________________________________\n",
            "dense_3 (Dense)              (None, 300)               150300    \n",
            "_________________________________________________________________\n",
            "dropout_2 (Dropout)          (None, 300)               0         \n",
            "_________________________________________________________________\n",
            "dense_4 (Dense)              (None, 120)               36120     \n",
            "=================================================================\n",
            "Total params: 16,619,456\n",
            "Trainable params: 16,617,432\n",
            "Non-trainable params: 2,024\n",
            "_________________________________________________________________\n"
          ],
          "name": "stdout"
        }
      ]
    },
    {
      "cell_type": "code",
      "metadata": {
        "id": "FVIO3Jpbtdzi",
        "colab_type": "code",
        "colab": {}
      },
      "source": [
        "for layer in base_model.layers:\n",
        "  layer.trainable = False"
      ],
      "execution_count": 0,
      "outputs": []
    },
    {
      "cell_type": "code",
      "metadata": {
        "id": "-P6yVhQjVhh2",
        "colab_type": "code",
        "outputId": "ca7171b1-c58a-4d3f-e3d5-8bfb60e6b370",
        "colab": {
          "base_uri": "https://localhost:8080/",
          "height": 363
        }
      },
      "source": [
        "for layer in base_model.layers:\n",
        "  print(layer.name,layer.trainable)"
      ],
      "execution_count": 0,
      "outputs": [
        {
          "output_type": "stream",
          "text": [
            "input_1 False\n",
            "block1_conv1 False\n",
            "block1_conv2 False\n",
            "block1_pool False\n",
            "block2_conv1 False\n",
            "block2_conv2 False\n",
            "block2_pool False\n",
            "block3_conv1 False\n",
            "block3_conv2 False\n",
            "block3_conv3 False\n",
            "block3_pool False\n",
            "block4_conv1 False\n",
            "block4_conv2 False\n",
            "block4_conv3 False\n",
            "block4_pool False\n",
            "block5_conv1 False\n",
            "block5_conv2 False\n",
            "block5_conv3 False\n",
            "block5_pool False\n",
            "global_average_pooling2d False\n"
          ],
          "name": "stdout"
        }
      ]
    },
    {
      "cell_type": "code",
      "metadata": {
        "id": "IUJpVwQfNYzD",
        "colab_type": "code",
        "outputId": "6affbee8-eb7f-4e51-f3e2-8e32026c6b8a",
        "colab": {
          "base_uri": "https://localhost:8080/",
          "height": 1000
        }
      },
      "source": [
        "new_hist = an_model.fit(train_generator1,validation_data=val_generator1,epochs=40,callbacks=[fastop])\n",
        "fig,(ax1,ax2) = plt.subplots(1,2,figsize=(14,6))\n",
        "fig.suptitle(\"Model stats\")\n",
        "fig.subplots_adjust(top=0.85, wspace=0.3)\n",
        "\n",
        "ax1.plot(new_hist.history['accuracy'],label='Train Accuracy')\n",
        "ax1.plot(new_hist.history['val_accuracy'],label='Validation Accuracy')\n",
        "ax1.set_title('Accuracy')\n",
        "ax1.set_xlabel('Epochs')\n",
        "ax1.set_ylabel('Accuracy')\n",
        "ax1.legend(loc='best')\n",
        "\n",
        "ax2.plot(new_hist.history['loss'],label='Train Loss')\n",
        "ax2.plot(new_hist.history['val_loss'],label='Test Loss')\n",
        "ax2.set_title('Loss')\n",
        "ax2.set_xlabel('Epochs')\n",
        "ax2.set_ylabel('Loss')\n",
        "ax2.legend(loc='best')"
      ],
      "execution_count": 0,
      "outputs": [
        {
          "output_type": "stream",
          "text": [
            "WARNING:tensorflow:sample_weight modes were coerced from\n",
            "  ...\n",
            "    to  \n",
            "  ['...']\n",
            "WARNING:tensorflow:sample_weight modes were coerced from\n",
            "  ...\n",
            "    to  \n",
            "  ['...']\n",
            "Train for 120 steps, validate for 40 steps\n",
            "Epoch 1/40\n",
            "120/120 [==============================] - 219s 2s/step - loss: 4.4126 - accuracy: 0.0354 - val_loss: 4.7817 - val_accuracy: 0.0211\n",
            "Epoch 2/40\n",
            "120/120 [==============================] - 220s 2s/step - loss: 4.3669 - accuracy: 0.0364 - val_loss: 4.6149 - val_accuracy: 0.0282\n",
            "Epoch 3/40\n",
            "120/120 [==============================] - 220s 2s/step - loss: 4.3364 - accuracy: 0.0380 - val_loss: 5.1184 - val_accuracy: 0.0274\n",
            "Epoch 4/40\n",
            "120/120 [==============================] - 220s 2s/step - loss: 4.3191 - accuracy: 0.0414 - val_loss: 4.4174 - val_accuracy: 0.0403\n",
            "Epoch 5/40\n",
            "120/120 [==============================] - 220s 2s/step - loss: 4.3088 - accuracy: 0.0407 - val_loss: 4.3961 - val_accuracy: 0.0286\n",
            "Epoch 6/40\n",
            "120/120 [==============================] - 220s 2s/step - loss: 4.2680 - accuracy: 0.0454 - val_loss: 4.5370 - val_accuracy: 0.0305\n",
            "Epoch 7/40\n",
            "120/120 [==============================] - 220s 2s/step - loss: 4.2600 - accuracy: 0.0400 - val_loss: 4.3873 - val_accuracy: 0.0239\n",
            "Epoch 8/40\n",
            "120/120 [==============================] - 220s 2s/step - loss: 4.2429 - accuracy: 0.0459 - val_loss: 6.5393 - val_accuracy: 0.0133\n",
            "Epoch 9/40\n",
            "120/120 [==============================] - 220s 2s/step - loss: 4.2364 - accuracy: 0.0490 - val_loss: 8.4375 - val_accuracy: 0.0540\n",
            "Epoch 10/40\n",
            "120/120 [==============================] - 220s 2s/step - loss: 4.2042 - accuracy: 0.0506 - val_loss: 4.2394 - val_accuracy: 0.0481\n",
            "Epoch 11/40\n",
            "120/120 [==============================] - 220s 2s/step - loss: 4.2008 - accuracy: 0.0457 - val_loss: 5.3668 - val_accuracy: 0.0329\n",
            "Epoch 12/40\n",
            "120/120 [==============================] - 220s 2s/step - loss: 4.1909 - accuracy: 0.0483 - val_loss: 5.7574 - val_accuracy: 0.0426\n",
            "Epoch 13/40\n",
            "120/120 [==============================] - 220s 2s/step - loss: 4.1665 - accuracy: 0.0528 - val_loss: 4.7286 - val_accuracy: 0.0321\n",
            "Epoch 14/40\n",
            "120/120 [==============================] - 220s 2s/step - loss: 4.1692 - accuracy: 0.0569 - val_loss: 4.4686 - val_accuracy: 0.0438\n",
            "Epoch 15/40\n",
            "120/120 [==============================] - 220s 2s/step - loss: 4.1390 - accuracy: 0.0554 - val_loss: 4.1398 - val_accuracy: 0.0634\n",
            "Epoch 16/40\n",
            "120/120 [==============================] - 220s 2s/step - loss: 4.1197 - accuracy: 0.0554 - val_loss: 7.2404 - val_accuracy: 0.0563\n",
            "Epoch 17/40\n",
            "120/120 [==============================] - 220s 2s/step - loss: 4.1122 - accuracy: 0.0562 - val_loss: 4.2512 - val_accuracy: 0.0505\n",
            "Epoch 18/40\n",
            "120/120 [==============================] - 220s 2s/step - loss: 4.0992 - accuracy: 0.0596 - val_loss: 4.2402 - val_accuracy: 0.0469\n",
            "Epoch 19/40\n",
            "120/120 [==============================] - 220s 2s/step - loss: 4.0968 - accuracy: 0.0574 - val_loss: 4.2031 - val_accuracy: 0.0536\n",
            "Epoch 20/40\n",
            "120/120 [==============================] - 219s 2s/step - loss: 4.0860 - accuracy: 0.0547 - val_loss: 4.3481 - val_accuracy: 0.0556\n",
            "Epoch 21/40\n",
            "120/120 [==============================] - 220s 2s/step - loss: 4.0558 - accuracy: 0.0635 - val_loss: 4.3099 - val_accuracy: 0.0603\n",
            "Epoch 22/40\n",
            "120/120 [==============================] - 219s 2s/step - loss: 4.0406 - accuracy: 0.0639 - val_loss: 4.2423 - val_accuracy: 0.0532\n",
            "Epoch 23/40\n",
            "120/120 [==============================] - 220s 2s/step - loss: 4.0232 - accuracy: 0.0624 - val_loss: 4.4162 - val_accuracy: 0.0548\n",
            "Epoch 24/40\n",
            "120/120 [==============================] - 220s 2s/step - loss: 3.9857 - accuracy: 0.0674 - val_loss: 4.0695 - val_accuracy: 0.0649\n",
            "Epoch 25/40\n",
            "120/120 [==============================] - 220s 2s/step - loss: 3.9764 - accuracy: 0.0728 - val_loss: 5.0372 - val_accuracy: 0.0399\n",
            "Epoch 26/40\n",
            "120/120 [==============================] - 220s 2s/step - loss: 3.9407 - accuracy: 0.0749 - val_loss: 4.2322 - val_accuracy: 0.0567\n",
            "Epoch 27/40\n",
            "120/120 [==============================] - 220s 2s/step - loss: 3.9238 - accuracy: 0.0753 - val_loss: 9.7065 - val_accuracy: 0.0743\n",
            "Epoch 28/40\n",
            "120/120 [==============================] - 220s 2s/step - loss: 3.8840 - accuracy: 0.0814 - val_loss: 3.9737 - val_accuracy: 0.0747\n",
            "Epoch 29/40\n",
            "120/120 [==============================] - 219s 2s/step - loss: 3.8665 - accuracy: 0.0874 - val_loss: 4.9011 - val_accuracy: 0.0614\n",
            "Epoch 30/40\n",
            "120/120 [==============================] - 219s 2s/step - loss: 3.8600 - accuracy: 0.0824 - val_loss: 5.5431 - val_accuracy: 0.0876\n",
            "Epoch 31/40\n",
            "120/120 [==============================] - 220s 2s/step - loss: 3.8304 - accuracy: 0.0886 - val_loss: 10.8563 - val_accuracy: 0.0649\n",
            "Epoch 32/40\n",
            "120/120 [==============================] - 219s 2s/step - loss: 3.8114 - accuracy: 0.0857 - val_loss: 3.9040 - val_accuracy: 0.0814\n",
            "Epoch 33/40\n",
            "120/120 [==============================] - 219s 2s/step - loss: 3.7749 - accuracy: 0.0911 - val_loss: 6.0364 - val_accuracy: 0.0833\n",
            "Epoch 34/40\n",
            "120/120 [==============================] - 220s 2s/step - loss: 3.7471 - accuracy: 0.0925 - val_loss: 15.4149 - val_accuracy: 0.0806\n",
            "Epoch 35/40\n",
            "120/120 [==============================] - 220s 2s/step - loss: 3.7544 - accuracy: 0.0963 - val_loss: 3.8021 - val_accuracy: 0.0927\n",
            "Epoch 36/40\n",
            "120/120 [==============================] - 220s 2s/step - loss: 3.7228 - accuracy: 0.0990 - val_loss: 3.8748 - val_accuracy: 0.0880\n",
            "Epoch 37/40\n",
            "120/120 [==============================] - 220s 2s/step - loss: 3.6935 - accuracy: 0.0972 - val_loss: 3.7243 - val_accuracy: 0.0982\n",
            "Epoch 38/40\n",
            "120/120 [==============================] - 220s 2s/step - loss: 3.6887 - accuracy: 0.0987 - val_loss: 3.7503 - val_accuracy: 0.1005\n",
            "Epoch 39/40\n",
            "120/120 [==============================] - 220s 2s/step - loss: 3.6538 - accuracy: 0.1059 - val_loss: 3.9364 - val_accuracy: 0.1072\n",
            "Epoch 40/40\n",
            "120/120 [==============================] - 220s 2s/step - loss: 3.6499 - accuracy: 0.1092 - val_loss: 4.0158 - val_accuracy: 0.0771\n"
          ],
          "name": "stdout"
        },
        {
          "output_type": "execute_result",
          "data": {
            "text/plain": [
              "<matplotlib.legend.Legend at 0x7ff2479e00b8>"
            ]
          },
          "metadata": {
            "tags": []
          },
          "execution_count": 43
        },
        {
          "output_type": "display_data",
          "data": {
            "image/png": "[encoded data removed]",
            "text/plain": [
              "<Figure size 1008x432 with 2 Axes>"
            ]
          },
          "metadata": {
            "tags": []
          }
        }
      ]
    },
    {
      "cell_type": "code",
      "metadata": {
        "id": "D7xRxsa3tO1K",
        "colab_type": "code",
        "outputId": "759ffa19-4b3b-4dfd-d924-1a1996c62fef",
        "colab": {
          "base_uri": "https://localhost:8080/",
          "height": 1000
        }
      },
      "source": [
        "new_hist = an_model.fit(train_generator1,validation_data=val_generator1,epochs=40,callbacks=[fastop])\n",
        "fig,(ax1,ax2) = plt.subplots(1,2,figsize=(14,6))\n",
        "fig.suptitle(\"Model stats\")\n",
        "fig.subplots_adjust(top=0.85, wspace=0.3)\n",
        "\n",
        "ax1.plot(new_hist.history['accuracy'],label='Train Accuracy')\n",
        "ax1.plot(new_hist.history['val_accuracy'],label='Validation Accuracy')\n",
        "ax1.set_title('Accuracy')\n",
        "ax1.set_xlabel('Epochs')\n",
        "ax1.set_ylabel('Accuracy')\n",
        "ax1.legend(loc='best')\n",
        "\n",
        "ax2.plot(new_hist.history['loss'],label='Train Loss')\n",
        "ax2.plot(new_hist.history['val_loss'],label='Test Loss')\n",
        "ax2.set_title('Loss')\n",
        "ax2.set_xlabel('Epochs')\n",
        "ax2.set_ylabel('Loss')\n",
        "ax2.legend(loc='best')"
      ],
      "execution_count": 0,
      "outputs": [
        {
          "output_type": "stream",
          "text": [
            "WARNING:tensorflow:sample_weight modes were coerced from\n",
            "  ...\n",
            "    to  \n",
            "  ['...']\n",
            "WARNING:tensorflow:sample_weight modes were coerced from\n",
            "  ...\n",
            "    to  \n",
            "  ['...']\n",
            "Train for 120 steps, validate for 40 steps\n",
            "Epoch 1/40\n",
            "120/120 [==============================] - 219s 2s/step - loss: 3.6187 - accuracy: 0.1105 - val_loss: 3.7401 - val_accuracy: 0.1080\n",
            "Epoch 2/40\n",
            "120/120 [==============================] - 220s 2s/step - loss: 3.6098 - accuracy: 0.1089 - val_loss: 4.7323 - val_accuracy: 0.0849\n",
            "Epoch 3/40\n",
            "120/120 [==============================] - 220s 2s/step - loss: 3.5741 - accuracy: 0.1179 - val_loss: 5.1568 - val_accuracy: 0.1068\n",
            "Epoch 4/40\n",
            "120/120 [==============================] - 220s 2s/step - loss: 3.5924 - accuracy: 0.1141 - val_loss: 3.6632 - val_accuracy: 0.1072\n",
            "Epoch 5/40\n",
            "120/120 [==============================] - 220s 2s/step - loss: 3.5484 - accuracy: 0.1227 - val_loss: 6.9060 - val_accuracy: 0.1135\n",
            "Epoch 6/40\n",
            "120/120 [==============================] - 220s 2s/step - loss: 3.5468 - accuracy: 0.1158 - val_loss: 3.6441 - val_accuracy: 0.1095\n",
            "Epoch 7/40\n",
            "120/120 [==============================] - 220s 2s/step - loss: 3.5580 - accuracy: 0.1199 - val_loss: 4.6564 - val_accuracy: 0.0833\n",
            "Epoch 8/40\n",
            "120/120 [==============================] - 220s 2s/step - loss: 3.5297 - accuracy: 0.1254 - val_loss: 3.5889 - val_accuracy: 0.1154\n",
            "Epoch 9/40\n",
            "120/120 [==============================] - 220s 2s/step - loss: 3.5002 - accuracy: 0.1263 - val_loss: 3.9860 - val_accuracy: 0.1080\n",
            "Epoch 10/40\n",
            "120/120 [==============================] - 220s 2s/step - loss: 3.4870 - accuracy: 0.1272 - val_loss: 6.2743 - val_accuracy: 0.1236\n",
            "Epoch 11/40\n",
            "120/120 [==============================] - 220s 2s/step - loss: 3.4550 - accuracy: 0.1298 - val_loss: 11.7930 - val_accuracy: 0.1084\n",
            "Epoch 12/40\n",
            "120/120 [==============================] - 220s 2s/step - loss: 3.4497 - accuracy: 0.1367 - val_loss: 6.8540 - val_accuracy: 0.1185\n",
            "Epoch 13/40\n",
            "120/120 [==============================] - 220s 2s/step - loss: 3.4093 - accuracy: 0.1398 - val_loss: 6.4615 - val_accuracy: 0.1248\n",
            "Epoch 14/40\n",
            "120/120 [==============================] - 220s 2s/step - loss: 3.4059 - accuracy: 0.1414 - val_loss: 3.6913 - val_accuracy: 0.1166\n",
            "Epoch 15/40\n",
            "120/120 [==============================] - 220s 2s/step - loss: 3.3674 - accuracy: 0.1441 - val_loss: 6.1186 - val_accuracy: 0.1162\n",
            "Epoch 16/40\n",
            "120/120 [==============================] - 220s 2s/step - loss: 3.3728 - accuracy: 0.1440 - val_loss: 3.6035 - val_accuracy: 0.1389\n",
            "Epoch 17/40\n",
            "120/120 [==============================] - 220s 2s/step - loss: 3.3433 - accuracy: 0.1550 - val_loss: 3.6038 - val_accuracy: 0.1244\n",
            "Epoch 18/40\n",
            "120/120 [==============================] - 220s 2s/step - loss: 3.3115 - accuracy: 0.1555 - val_loss: 9.3513 - val_accuracy: 0.1268\n",
            "Epoch 19/40\n",
            "120/120 [==============================] - 220s 2s/step - loss: 3.2848 - accuracy: 0.1628 - val_loss: 8.3154 - val_accuracy: 0.1397\n",
            "Epoch 20/40\n",
            "120/120 [==============================] - 220s 2s/step - loss: 3.2956 - accuracy: 0.1573 - val_loss: 3.5746 - val_accuracy: 0.1416\n",
            "Epoch 21/40\n",
            "120/120 [==============================] - 220s 2s/step - loss: 3.2857 - accuracy: 0.1619 - val_loss: 5.8888 - val_accuracy: 0.1197\n",
            "Epoch 22/40\n",
            "120/120 [==============================] - 220s 2s/step - loss: 3.2933 - accuracy: 0.1573 - val_loss: 28.0805 - val_accuracy: 0.1056\n",
            "Epoch 23/40\n",
            "120/120 [==============================] - 220s 2s/step - loss: 3.2821 - accuracy: 0.1633 - val_loss: 3.5392 - val_accuracy: 0.1377\n",
            "Epoch 24/40\n",
            "120/120 [==============================] - 220s 2s/step - loss: 3.2140 - accuracy: 0.1738 - val_loss: 4.0765 - val_accuracy: 0.1205\n",
            "Epoch 25/40\n",
            "120/120 [==============================] - 220s 2s/step - loss: 3.1992 - accuracy: 0.1736 - val_loss: 3.6630 - val_accuracy: 0.1358\n",
            "Epoch 26/40\n",
            "120/120 [==============================] - 220s 2s/step - loss: 3.1792 - accuracy: 0.1760 - val_loss: 3.8524 - val_accuracy: 0.1526\n",
            "Epoch 27/40\n",
            "120/120 [==============================] - 220s 2s/step - loss: 3.1732 - accuracy: 0.1820 - val_loss: 3.8745 - val_accuracy: 0.1228\n",
            "Epoch 28/40\n",
            "120/120 [==============================] - 220s 2s/step - loss: 3.1101 - accuracy: 0.1907 - val_loss: 3.3832 - val_accuracy: 0.1577\n",
            "Epoch 29/40\n",
            "120/120 [==============================] - 220s 2s/step - loss: 3.1342 - accuracy: 0.1860 - val_loss: 68.8561 - val_accuracy: 0.1569\n",
            "Epoch 30/40\n",
            "120/120 [==============================] - 220s 2s/step - loss: 3.0977 - accuracy: 0.1915 - val_loss: 8.6107 - val_accuracy: 0.1733\n",
            "Epoch 31/40\n",
            "120/120 [==============================] - 220s 2s/step - loss: 3.0871 - accuracy: 0.1940 - val_loss: 3.6033 - val_accuracy: 0.1643\n",
            "Epoch 32/40\n",
            "120/120 [==============================] - 220s 2s/step - loss: 3.0569 - accuracy: 0.1966 - val_loss: 3.5460 - val_accuracy: 0.1436\n",
            "Epoch 33/40\n",
            "120/120 [==============================] - 220s 2s/step - loss: 3.0243 - accuracy: 0.2085 - val_loss: 5.5571 - val_accuracy: 0.1545\n",
            "Epoch 34/40\n",
            "120/120 [==============================] - 220s 2s/step - loss: 3.0271 - accuracy: 0.2057 - val_loss: 3.4966 - val_accuracy: 0.1506\n",
            "Epoch 35/40\n",
            "120/120 [==============================] - 220s 2s/step - loss: 3.0265 - accuracy: 0.2048 - val_loss: 3.3851 - val_accuracy: 0.1631\n",
            "Epoch 36/40\n",
            "120/120 [==============================] - 220s 2s/step - loss: 2.9764 - accuracy: 0.2095 - val_loss: 3.5513 - val_accuracy: 0.1459\n",
            "Epoch 37/40\n",
            "120/120 [==============================] - 220s 2s/step - loss: 2.9708 - accuracy: 0.2220 - val_loss: 7.6815 - val_accuracy: 0.1901\n",
            "Epoch 38/40\n",
            "120/120 [==============================] - 220s 2s/step - loss: 2.9461 - accuracy: 0.2229 - val_loss: 3.4600 - val_accuracy: 0.1624\n",
            "Epoch 39/40\n",
            "120/120 [==============================] - 220s 2s/step - loss: 2.9401 - accuracy: 0.2240 - val_loss: 3.2142 - val_accuracy: 0.1948\n",
            "Epoch 40/40\n",
            "120/120 [==============================] - 220s 2s/step - loss: 2.9178 - accuracy: 0.2218 - val_loss: 4.6783 - val_accuracy: 0.1651\n"
          ],
          "name": "stdout"
        },
        {
          "output_type": "execute_result",
          "data": {
            "text/plain": [
              "<matplotlib.legend.Legend at 0x7ff2479a9668>"
            ]
          },
          "metadata": {
            "tags": []
          },
          "execution_count": 44
        },
        {
          "output_type": "display_data",
          "data": {
            "image/png": "[encoded data removed]",
            "text/plain": [
              "<Figure size 1008x432 with 2 Axes>"
            ]
          },
          "metadata": {
            "tags": []
          }
        }
      ]
    },
    {
      "cell_type": "code",
      "metadata": {
        "id": "eUaPDjwLmD7V",
        "colab_type": "code",
        "outputId": "f60895df-0815-4184-fb45-90708612a3fd",
        "colab": {
          "base_uri": "https://localhost:8080/",
          "height": 1000
        }
      },
      "source": [
        "new_hist = an_model.fit(train_generator1,validation_data=val_generator1,epochs=500)\n",
        "fig,(ax1,ax2) = plt.subplots(1,2,figsize=(14,6))\n",
        "fig.suptitle(\"Model stats\")\n",
        "fig.subplots_adjust(top=0.85, wspace=0.3)\n",
        "\n",
        "ax1.plot(new_hist.history['accuracy'],label='Train Accuracy')\n",
        "ax1.plot(new_hist.history['val_accuracy'],label='Validation Accuracy')\n",
        "ax1.set_title('Accuracy')\n",
        "ax1.set_xlabel('Epochs')\n",
        "ax1.set_ylabel('Accuracy(%)')\n",
        "ax1.legend(loc='best')\n",
        "\n",
        "ax2.plot(new_hist.history['loss'],label='Train Loss')\n",
        "ax2.plot(new_hist.history['val_loss'],label='Test Loss')\n",
        "ax2.set_title('Loss')\n",
        "ax2.set_xlabel('Epochs')\n",
        "ax2.set_ylabel('Loss(%)')\n",
        "ax2.legend(loc='best')"
      ],
      "execution_count": 0,
      "outputs": [
        {
          "output_type": "stream",
          "text": [
            "WARNING:tensorflow:sample_weight modes were coerced from\n",
            "  ...\n",
            "    to  \n",
            "  ['...']\n",
            "WARNING:tensorflow:sample_weight modes were coerced from\n",
            "  ...\n",
            "    to  \n",
            "  ['...']\n",
            "Train for 120 steps, validate for 40 steps\n",
            "Epoch 1/500\n",
            "120/120 [==============================] - 78s 654ms/step - loss: 4.5118 - accuracy: 0.0310 - val_loss: 4.5561 - val_accuracy: 0.0250\n",
            "Epoch 2/500\n",
            "120/120 [==============================] - 78s 652ms/step - loss: 4.5068 - accuracy: 0.0307 - val_loss: 5.1177 - val_accuracy: 0.0106\n",
            "Epoch 3/500\n",
            "120/120 [==============================] - 79s 655ms/step - loss: 4.5083 - accuracy: 0.0291 - val_loss: 5.8902 - val_accuracy: 0.0098\n",
            "Epoch 4/500\n",
            "120/120 [==============================] - 77s 642ms/step - loss: 4.5032 - accuracy: 0.0324 - val_loss: 4.5692 - val_accuracy: 0.0286\n",
            "Epoch 5/500\n",
            "120/120 [==============================] - 77s 644ms/step - loss: 4.4950 - accuracy: 0.0309 - val_loss: 4.6339 - val_accuracy: 0.0227\n",
            "Epoch 6/500\n",
            "120/120 [==============================] - 78s 647ms/step - loss: 4.4878 - accuracy: 0.0314 - val_loss: 7.2166 - val_accuracy: 0.0090\n",
            "Epoch 7/500\n",
            "120/120 [==============================] - 78s 649ms/step - loss: 4.4872 - accuracy: 0.0283 - val_loss: 4.8210 - val_accuracy: 0.0184\n",
            "Epoch 8/500\n",
            "120/120 [==============================] - 77s 640ms/step - loss: 4.4909 - accuracy: 0.0307 - val_loss: 4.9094 - val_accuracy: 0.0117\n",
            "Epoch 9/500\n",
            "120/120 [==============================] - 77s 644ms/step - loss: 4.4770 - accuracy: 0.0312 - val_loss: 4.6513 - val_accuracy: 0.0254\n",
            "Epoch 10/500\n",
            "120/120 [==============================] - 77s 640ms/step - loss: 4.4777 - accuracy: 0.0305 - val_loss: 4.6884 - val_accuracy: 0.0203\n",
            "Epoch 11/500\n",
            "120/120 [==============================] - 76s 637ms/step - loss: 4.4788 - accuracy: 0.0326 - val_loss: 16.7194 - val_accuracy: 0.0082\n",
            "Epoch 12/500\n",
            "120/120 [==============================] - 77s 645ms/step - loss: 4.4684 - accuracy: 0.0318 - val_loss: 5.6485 - val_accuracy: 0.0098\n",
            "Epoch 13/500\n",
            "120/120 [==============================] - 77s 646ms/step - loss: 4.4652 - accuracy: 0.0321 - val_loss: 9.8659 - val_accuracy: 0.0106\n",
            "Epoch 14/500\n",
            "120/120 [==============================] - 78s 646ms/step - loss: 4.4512 - accuracy: 0.0316 - val_loss: 4.6132 - val_accuracy: 0.0231\n",
            "Epoch 15/500\n",
            "120/120 [==============================] - 77s 643ms/step - loss: 4.4506 - accuracy: 0.0325 - val_loss: 7.1714 - val_accuracy: 0.0278\n",
            "Epoch 16/500\n",
            "120/120 [==============================] - 77s 641ms/step - loss: 4.4518 - accuracy: 0.0296 - val_loss: 8.7005 - val_accuracy: 0.0086\n",
            "Epoch 17/500\n",
            "120/120 [==============================] - 77s 639ms/step - loss: 4.4474 - accuracy: 0.0327 - val_loss: 5.4048 - val_accuracy: 0.0203\n",
            "Epoch 18/500\n",
            "120/120 [==============================] - 77s 640ms/step - loss: 4.4422 - accuracy: 0.0327 - val_loss: 5.0758 - val_accuracy: 0.0160\n",
            "Epoch 19/500\n",
            "120/120 [==============================] - 77s 641ms/step - loss: 4.4193 - accuracy: 0.0365 - val_loss: 8.3960 - val_accuracy: 0.0113\n",
            "Epoch 20/500\n",
            "120/120 [==============================] - 77s 639ms/step - loss: 4.4214 - accuracy: 0.0344 - val_loss: 4.4696 - val_accuracy: 0.0372\n",
            "Epoch 21/500\n",
            "120/120 [==============================] - 77s 638ms/step - loss: 4.3931 - accuracy: 0.0390 - val_loss: 36.4960 - val_accuracy: 0.0121\n",
            "Epoch 22/500\n",
            "120/120 [==============================] - 76s 637ms/step - loss: 4.3763 - accuracy: 0.0427 - val_loss: 5.5796 - val_accuracy: 0.0172\n",
            "Epoch 23/500\n",
            "120/120 [==============================] - 77s 639ms/step - loss: 4.3671 - accuracy: 0.0417 - val_loss: 4.5376 - val_accuracy: 0.0313\n",
            "Epoch 24/500\n",
            "120/120 [==============================] - 77s 639ms/step - loss: 4.3362 - accuracy: 0.0427 - val_loss: 40.0504 - val_accuracy: 0.0160\n",
            "Epoch 25/500\n",
            "120/120 [==============================] - 77s 640ms/step - loss: 4.3133 - accuracy: 0.0476 - val_loss: 8.7089 - val_accuracy: 0.0364\n",
            "Epoch 26/500\n",
            "120/120 [==============================] - 77s 639ms/step - loss: 4.2989 - accuracy: 0.0449 - val_loss: 7.4144 - val_accuracy: 0.0364\n",
            "Epoch 27/500\n",
            "120/120 [==============================] - 77s 645ms/step - loss: 4.2673 - accuracy: 0.0437 - val_loss: 4.4452 - val_accuracy: 0.0399\n",
            "Epoch 28/500\n",
            "120/120 [==============================] - 76s 636ms/step - loss: 4.2657 - accuracy: 0.0479 - val_loss: 4.5519 - val_accuracy: 0.0325\n",
            "Epoch 29/500\n",
            "120/120 [==============================] - 77s 644ms/step - loss: 4.2572 - accuracy: 0.0451 - val_loss: 4.7160 - val_accuracy: 0.0262\n",
            "Epoch 30/500\n",
            "120/120 [==============================] - 77s 641ms/step - loss: 4.2450 - accuracy: 0.0510 - val_loss: 4.5704 - val_accuracy: 0.0321\n",
            "Epoch 31/500\n",
            "120/120 [==============================] - 77s 640ms/step - loss: 4.2217 - accuracy: 0.0520 - val_loss: 4.3780 - val_accuracy: 0.0430\n",
            "Epoch 32/500\n",
            "120/120 [==============================] - 76s 637ms/step - loss: 4.2153 - accuracy: 0.0520 - val_loss: 5.1697 - val_accuracy: 0.0516\n",
            "Epoch 33/500\n",
            "120/120 [==============================] - 77s 638ms/step - loss: 4.1926 - accuracy: 0.0577 - val_loss: 4.4626 - val_accuracy: 0.0411\n",
            "Epoch 34/500\n",
            "120/120 [==============================] - 77s 641ms/step - loss: 4.1871 - accuracy: 0.0524 - val_loss: 4.4815 - val_accuracy: 0.0278\n",
            "Epoch 35/500\n",
            "120/120 [==============================] - 77s 643ms/step - loss: 4.1597 - accuracy: 0.0574 - val_loss: 4.2100 - val_accuracy: 0.0556\n",
            "Epoch 36/500\n",
            "120/120 [==============================] - 77s 638ms/step - loss: 4.1544 - accuracy: 0.0545 - val_loss: 4.2467 - val_accuracy: 0.0489\n",
            "Epoch 37/500\n",
            "120/120 [==============================] - 77s 641ms/step - loss: 4.1307 - accuracy: 0.0597 - val_loss: 38.6075 - val_accuracy: 0.0469\n",
            "Epoch 38/500\n",
            "120/120 [==============================] - 77s 641ms/step - loss: 4.1362 - accuracy: 0.0537 - val_loss: 4.1761 - val_accuracy: 0.0563\n",
            "Epoch 39/500\n",
            "120/120 [==============================] - 77s 640ms/step - loss: 4.1232 - accuracy: 0.0586 - val_loss: 4.2837 - val_accuracy: 0.0462\n",
            "Epoch 40/500\n",
            "120/120 [==============================] - 76s 632ms/step - loss: 4.1069 - accuracy: 0.0579 - val_loss: 16.1468 - val_accuracy: 0.0368\n",
            "Epoch 41/500\n",
            "120/120 [==============================] - 76s 633ms/step - loss: 4.1022 - accuracy: 0.0638 - val_loss: 4.2329 - val_accuracy: 0.0548\n",
            "Epoch 42/500\n",
            "120/120 [==============================] - 76s 635ms/step - loss: 4.0797 - accuracy: 0.0634 - val_loss: 4.5396 - val_accuracy: 0.0423\n",
            "Epoch 43/500\n",
            "120/120 [==============================] - 77s 640ms/step - loss: 4.0856 - accuracy: 0.0607 - val_loss: 4.3338 - val_accuracy: 0.0438\n",
            "Epoch 44/500\n",
            "120/120 [==============================] - 77s 641ms/step - loss: 4.0675 - accuracy: 0.0640 - val_loss: 4.2028 - val_accuracy: 0.0599\n",
            "Epoch 45/500\n",
            "120/120 [==============================] - 76s 634ms/step - loss: 4.0442 - accuracy: 0.0647 - val_loss: 4.1469 - val_accuracy: 0.0595\n",
            "Epoch 46/500\n",
            "120/120 [==============================] - 77s 639ms/step - loss: 4.0479 - accuracy: 0.0629 - val_loss: 6.9230 - val_accuracy: 0.0516\n",
            "Epoch 47/500\n",
            "120/120 [==============================] - 77s 638ms/step - loss: 4.0409 - accuracy: 0.0624 - val_loss: 4.4993 - val_accuracy: 0.0458\n",
            "Epoch 48/500\n",
            "120/120 [==============================] - 77s 646ms/step - loss: 4.0441 - accuracy: 0.0646 - val_loss: 4.2772 - val_accuracy: 0.0591\n",
            "Epoch 49/500\n",
            "120/120 [==============================] - 76s 636ms/step - loss: 4.0148 - accuracy: 0.0677 - val_loss: 4.1728 - val_accuracy: 0.0579\n",
            "Epoch 50/500\n",
            "120/120 [==============================] - 76s 635ms/step - loss: 3.9963 - accuracy: 0.0763 - val_loss: 4.0879 - val_accuracy: 0.0724\n",
            "Epoch 51/500\n",
            "120/120 [==============================] - 77s 643ms/step - loss: 3.9794 - accuracy: 0.0724 - val_loss: 4.0896 - val_accuracy: 0.0571\n",
            "Epoch 52/500\n",
            "120/120 [==============================] - 77s 641ms/step - loss: 3.9589 - accuracy: 0.0764 - val_loss: 4.1225 - val_accuracy: 0.0646\n",
            "Epoch 53/500\n",
            "120/120 [==============================] - 76s 634ms/step - loss: 3.9283 - accuracy: 0.0745 - val_loss: 99.8588 - val_accuracy: 0.0720\n",
            "Epoch 54/500\n",
            "120/120 [==============================] - 76s 634ms/step - loss: 3.9137 - accuracy: 0.0788 - val_loss: 9.1222 - val_accuracy: 0.0626\n",
            "Epoch 55/500\n",
            "120/120 [==============================] - 77s 643ms/step - loss: 3.9091 - accuracy: 0.0818 - val_loss: 15.1006 - val_accuracy: 0.0677\n",
            "Epoch 56/500\n",
            "120/120 [==============================] - 77s 643ms/step - loss: 3.8770 - accuracy: 0.0831 - val_loss: 3.9664 - val_accuracy: 0.0720\n",
            "Epoch 57/500\n",
            "120/120 [==============================] - 78s 646ms/step - loss: 3.8381 - accuracy: 0.0858 - val_loss: 3.9137 - val_accuracy: 0.0857\n",
            "Epoch 58/500\n",
            "120/120 [==============================] - 77s 641ms/step - loss: 3.8362 - accuracy: 0.0878 - val_loss: 3.9465 - val_accuracy: 0.0794\n",
            "Epoch 59/500\n",
            "120/120 [==============================] - 76s 637ms/step - loss: 3.8105 - accuracy: 0.0931 - val_loss: 57.4553 - val_accuracy: 0.0513\n",
            "Epoch 60/500\n",
            "120/120 [==============================] - 77s 643ms/step - loss: 3.8197 - accuracy: 0.0881 - val_loss: 15.8177 - val_accuracy: 0.0763\n",
            "Epoch 61/500\n",
            "120/120 [==============================] - 76s 636ms/step - loss: 3.7726 - accuracy: 0.0901 - val_loss: 3.7913 - val_accuracy: 0.0947\n",
            "Epoch 62/500\n",
            "120/120 [==============================] - 78s 652ms/step - loss: 3.7458 - accuracy: 0.0941 - val_loss: 4.2835 - val_accuracy: 0.0716\n",
            "Epoch 63/500\n",
            "120/120 [==============================] - 83s 689ms/step - loss: 3.7763 - accuracy: 0.0948 - val_loss: 131.9225 - val_accuracy: 0.0704\n",
            "Epoch 64/500\n",
            "120/120 [==============================] - 79s 658ms/step - loss: 3.7178 - accuracy: 0.1020 - val_loss: 4.3513 - val_accuracy: 0.0614\n",
            "Epoch 65/500\n",
            "120/120 [==============================] - 78s 649ms/step - loss: 3.6999 - accuracy: 0.0961 - val_loss: 3.9316 - val_accuracy: 0.0755\n",
            "Epoch 66/500\n",
            "120/120 [==============================] - 77s 641ms/step - loss: 3.6716 - accuracy: 0.1025 - val_loss: 3.8174 - val_accuracy: 0.0923\n",
            "Epoch 67/500\n",
            "120/120 [==============================] - 77s 645ms/step - loss: 3.6544 - accuracy: 0.1110 - val_loss: 3.7848 - val_accuracy: 0.0974\n",
            "Epoch 68/500\n",
            "120/120 [==============================] - 78s 652ms/step - loss: 3.6497 - accuracy: 0.1070 - val_loss: 4.0632 - val_accuracy: 0.0904\n",
            "Epoch 69/500\n",
            "120/120 [==============================] - 78s 652ms/step - loss: 3.6368 - accuracy: 0.1114 - val_loss: 6.6444 - val_accuracy: 0.0974\n",
            "Epoch 70/500\n",
            "120/120 [==============================] - 77s 640ms/step - loss: 3.6010 - accuracy: 0.1117 - val_loss: 8.4107 - val_accuracy: 0.1021\n",
            "Epoch 71/500\n",
            "120/120 [==============================] - 77s 641ms/step - loss: 3.6024 - accuracy: 0.1157 - val_loss: 4.0445 - val_accuracy: 0.0884\n",
            "Epoch 72/500\n",
            "120/120 [==============================] - 77s 645ms/step - loss: 3.5710 - accuracy: 0.1195 - val_loss: 3.7879 - val_accuracy: 0.0998\n",
            "Epoch 73/500\n",
            "120/120 [==============================] - 77s 641ms/step - loss: 3.5411 - accuracy: 0.1204 - val_loss: 3.8222 - val_accuracy: 0.0959\n",
            "Epoch 74/500\n",
            "120/120 [==============================] - 77s 641ms/step - loss: 3.5194 - accuracy: 0.1200 - val_loss: 3.6319 - val_accuracy: 0.1193\n",
            "Epoch 75/500\n",
            "120/120 [==============================] - 77s 640ms/step - loss: 3.5153 - accuracy: 0.1251 - val_loss: 22.7956 - val_accuracy: 0.0403\n",
            "Epoch 76/500\n",
            "120/120 [==============================] - 77s 642ms/step - loss: 3.5314 - accuracy: 0.1258 - val_loss: 9.1700 - val_accuracy: 0.1115\n",
            "Epoch 77/500\n",
            "120/120 [==============================] - 77s 640ms/step - loss: 3.4831 - accuracy: 0.1276 - val_loss: 3.7870 - val_accuracy: 0.1315\n",
            "Epoch 78/500\n",
            "120/120 [==============================] - 77s 640ms/step - loss: 3.4734 - accuracy: 0.1286 - val_loss: 5.6430 - val_accuracy: 0.1099\n",
            "Epoch 79/500\n",
            "120/120 [==============================] - 77s 640ms/step - loss: 3.4477 - accuracy: 0.1329 - val_loss: 13.7909 - val_accuracy: 0.1131\n",
            "Epoch 80/500\n",
            "120/120 [==============================] - 81s 678ms/step - loss: 3.4155 - accuracy: 0.1372 - val_loss: 3.6829 - val_accuracy: 0.1178\n",
            "Epoch 81/500\n",
            "120/120 [==============================] - 79s 654ms/step - loss: 3.4244 - accuracy: 0.1414 - val_loss: 3.6815 - val_accuracy: 0.1166\n",
            "Epoch 82/500\n",
            "120/120 [==============================] - 78s 653ms/step - loss: 3.4327 - accuracy: 0.1370 - val_loss: 4.0985 - val_accuracy: 0.1197\n",
            "Epoch 83/500\n",
            "120/120 [==============================] - 79s 659ms/step - loss: 3.3592 - accuracy: 0.1531 - val_loss: 44.7171 - val_accuracy: 0.1393\n",
            "Epoch 84/500\n",
            "120/120 [==============================] - 79s 657ms/step - loss: 3.3663 - accuracy: 0.1474 - val_loss: 3.6112 - val_accuracy: 0.1213\n",
            "Epoch 85/500\n",
            "120/120 [==============================] - 78s 648ms/step - loss: 3.3477 - accuracy: 0.1490 - val_loss: 3.5894 - val_accuracy: 0.1260\n",
            "Epoch 86/500\n",
            "120/120 [==============================] - 78s 650ms/step - loss: 3.3020 - accuracy: 0.1611 - val_loss: 3.5634 - val_accuracy: 0.1322\n",
            "Epoch 87/500\n",
            "120/120 [==============================] - 78s 653ms/step - loss: 3.5378 - accuracy: 0.1307 - val_loss: 3.7171 - val_accuracy: 0.1064\n",
            "Epoch 88/500\n",
            "120/120 [==============================] - 78s 649ms/step - loss: 3.3690 - accuracy: 0.1482 - val_loss: 5.2694 - val_accuracy: 0.1279\n",
            "Epoch 89/500\n",
            "120/120 [==============================] - 78s 647ms/step - loss: 3.3210 - accuracy: 0.1533 - val_loss: 3.5214 - val_accuracy: 0.1299\n",
            "Epoch 90/500\n",
            "120/120 [==============================] - 77s 644ms/step - loss: 3.4315 - accuracy: 0.1423 - val_loss: 5.1456 - val_accuracy: 0.0677\n",
            "Epoch 91/500\n",
            "120/120 [==============================] - 78s 648ms/step - loss: 3.3615 - accuracy: 0.1445 - val_loss: 3.5450 - val_accuracy: 0.1381\n",
            "Epoch 92/500\n",
            "120/120 [==============================] - 78s 654ms/step - loss: 3.2716 - accuracy: 0.1610 - val_loss: 3.6547 - val_accuracy: 0.1205\n",
            "Epoch 93/500\n",
            "120/120 [==============================] - 77s 641ms/step - loss: 3.2484 - accuracy: 0.1680 - val_loss: 3.5548 - val_accuracy: 0.1385\n",
            "Epoch 94/500\n",
            "120/120 [==============================] - 78s 650ms/step - loss: 3.2116 - accuracy: 0.1666 - val_loss: 3.5222 - val_accuracy: 0.1440\n",
            "Epoch 95/500\n",
            "120/120 [==============================] - 78s 648ms/step - loss: 3.1882 - accuracy: 0.1721 - val_loss: 3.5010 - val_accuracy: 0.1463\n",
            "Epoch 96/500\n",
            "120/120 [==============================] - 78s 646ms/step - loss: 3.1802 - accuracy: 0.1795 - val_loss: 3.5103 - val_accuracy: 0.1573\n",
            "Epoch 97/500\n",
            "120/120 [==============================] - 77s 644ms/step - loss: 3.1464 - accuracy: 0.1856 - val_loss: 3.5914 - val_accuracy: 0.1377\n",
            "Epoch 98/500\n",
            "120/120 [==============================] - 77s 644ms/step - loss: 3.1519 - accuracy: 0.1834 - val_loss: 3.4102 - val_accuracy: 0.1604\n",
            "Epoch 99/500\n",
            "120/120 [==============================] - 77s 645ms/step - loss: 3.1406 - accuracy: 0.1826 - val_loss: 3.5470 - val_accuracy: 0.1393\n",
            "Epoch 100/500\n",
            "120/120 [==============================] - 78s 650ms/step - loss: 3.1356 - accuracy: 0.1919 - val_loss: 3.6076 - val_accuracy: 0.1385\n",
            "Epoch 101/500\n",
            "120/120 [==============================] - 77s 642ms/step - loss: 3.1528 - accuracy: 0.1842 - val_loss: 5.7238 - val_accuracy: 0.0606\n",
            "Epoch 102/500\n",
            "120/120 [==============================] - 77s 641ms/step - loss: 3.3273 - accuracy: 0.1671 - val_loss: 7.2539 - val_accuracy: 0.1291\n",
            "Epoch 103/500\n",
            "120/120 [==============================] - 78s 648ms/step - loss: 3.1553 - accuracy: 0.1839 - val_loss: 3.4213 - val_accuracy: 0.1479\n",
            "Epoch 104/500\n",
            "120/120 [==============================] - 77s 645ms/step - loss: 3.0841 - accuracy: 0.1905 - val_loss: 3.3530 - val_accuracy: 0.1631\n",
            "Epoch 105/500\n",
            "120/120 [==============================] - 77s 641ms/step - loss: 3.0763 - accuracy: 0.1965 - val_loss: 66.2539 - val_accuracy: 0.1424\n",
            "Epoch 106/500\n",
            "120/120 [==============================] - 77s 642ms/step - loss: 3.0742 - accuracy: 0.1970 - val_loss: 3.4427 - val_accuracy: 0.1534\n",
            "Epoch 107/500\n",
            "120/120 [==============================] - 77s 641ms/step - loss: 3.0218 - accuracy: 0.2055 - val_loss: 3.7959 - val_accuracy: 0.1326\n",
            "Epoch 108/500\n",
            "120/120 [==============================] - 77s 644ms/step - loss: 3.0136 - accuracy: 0.2027 - val_loss: 3.5186 - val_accuracy: 0.1397\n",
            "Epoch 109/500\n",
            "120/120 [==============================] - 77s 644ms/step - loss: 3.0734 - accuracy: 0.2006 - val_loss: 6.1931 - val_accuracy: 0.1205\n",
            "Epoch 110/500\n",
            "120/120 [==============================] - 77s 645ms/step - loss: 3.1706 - accuracy: 0.1855 - val_loss: 3.4214 - val_accuracy: 0.1616\n",
            "Epoch 111/500\n",
            "120/120 [==============================] - 78s 649ms/step - loss: 3.0184 - accuracy: 0.2079 - val_loss: 3.3511 - val_accuracy: 0.1612\n",
            "Epoch 112/500\n",
            "120/120 [==============================] - 78s 652ms/step - loss: 2.9451 - accuracy: 0.2252 - val_loss: 3.3161 - val_accuracy: 0.1706\n",
            "Epoch 113/500\n",
            "120/120 [==============================] - 78s 648ms/step - loss: 2.9905 - accuracy: 0.2191 - val_loss: 3.4095 - val_accuracy: 0.1663\n",
            "Epoch 114/500\n",
            "120/120 [==============================] - 77s 644ms/step - loss: 2.9140 - accuracy: 0.2218 - val_loss: 248.7570 - val_accuracy: 0.1733\n",
            "Epoch 115/500\n",
            "120/120 [==============================] - 77s 643ms/step - loss: 2.9044 - accuracy: 0.2235 - val_loss: 3.3465 - val_accuracy: 0.1784\n",
            "Epoch 116/500\n",
            "120/120 [==============================] - 77s 645ms/step - loss: 2.9199 - accuracy: 0.2232 - val_loss: 3.3350 - val_accuracy: 0.1780\n",
            "Epoch 117/500\n",
            "120/120 [==============================] - 77s 642ms/step - loss: 2.8656 - accuracy: 0.2332 - val_loss: 991.5144 - val_accuracy: 0.1631\n",
            "Epoch 118/500\n",
            "120/120 [==============================] - 77s 641ms/step - loss: 2.9177 - accuracy: 0.2301 - val_loss: 5.5143 - val_accuracy: 0.1698\n",
            "Epoch 119/500\n",
            "120/120 [==============================] - 77s 640ms/step - loss: 2.8470 - accuracy: 0.2387 - val_loss: 3.3276 - val_accuracy: 0.1905\n",
            "Epoch 120/500\n",
            "120/120 [==============================] - 77s 646ms/step - loss: 2.8066 - accuracy: 0.2435 - val_loss: 65.7176 - val_accuracy: 0.1854\n",
            "Epoch 121/500\n",
            "120/120 [==============================] - 77s 642ms/step - loss: 2.8086 - accuracy: 0.2502 - val_loss: 3.2371 - val_accuracy: 0.1870\n",
            "Epoch 122/500\n",
            "120/120 [==============================] - 77s 642ms/step - loss: 2.7715 - accuracy: 0.2489 - val_loss: 3.3592 - val_accuracy: 0.1674\n",
            "Epoch 123/500\n",
            "120/120 [==============================] - 78s 646ms/step - loss: 2.7497 - accuracy: 0.2628 - val_loss: 111.6292 - val_accuracy: 0.1819\n",
            "Epoch 124/500\n",
            "120/120 [==============================] - 78s 649ms/step - loss: 2.7996 - accuracy: 0.2512 - val_loss: 3.2673 - val_accuracy: 0.1941\n",
            "Epoch 125/500\n",
            "120/120 [==============================] - 77s 641ms/step - loss: 2.7439 - accuracy: 0.2601 - val_loss: 3.4304 - val_accuracy: 0.1854\n",
            "Epoch 126/500\n",
            "120/120 [==============================] - 77s 638ms/step - loss: 2.7234 - accuracy: 0.2691 - val_loss: 3.3232 - val_accuracy: 0.1878\n",
            "Epoch 127/500\n",
            "120/120 [==============================] - 77s 643ms/step - loss: 2.6918 - accuracy: 0.2685 - val_loss: 3.4725 - val_accuracy: 0.1854\n",
            "Epoch 128/500\n",
            "120/120 [==============================] - 77s 645ms/step - loss: 2.6777 - accuracy: 0.2713 - val_loss: 3.2286 - val_accuracy: 0.1964\n",
            "Epoch 129/500\n",
            "120/120 [==============================] - 77s 639ms/step - loss: 2.6467 - accuracy: 0.2720 - val_loss: 3.4730 - val_accuracy: 0.1811\n",
            "Epoch 130/500\n",
            "120/120 [==============================] - 77s 638ms/step - loss: 2.6276 - accuracy: 0.2835 - val_loss: 251.7706 - val_accuracy: 0.1937\n",
            "Epoch 131/500\n",
            "120/120 [==============================] - 77s 645ms/step - loss: 2.6208 - accuracy: 0.2855 - val_loss: 3.4931 - val_accuracy: 0.1843\n",
            "Epoch 132/500\n",
            "120/120 [==============================] - 78s 647ms/step - loss: 2.5917 - accuracy: 0.2870 - val_loss: 17.2248 - val_accuracy: 0.2027\n",
            "Epoch 133/500\n",
            "120/120 [==============================] - 77s 645ms/step - loss: 2.6858 - accuracy: 0.2771 - val_loss: 3.4005 - val_accuracy: 0.1874\n",
            "Epoch 134/500\n",
            "120/120 [==============================] - 77s 645ms/step - loss: 2.5856 - accuracy: 0.2956 - val_loss: 3.4086 - val_accuracy: 0.1937\n",
            "Epoch 135/500\n",
            "120/120 [==============================] - 78s 646ms/step - loss: 2.5403 - accuracy: 0.2994 - val_loss: 61.9112 - val_accuracy: 0.1823\n",
            "Epoch 136/500\n",
            "120/120 [==============================] - 78s 647ms/step - loss: 2.5253 - accuracy: 0.3013 - val_loss: 3.2442 - val_accuracy: 0.2152\n",
            "Epoch 137/500\n",
            "120/120 [==============================] - 77s 642ms/step - loss: 2.5082 - accuracy: 0.3035 - val_loss: 3.4725 - val_accuracy: 0.1909\n",
            "Epoch 138/500\n",
            "120/120 [==============================] - 78s 646ms/step - loss: 2.5111 - accuracy: 0.3003 - val_loss: 3.2043 - val_accuracy: 0.2156\n",
            "Epoch 139/500\n",
            "120/120 [==============================] - 77s 646ms/step - loss: 2.4682 - accuracy: 0.3170 - val_loss: 3.5639 - val_accuracy: 0.1960\n",
            "Epoch 140/500\n",
            "120/120 [==============================] - 77s 641ms/step - loss: 2.4385 - accuracy: 0.3180 - val_loss: 4.0135 - val_accuracy: 0.1577\n",
            "Epoch 141/500\n",
            "120/120 [==============================] - 77s 646ms/step - loss: 2.4452 - accuracy: 0.3221 - val_loss: 3.2977 - val_accuracy: 0.2140\n",
            "Epoch 142/500\n",
            "120/120 [==============================] - 77s 644ms/step - loss: 2.4595 - accuracy: 0.3129 - val_loss: 3.2164 - val_accuracy: 0.2175\n",
            "Epoch 143/500\n",
            "120/120 [==============================] - 77s 642ms/step - loss: 2.3913 - accuracy: 0.3292 - val_loss: 5.1420 - val_accuracy: 0.2297\n",
            "Epoch 144/500\n",
            "120/120 [==============================] - 77s 645ms/step - loss: 2.3840 - accuracy: 0.3347 - val_loss: 3.4542 - val_accuracy: 0.2023\n",
            "Epoch 145/500\n",
            "120/120 [==============================] - 78s 650ms/step - loss: 2.4003 - accuracy: 0.3283 - val_loss: 3.5805 - val_accuracy: 0.2148\n",
            "Epoch 146/500\n",
            "120/120 [==============================] - 77s 644ms/step - loss: 2.3601 - accuracy: 0.3393 - val_loss: 3.1958 - val_accuracy: 0.2199\n",
            "Epoch 147/500\n",
            "120/120 [==============================] - 77s 642ms/step - loss: 2.3799 - accuracy: 0.3336 - val_loss: 2581.6971 - val_accuracy: 0.2023\n",
            "Epoch 148/500\n",
            "120/120 [==============================] - 77s 645ms/step - loss: 2.3381 - accuracy: 0.3472 - val_loss: 3.5690 - val_accuracy: 0.1901\n",
            "Epoch 149/500\n",
            "120/120 [==============================] - 78s 650ms/step - loss: 2.3044 - accuracy: 0.3480 - val_loss: 3.2454 - val_accuracy: 0.2328\n",
            "Epoch 150/500\n",
            "120/120 [==============================] - 78s 648ms/step - loss: 2.2856 - accuracy: 0.3548 - val_loss: 3.3754 - val_accuracy: 0.1991\n",
            "Epoch 151/500\n",
            "120/120 [==============================] - 77s 644ms/step - loss: 2.2783 - accuracy: 0.3513 - val_loss: 3.2179 - val_accuracy: 0.2320\n",
            "Epoch 152/500\n",
            "120/120 [==============================] - 78s 648ms/step - loss: 2.2583 - accuracy: 0.3609 - val_loss: 3.3203 - val_accuracy: 0.2234\n",
            "Epoch 153/500\n",
            "120/120 [==============================] - 78s 650ms/step - loss: 2.2425 - accuracy: 0.3654 - val_loss: 758.1083 - val_accuracy: 0.2214\n",
            "Epoch 154/500\n",
            "120/120 [==============================] - 77s 644ms/step - loss: 2.2658 - accuracy: 0.3636 - val_loss: 8.3480 - val_accuracy: 0.2210\n",
            "Epoch 155/500\n",
            "120/120 [==============================] - 78s 647ms/step - loss: 2.1986 - accuracy: 0.3741 - val_loss: 4.0142 - val_accuracy: 0.1714\n",
            "Epoch 156/500\n",
            "120/120 [==============================] - 77s 646ms/step - loss: 2.1925 - accuracy: 0.3788 - val_loss: 3.3155 - val_accuracy: 0.2277\n",
            "Epoch 157/500\n",
            "120/120 [==============================] - 77s 644ms/step - loss: 2.3287 - accuracy: 0.3586 - val_loss: 3.8041 - val_accuracy: 0.1698\n",
            "Epoch 158/500\n",
            "120/120 [==============================] - 78s 647ms/step - loss: 2.3414 - accuracy: 0.3398 - val_loss: 12.2190 - val_accuracy: 0.1956\n",
            "Epoch 159/500\n",
            "120/120 [==============================] - 78s 647ms/step - loss: 2.2852 - accuracy: 0.3576 - val_loss: 3.3922 - val_accuracy: 0.2344\n",
            "Epoch 160/500\n",
            "120/120 [==============================] - 78s 648ms/step - loss: 2.1649 - accuracy: 0.3775 - val_loss: 3.2262 - val_accuracy: 0.2461\n",
            "Epoch 161/500\n",
            "120/120 [==============================] - 78s 648ms/step - loss: 2.1248 - accuracy: 0.3861 - val_loss: 3.3513 - val_accuracy: 0.2293\n",
            "Epoch 162/500\n",
            "120/120 [==============================] - 80s 663ms/step - loss: 2.0985 - accuracy: 0.3967 - val_loss: 3.3679 - val_accuracy: 0.2242\n",
            "Epoch 163/500\n",
            "120/120 [==============================] - 78s 649ms/step - loss: 2.0881 - accuracy: 0.4011 - val_loss: 3.4856 - val_accuracy: 0.2246\n",
            "Epoch 164/500\n",
            "120/120 [==============================] - 78s 654ms/step - loss: 2.0680 - accuracy: 0.4041 - val_loss: 3.3737 - val_accuracy: 0.2179\n",
            "Epoch 165/500\n",
            "120/120 [==============================] - 78s 649ms/step - loss: 2.0527 - accuracy: 0.4099 - val_loss: 3.0830 - val_accuracy: 0.2551\n",
            "Epoch 166/500\n",
            "120/120 [==============================] - 78s 646ms/step - loss: 2.0118 - accuracy: 0.4179 - val_loss: 3.1938 - val_accuracy: 0.2586\n",
            "Epoch 167/500\n",
            "120/120 [==============================] - 77s 643ms/step - loss: 2.0011 - accuracy: 0.4237 - val_loss: 3.3492 - val_accuracy: 0.2383\n",
            "Epoch 168/500\n",
            "120/120 [==============================] - 77s 645ms/step - loss: 2.0068 - accuracy: 0.4181 - val_loss: 3.2969 - val_accuracy: 0.2379\n",
            "Epoch 169/500\n",
            "120/120 [==============================] - 78s 650ms/step - loss: 2.0960 - accuracy: 0.3997 - val_loss: 3.3299 - val_accuracy: 0.2230\n",
            "Epoch 170/500\n",
            "120/120 [==============================] - 78s 647ms/step - loss: 1.9869 - accuracy: 0.4224 - val_loss: 3.2240 - val_accuracy: 0.2484\n",
            "Epoch 171/500\n",
            "120/120 [==============================] - 78s 646ms/step - loss: 1.9586 - accuracy: 0.4223 - val_loss: 3.2187 - val_accuracy: 0.2527\n",
            "Epoch 172/500\n",
            "120/120 [==============================] - 77s 643ms/step - loss: 1.9225 - accuracy: 0.4344 - val_loss: 3.1218 - val_accuracy: 0.2668\n",
            "Epoch 173/500\n",
            "120/120 [==============================] - 77s 643ms/step - loss: 1.9161 - accuracy: 0.4341 - val_loss: 3.3731 - val_accuracy: 0.2570\n",
            "Epoch 174/500\n",
            "120/120 [==============================] - 78s 647ms/step - loss: 1.9772 - accuracy: 0.4277 - val_loss: 3.8631 - val_accuracy: 0.2089\n",
            "Epoch 175/500\n",
            "120/120 [==============================] - 81s 673ms/step - loss: 1.8907 - accuracy: 0.4477 - val_loss: 3.3094 - val_accuracy: 0.2582\n",
            "Epoch 176/500\n",
            "120/120 [==============================] - 79s 655ms/step - loss: 1.9162 - accuracy: 0.4438 - val_loss: 6.0593 - val_accuracy: 0.2590\n",
            "Epoch 177/500\n",
            "120/120 [==============================] - 77s 644ms/step - loss: 1.8474 - accuracy: 0.4576 - val_loss: 3.5107 - val_accuracy: 0.2394\n",
            "Epoch 178/500\n",
            "120/120 [==============================] - 77s 645ms/step - loss: 1.8156 - accuracy: 0.4733 - val_loss: 24.4222 - val_accuracy: 0.2676\n",
            "Epoch 179/500\n",
            "120/120 [==============================] - 77s 645ms/step - loss: 1.8030 - accuracy: 0.4602 - val_loss: 10.7436 - val_accuracy: 0.2387\n",
            "Epoch 180/500\n",
            "120/120 [==============================] - 78s 649ms/step - loss: 1.7956 - accuracy: 0.4675 - val_loss: 3.1765 - val_accuracy: 0.2711\n",
            "Epoch 181/500\n",
            "120/120 [==============================] - 78s 649ms/step - loss: 1.7980 - accuracy: 0.4613 - val_loss: 3.1726 - val_accuracy: 0.2621\n",
            "Epoch 182/500\n",
            "120/120 [==============================] - 77s 644ms/step - loss: 1.8513 - accuracy: 0.4521 - val_loss: 3.3931 - val_accuracy: 0.2422\n",
            "Epoch 183/500\n",
            "120/120 [==============================] - 78s 652ms/step - loss: 1.7943 - accuracy: 0.4752 - val_loss: 3.3445 - val_accuracy: 0.2504\n",
            "Epoch 184/500\n",
            "120/120 [==============================] - 78s 646ms/step - loss: 1.7536 - accuracy: 0.4843 - val_loss: 3.2041 - val_accuracy: 0.2817\n",
            "Epoch 185/500\n",
            "120/120 [==============================] - 77s 645ms/step - loss: 1.7384 - accuracy: 0.4813 - val_loss: 657.5142 - val_accuracy: 0.2672\n",
            "Epoch 186/500\n",
            "120/120 [==============================] - 77s 646ms/step - loss: 1.7065 - accuracy: 0.4896 - val_loss: 3.2861 - val_accuracy: 0.2692\n",
            "Epoch 187/500\n",
            "120/120 [==============================] - 77s 640ms/step - loss: 1.7146 - accuracy: 0.4873 - val_loss: 3.4644 - val_accuracy: 0.2453\n",
            "Epoch 188/500\n",
            "120/120 [==============================] - 77s 643ms/step - loss: 1.7205 - accuracy: 0.4906 - val_loss: 3.2847 - val_accuracy: 0.2778\n",
            "Epoch 189/500\n",
            "120/120 [==============================] - 76s 637ms/step - loss: 1.6968 - accuracy: 0.4950 - val_loss: 3.1984 - val_accuracy: 0.2860\n",
            "Epoch 190/500\n",
            "120/120 [==============================] - 78s 653ms/step - loss: 1.6866 - accuracy: 0.4969 - val_loss: 3.3923 - val_accuracy: 0.2547\n",
            "Epoch 191/500\n",
            "120/120 [==============================] - 77s 645ms/step - loss: 1.6535 - accuracy: 0.5095 - val_loss: 108.5303 - val_accuracy: 0.2594\n",
            "Epoch 192/500\n",
            "120/120 [==============================] - 78s 651ms/step - loss: 1.6753 - accuracy: 0.5030 - val_loss: 3.5253 - val_accuracy: 0.2578\n",
            "Epoch 193/500\n",
            "120/120 [==============================] - 78s 648ms/step - loss: 1.7014 - accuracy: 0.4953 - val_loss: 3.2584 - val_accuracy: 0.2750\n",
            "Epoch 194/500\n",
            "120/120 [==============================] - 77s 642ms/step - loss: 1.6296 - accuracy: 0.5116 - val_loss: 3.8591 - val_accuracy: 0.2543\n",
            "Epoch 195/500\n",
            "120/120 [==============================] - 77s 643ms/step - loss: 1.6597 - accuracy: 0.5038 - val_loss: 3.4242 - val_accuracy: 0.2598\n",
            "Epoch 196/500\n",
            "120/120 [==============================] - 77s 645ms/step - loss: 1.6262 - accuracy: 0.5129 - val_loss: 3.5104 - val_accuracy: 0.2844\n",
            "Epoch 197/500\n",
            "120/120 [==============================] - 77s 640ms/step - loss: 1.5897 - accuracy: 0.5249 - val_loss: 60.8406 - val_accuracy: 0.2637\n",
            "Epoch 198/500\n",
            "120/120 [==============================] - 77s 639ms/step - loss: 1.5733 - accuracy: 0.5232 - val_loss: 60.2192 - val_accuracy: 0.2496\n",
            "Epoch 199/500\n",
            "120/120 [==============================] - 77s 639ms/step - loss: 1.5846 - accuracy: 0.5320 - val_loss: 3.5395 - val_accuracy: 0.2696\n",
            "Epoch 200/500\n",
            "120/120 [==============================] - 77s 642ms/step - loss: 1.5639 - accuracy: 0.5347 - val_loss: 3.4954 - val_accuracy: 0.2613\n",
            "Epoch 201/500\n",
            "120/120 [==============================] - 78s 650ms/step - loss: 1.5366 - accuracy: 0.5395 - val_loss: 3.6919 - val_accuracy: 0.2453\n",
            "Epoch 202/500\n",
            "120/120 [==============================] - 77s 643ms/step - loss: 1.5434 - accuracy: 0.5384 - val_loss: 16.9610 - val_accuracy: 0.2676\n",
            "Epoch 203/500\n",
            "120/120 [==============================] - 77s 641ms/step - loss: 1.4837 - accuracy: 0.5522 - val_loss: 87.9516 - val_accuracy: 0.2911\n",
            "Epoch 204/500\n",
            "120/120 [==============================] - 77s 643ms/step - loss: 1.5198 - accuracy: 0.5433 - val_loss: 101.8080 - val_accuracy: 0.2786\n",
            "Epoch 205/500\n",
            "120/120 [==============================] - 77s 645ms/step - loss: 1.4742 - accuracy: 0.5547 - val_loss: 6.8581 - val_accuracy: 0.2711\n",
            "Epoch 206/500\n",
            "120/120 [==============================] - 77s 644ms/step - loss: 1.4857 - accuracy: 0.5584 - val_loss: 148.5877 - val_accuracy: 0.2735\n",
            "Epoch 207/500\n",
            "120/120 [==============================] - 77s 643ms/step - loss: 1.4734 - accuracy: 0.5543 - val_loss: 84.8490 - val_accuracy: 0.2762\n",
            "Epoch 208/500\n",
            "120/120 [==============================] - 78s 653ms/step - loss: 1.4290 - accuracy: 0.5746 - val_loss: 594.3315 - val_accuracy: 0.2676\n",
            "Epoch 209/500\n",
            "120/120 [==============================] - 77s 644ms/step - loss: 1.4578 - accuracy: 0.5676 - val_loss: 4.3194 - val_accuracy: 0.2606\n",
            "Epoch 210/500\n",
            "120/120 [==============================] - 78s 648ms/step - loss: 1.4325 - accuracy: 0.5614 - val_loss: 3.4934 - val_accuracy: 0.2649\n",
            "Epoch 211/500\n",
            "120/120 [==============================] - 78s 647ms/step - loss: 1.4329 - accuracy: 0.5672 - val_loss: 3.4730 - val_accuracy: 0.2715\n",
            "Epoch 212/500\n",
            "120/120 [==============================] - 78s 647ms/step - loss: 1.3980 - accuracy: 0.5691 - val_loss: 174.6364 - val_accuracy: 0.2567\n",
            "Epoch 213/500\n",
            "120/120 [==============================] - 78s 653ms/step - loss: 1.3807 - accuracy: 0.5845 - val_loss: 3.5887 - val_accuracy: 0.2797\n",
            "Epoch 214/500\n",
            "120/120 [==============================] - 78s 653ms/step - loss: 1.3563 - accuracy: 0.5860 - val_loss: 3.6385 - val_accuracy: 0.2637\n",
            "Epoch 215/500\n",
            "120/120 [==============================] - 77s 645ms/step - loss: 1.8626 - accuracy: 0.4806 - val_loss: 4.7672 - val_accuracy: 0.2496\n",
            "Epoch 216/500\n",
            "120/120 [==============================] - 77s 645ms/step - loss: 1.4852 - accuracy: 0.5554 - val_loss: 3.4188 - val_accuracy: 0.2762\n",
            "Epoch 217/500\n",
            "120/120 [==============================] - 78s 651ms/step - loss: 1.3544 - accuracy: 0.5900 - val_loss: 3.7748 - val_accuracy: 0.2594\n",
            "Epoch 218/500\n",
            "120/120 [==============================] - 78s 651ms/step - loss: 1.3437 - accuracy: 0.5937 - val_loss: 3.4572 - val_accuracy: 0.2809\n",
            "Epoch 219/500\n",
            "120/120 [==============================] - 79s 656ms/step - loss: 1.3331 - accuracy: 0.5929 - val_loss: 4.3092 - val_accuracy: 0.2703\n",
            "Epoch 220/500\n",
            "120/120 [==============================] - 79s 657ms/step - loss: 1.3117 - accuracy: 0.6047 - val_loss: 3.5764 - val_accuracy: 0.2707\n",
            "Epoch 221/500\n",
            "120/120 [==============================] - 78s 653ms/step - loss: 1.7652 - accuracy: 0.5056 - val_loss: 3.3855 - val_accuracy: 0.2809\n",
            "Epoch 222/500\n",
            "120/120 [==============================] - 79s 658ms/step - loss: 1.4014 - accuracy: 0.5736 - val_loss: 3.3270 - val_accuracy: 0.2860\n",
            "Epoch 223/500\n",
            "120/120 [==============================] - 78s 653ms/step - loss: 1.3373 - accuracy: 0.5951 - val_loss: 3.5787 - val_accuracy: 0.2981\n",
            "Epoch 224/500\n",
            "120/120 [==============================] - 78s 650ms/step - loss: 1.2858 - accuracy: 0.6064 - val_loss: 3.5515 - val_accuracy: 0.2821\n",
            "Epoch 225/500\n",
            "120/120 [==============================] - 78s 648ms/step - loss: 1.2560 - accuracy: 0.6157 - val_loss: 3.7006 - val_accuracy: 0.2692\n",
            "Epoch 226/500\n",
            "120/120 [==============================] - 79s 655ms/step - loss: 1.2572 - accuracy: 0.6157 - val_loss: 3.5299 - val_accuracy: 0.2578\n",
            "Epoch 227/500\n",
            "120/120 [==============================] - 79s 656ms/step - loss: 1.2796 - accuracy: 0.6037 - val_loss: 3.8798 - val_accuracy: 0.2492\n",
            "Epoch 228/500\n",
            "120/120 [==============================] - 78s 653ms/step - loss: 1.2508 - accuracy: 0.6164 - val_loss: 3.4431 - val_accuracy: 0.2856\n",
            "Epoch 229/500\n",
            "120/120 [==============================] - 78s 651ms/step - loss: 1.1837 - accuracy: 0.6298 - val_loss: 3.7336 - val_accuracy: 0.3005\n",
            "Epoch 230/500\n",
            "120/120 [==============================] - 79s 658ms/step - loss: 1.1790 - accuracy: 0.6410 - val_loss: 4.0621 - val_accuracy: 0.2512\n",
            "Epoch 231/500\n",
            "120/120 [==============================] - 79s 657ms/step - loss: 1.2257 - accuracy: 0.6252 - val_loss: 4.4342 - val_accuracy: 0.2934\n",
            "Epoch 232/500\n",
            "120/120 [==============================] - 79s 660ms/step - loss: 1.1485 - accuracy: 0.6453 - val_loss: 3.8723 - val_accuracy: 0.2711\n",
            "Epoch 233/500\n",
            "120/120 [==============================] - 78s 652ms/step - loss: 1.1822 - accuracy: 0.6374 - val_loss: 13.2556 - val_accuracy: 0.2684\n",
            "Epoch 234/500\n",
            "120/120 [==============================] - 79s 661ms/step - loss: 1.1885 - accuracy: 0.6378 - val_loss: 61.9785 - val_accuracy: 0.2653\n",
            "Epoch 235/500\n",
            "120/120 [==============================] - 80s 664ms/step - loss: 1.1644 - accuracy: 0.6465 - val_loss: 3.4545 - val_accuracy: 0.2946\n",
            "Epoch 236/500\n",
            "120/120 [==============================] - 80s 666ms/step - loss: 1.1402 - accuracy: 0.6419 - val_loss: 3.7749 - val_accuracy: 0.2833\n",
            "Epoch 237/500\n",
            "120/120 [==============================] - 80s 663ms/step - loss: 1.1750 - accuracy: 0.6364 - val_loss: 4.6889 - val_accuracy: 0.2641\n",
            "Epoch 238/500\n",
            "120/120 [==============================] - 79s 656ms/step - loss: 1.1155 - accuracy: 0.6586 - val_loss: 7.0880 - val_accuracy: 0.3009\n",
            "Epoch 239/500\n",
            "120/120 [==============================] - 79s 659ms/step - loss: 1.0994 - accuracy: 0.6564 - val_loss: 11.0789 - val_accuracy: 0.2680\n",
            "Epoch 240/500\n",
            "120/120 [==============================] - 79s 659ms/step - loss: 1.1038 - accuracy: 0.6576 - val_loss: 19.9873 - val_accuracy: 0.2504\n",
            "Epoch 241/500\n",
            "120/120 [==============================] - 80s 666ms/step - loss: 1.1225 - accuracy: 0.6548 - val_loss: 3.6262 - val_accuracy: 0.2879\n",
            "Epoch 242/500\n",
            "120/120 [==============================] - 79s 661ms/step - loss: 1.0565 - accuracy: 0.6771 - val_loss: 1419.5081 - val_accuracy: 0.2801\n",
            "Epoch 243/500\n",
            "120/120 [==============================] - 81s 673ms/step - loss: 1.1646 - accuracy: 0.6418 - val_loss: 7762.1524 - val_accuracy: 0.2829\n",
            "Epoch 244/500\n",
            "120/120 [==============================] - 81s 672ms/step - loss: 1.0884 - accuracy: 0.6625 - val_loss: 497.3912 - val_accuracy: 0.2950\n",
            "Epoch 245/500\n",
            "120/120 [==============================] - 80s 670ms/step - loss: 1.0658 - accuracy: 0.6743 - val_loss: 3.5971 - val_accuracy: 0.2879\n",
            "Epoch 246/500\n",
            "120/120 [==============================] - 81s 675ms/step - loss: 1.0493 - accuracy: 0.6761 - val_loss: 3.6007 - val_accuracy: 0.2840\n",
            "Epoch 247/500\n",
            "120/120 [==============================] - 81s 674ms/step - loss: 1.0404 - accuracy: 0.6808 - val_loss: 3.4321 - val_accuracy: 0.3009\n",
            "Epoch 248/500\n",
            "120/120 [==============================] - 80s 667ms/step - loss: 1.0131 - accuracy: 0.6825 - val_loss: 3.7338 - val_accuracy: 0.2813\n",
            "Epoch 249/500\n",
            "120/120 [==============================] - 80s 667ms/step - loss: 0.9922 - accuracy: 0.6877 - val_loss: 5.9177 - val_accuracy: 0.3005\n",
            "Epoch 250/500\n",
            "120/120 [==============================] - 80s 668ms/step - loss: 1.0124 - accuracy: 0.6858 - val_loss: 5.6280 - val_accuracy: 0.2829\n",
            "Epoch 251/500\n",
            "120/120 [==============================] - 80s 669ms/step - loss: 1.0384 - accuracy: 0.6787 - val_loss: 4.9883 - val_accuracy: 0.3024\n",
            "Epoch 252/500\n",
            "120/120 [==============================] - 80s 665ms/step - loss: 0.9946 - accuracy: 0.6931 - val_loss: 4.5412 - val_accuracy: 0.2864\n",
            "Epoch 253/500\n",
            "120/120 [==============================] - 80s 668ms/step - loss: 1.0169 - accuracy: 0.6837 - val_loss: 3.5016 - val_accuracy: 0.2973\n",
            "Epoch 254/500\n",
            "120/120 [==============================] - 81s 675ms/step - loss: 1.0245 - accuracy: 0.6855 - val_loss: 3.7046 - val_accuracy: 0.2872\n",
            "Epoch 255/500\n",
            "120/120 [==============================] - 81s 678ms/step - loss: 0.9853 - accuracy: 0.7018 - val_loss: 3.8528 - val_accuracy: 0.2895\n",
            "Epoch 256/500\n",
            "120/120 [==============================] - 81s 671ms/step - loss: 0.9770 - accuracy: 0.6985 - val_loss: 3.7735 - val_accuracy: 0.2825\n",
            "Epoch 257/500\n",
            "120/120 [==============================] - 81s 676ms/step - loss: 0.9312 - accuracy: 0.7167 - val_loss: 3.8485 - val_accuracy: 0.2887\n",
            "Epoch 258/500\n",
            "120/120 [==============================] - 81s 672ms/step - loss: 0.9336 - accuracy: 0.7035 - val_loss: 4.6788 - val_accuracy: 0.2891\n",
            "Epoch 259/500\n",
            "120/120 [==============================] - 81s 672ms/step - loss: 0.9384 - accuracy: 0.7087 - val_loss: 3.7498 - val_accuracy: 0.2876\n",
            "Epoch 260/500\n",
            "120/120 [==============================] - 80s 668ms/step - loss: 0.9561 - accuracy: 0.7030 - val_loss: 3.6344 - val_accuracy: 0.2825\n",
            "Epoch 261/500\n",
            "120/120 [==============================] - 80s 667ms/step - loss: 0.9198 - accuracy: 0.7160 - val_loss: 3.8493 - val_accuracy: 0.3032\n",
            "Epoch 262/500\n",
            "120/120 [==============================] - 81s 676ms/step - loss: 0.9057 - accuracy: 0.7207 - val_loss: 3.8575 - val_accuracy: 0.2899\n",
            "Epoch 263/500\n",
            "120/120 [==============================] - 81s 674ms/step - loss: 0.8940 - accuracy: 0.7237 - val_loss: 4.0869 - val_accuracy: 0.2879\n",
            "Epoch 264/500\n",
            "120/120 [==============================] - 82s 681ms/step - loss: 0.8844 - accuracy: 0.7249 - val_loss: 3.7772 - val_accuracy: 0.2997\n",
            "Epoch 265/500\n",
            "120/120 [==============================] - 81s 674ms/step - loss: 0.8976 - accuracy: 0.7244 - val_loss: 3.7655 - val_accuracy: 0.2911\n",
            "Epoch 266/500\n",
            "120/120 [==============================] - 80s 670ms/step - loss: 0.8874 - accuracy: 0.7275 - val_loss: 4.0536 - val_accuracy: 0.2934\n",
            "Epoch 267/500\n",
            "120/120 [==============================] - 80s 664ms/step - loss: 0.9025 - accuracy: 0.7181 - val_loss: 3.8796 - val_accuracy: 0.2860\n",
            "Epoch 268/500\n",
            "120/120 [==============================] - 80s 666ms/step - loss: 0.8720 - accuracy: 0.7278 - val_loss: 3.6603 - val_accuracy: 0.3063\n",
            "Epoch 269/500\n",
            "120/120 [==============================] - 79s 659ms/step - loss: 0.8906 - accuracy: 0.7282 - val_loss: 3.8671 - val_accuracy: 0.2926\n",
            "Epoch 270/500\n",
            "120/120 [==============================] - 79s 657ms/step - loss: 0.8521 - accuracy: 0.7317 - val_loss: 3.8878 - val_accuracy: 0.2876\n",
            "Epoch 271/500\n",
            "120/120 [==============================] - 79s 657ms/step - loss: 0.8367 - accuracy: 0.7400 - val_loss: 4.1194 - val_accuracy: 0.2809\n",
            "Epoch 272/500\n",
            "120/120 [==============================] - 78s 653ms/step - loss: 0.8144 - accuracy: 0.7482 - val_loss: 3.7666 - val_accuracy: 0.2962\n",
            "Epoch 273/500\n",
            "120/120 [==============================] - 79s 655ms/step - loss: 0.8473 - accuracy: 0.7418 - val_loss: 4.0385 - val_accuracy: 0.2930\n",
            "Epoch 274/500\n",
            "120/120 [==============================] - 79s 658ms/step - loss: 0.8239 - accuracy: 0.7409 - val_loss: 3.9994 - val_accuracy: 0.3091\n",
            "Epoch 275/500\n",
            "120/120 [==============================] - 79s 655ms/step - loss: 0.8617 - accuracy: 0.7336 - val_loss: 4.0078 - val_accuracy: 0.2829\n",
            "Epoch 276/500\n",
            "120/120 [==============================] - 79s 661ms/step - loss: 0.8642 - accuracy: 0.7288 - val_loss: 3.8741 - val_accuracy: 0.2926\n",
            "Epoch 277/500\n",
            "120/120 [==============================] - 79s 659ms/step - loss: 0.8089 - accuracy: 0.7468 - val_loss: 3.8402 - val_accuracy: 0.2973\n",
            "Epoch 278/500\n",
            "120/120 [==============================] - 80s 667ms/step - loss: 0.7862 - accuracy: 0.7550 - val_loss: 4.0376 - val_accuracy: 0.2754\n",
            "Epoch 279/500\n",
            "120/120 [==============================] - 79s 662ms/step - loss: 0.9127 - accuracy: 0.7342 - val_loss: 6.3499 - val_accuracy: 0.2066\n",
            "Epoch 280/500\n",
            "120/120 [==============================] - 79s 658ms/step - loss: 1.2057 - accuracy: 0.6534 - val_loss: 3.7333 - val_accuracy: 0.2981\n",
            "Epoch 281/500\n",
            "120/120 [==============================] - 79s 657ms/step - loss: 0.8366 - accuracy: 0.7432 - val_loss: 3.7589 - val_accuracy: 0.3118\n",
            "Epoch 282/500\n",
            "120/120 [==============================] - 79s 659ms/step - loss: 0.8023 - accuracy: 0.7525 - val_loss: 6.7114 - val_accuracy: 0.2973\n",
            "Epoch 283/500\n",
            "120/120 [==============================] - 79s 658ms/step - loss: 0.7578 - accuracy: 0.7686 - val_loss: 3824.3660 - val_accuracy: 0.2911\n",
            "Epoch 284/500\n",
            "120/120 [==============================] - 80s 669ms/step - loss: 0.7398 - accuracy: 0.7724 - val_loss: 22.6678 - val_accuracy: 0.2797\n",
            "Epoch 285/500\n",
            "120/120 [==============================] - 80s 663ms/step - loss: 0.7565 - accuracy: 0.7666 - val_loss: 10695.5217 - val_accuracy: 0.2989\n",
            "Epoch 286/500\n",
            "120/120 [==============================] - 80s 665ms/step - loss: 0.7781 - accuracy: 0.7583 - val_loss: 4.2975 - val_accuracy: 0.2676\n",
            "Epoch 287/500\n",
            "120/120 [==============================] - 80s 665ms/step - loss: 0.7620 - accuracy: 0.7627 - val_loss: 2603.0642 - val_accuracy: 0.3071\n",
            "Epoch 288/500\n",
            "120/120 [==============================] - 81s 673ms/step - loss: 0.7467 - accuracy: 0.7681 - val_loss: 84586.3593 - val_accuracy: 0.2817\n",
            "Epoch 289/500\n",
            "120/120 [==============================] - 81s 672ms/step - loss: 0.7412 - accuracy: 0.7718 - val_loss: 4.5796 - val_accuracy: 0.2844\n",
            "Epoch 290/500\n",
            "120/120 [==============================] - 80s 668ms/step - loss: 0.8275 - accuracy: 0.7490 - val_loss: 4.0465 - val_accuracy: 0.2809\n",
            "Epoch 291/500\n",
            "120/120 [==============================] - 81s 672ms/step - loss: 0.7601 - accuracy: 0.7617 - val_loss: 4.1701 - val_accuracy: 0.2797\n",
            "Epoch 292/500\n",
            "120/120 [==============================] - 81s 676ms/step - loss: 0.7420 - accuracy: 0.7732 - val_loss: 3.9486 - val_accuracy: 0.2817\n",
            "Epoch 293/500\n",
            "120/120 [==============================] - 81s 678ms/step - loss: 0.7118 - accuracy: 0.7764 - val_loss: 3.8845 - val_accuracy: 0.2993\n",
            "Epoch 294/500\n",
            "120/120 [==============================] - 82s 679ms/step - loss: 0.7078 - accuracy: 0.7819 - val_loss: 3.9967 - val_accuracy: 0.2919\n",
            "Epoch 295/500\n",
            "120/120 [==============================] - 81s 678ms/step - loss: 0.6916 - accuracy: 0.7837 - val_loss: 4.0130 - val_accuracy: 0.3083\n",
            "Epoch 296/500\n",
            "120/120 [==============================] - 82s 681ms/step - loss: 0.6900 - accuracy: 0.7836 - val_loss: 4.0535 - val_accuracy: 0.2856\n",
            "Epoch 297/500\n",
            "120/120 [==============================] - 81s 677ms/step - loss: 0.7104 - accuracy: 0.7802 - val_loss: 3.7920 - val_accuracy: 0.3020\n",
            "Epoch 298/500\n",
            "120/120 [==============================] - 82s 685ms/step - loss: 0.6742 - accuracy: 0.7914 - val_loss: 771.7889 - val_accuracy: 0.3071\n",
            "Epoch 299/500\n",
            "120/120 [==============================] - 82s 686ms/step - loss: 0.6921 - accuracy: 0.7891 - val_loss: 3.8662 - val_accuracy: 0.2958\n",
            "Epoch 300/500\n",
            "120/120 [==============================] - 82s 685ms/step - loss: 0.6525 - accuracy: 0.7965 - val_loss: 3.8733 - val_accuracy: 0.3110\n",
            "Epoch 301/500\n",
            "120/120 [==============================] - 81s 676ms/step - loss: 0.6269 - accuracy: 0.8021 - val_loss: 4.0324 - val_accuracy: 0.2903\n",
            "Epoch 302/500\n",
            "120/120 [==============================] - 82s 685ms/step - loss: 0.6604 - accuracy: 0.7974 - val_loss: 28654.9043 - val_accuracy: 0.3122\n",
            "Epoch 303/500\n",
            "120/120 [==============================] - 82s 681ms/step - loss: 0.6792 - accuracy: 0.7938 - val_loss: 4.2145 - val_accuracy: 0.2942\n",
            "Epoch 304/500\n",
            "120/120 [==============================] - 81s 675ms/step - loss: 0.6881 - accuracy: 0.7925 - val_loss: 4.2927 - val_accuracy: 0.2840\n",
            "Epoch 305/500\n",
            "120/120 [==============================] - 81s 674ms/step - loss: 0.6826 - accuracy: 0.7921 - val_loss: 6.9739 - val_accuracy: 0.2774\n",
            "Epoch 306/500\n",
            "120/120 [==============================] - 81s 677ms/step - loss: 0.6655 - accuracy: 0.7929 - val_loss: 4.2502 - val_accuracy: 0.3067\n",
            "Epoch 307/500\n",
            "120/120 [==============================] - 80s 669ms/step - loss: 0.6270 - accuracy: 0.8060 - val_loss: 3.7563 - val_accuracy: 0.3181\n",
            "Epoch 308/500\n",
            "120/120 [==============================] - 81s 671ms/step - loss: 0.6544 - accuracy: 0.7945 - val_loss: 725.9681 - val_accuracy: 0.3149\n",
            "Epoch 309/500\n",
            "120/120 [==============================] - 79s 660ms/step - loss: 0.6144 - accuracy: 0.8107 - val_loss: 17091.5217 - val_accuracy: 0.3126\n",
            "Epoch 310/500\n",
            "120/120 [==============================] - 78s 650ms/step - loss: 0.6287 - accuracy: 0.8060 - val_loss: 9463.3066 - val_accuracy: 0.2891\n",
            "Epoch 311/500\n",
            "120/120 [==============================] - 79s 655ms/step - loss: 0.6128 - accuracy: 0.8045 - val_loss: 36077.9178 - val_accuracy: 0.3114\n",
            "Epoch 312/500\n",
            "120/120 [==============================] - 78s 651ms/step - loss: 0.5924 - accuracy: 0.8167 - val_loss: 3.9568 - val_accuracy: 0.3122\n",
            "Epoch 313/500\n",
            "120/120 [==============================] - 78s 649ms/step - loss: 0.6185 - accuracy: 0.8079 - val_loss: 3.8228 - val_accuracy: 0.3114\n",
            "Epoch 314/500\n",
            "120/120 [==============================] - 78s 648ms/step - loss: 0.6234 - accuracy: 0.8102 - val_loss: 11.7873 - val_accuracy: 0.3020\n",
            "Epoch 315/500\n",
            "120/120 [==============================] - 78s 650ms/step - loss: 0.6152 - accuracy: 0.8084 - val_loss: 40.2610 - val_accuracy: 0.2923\n",
            "Epoch 316/500\n",
            "120/120 [==============================] - 78s 650ms/step - loss: 0.5947 - accuracy: 0.8158 - val_loss: 7539.1661 - val_accuracy: 0.3169\n",
            "Epoch 317/500\n",
            "120/120 [==============================] - 79s 655ms/step - loss: 0.6113 - accuracy: 0.8109 - val_loss: 53.6060 - val_accuracy: 0.3044\n",
            "Epoch 318/500\n",
            "120/120 [==============================] - 78s 650ms/step - loss: 0.6028 - accuracy: 0.8182 - val_loss: 4.1865 - val_accuracy: 0.2919\n",
            "Epoch 319/500\n",
            "120/120 [==============================] - 77s 645ms/step - loss: 0.5708 - accuracy: 0.8236 - val_loss: 4.4408 - val_accuracy: 0.2723\n",
            "Epoch 320/500\n",
            "120/120 [==============================] - 78s 648ms/step - loss: 0.5787 - accuracy: 0.8223 - val_loss: 3.9201 - val_accuracy: 0.2985\n",
            "Epoch 321/500\n",
            "120/120 [==============================] - 79s 655ms/step - loss: 0.6279 - accuracy: 0.8111 - val_loss: 4.1903 - val_accuracy: 0.2985\n",
            "Epoch 322/500\n",
            "120/120 [==============================] - 78s 648ms/step - loss: 0.5974 - accuracy: 0.8146 - val_loss: 4.7047 - val_accuracy: 0.3114\n",
            "Epoch 323/500\n",
            "120/120 [==============================] - 77s 644ms/step - loss: 0.5731 - accuracy: 0.8296 - val_loss: 4.0030 - val_accuracy: 0.3146\n",
            "Epoch 324/500\n",
            "120/120 [==============================] - 78s 652ms/step - loss: 0.5574 - accuracy: 0.8281 - val_loss: 4.3014 - val_accuracy: 0.2977\n",
            "Epoch 325/500\n",
            "120/120 [==============================] - 78s 651ms/step - loss: 0.5637 - accuracy: 0.8236 - val_loss: 5.8280 - val_accuracy: 0.2966\n",
            "Epoch 326/500\n",
            "120/120 [==============================] - 79s 654ms/step - loss: 0.5832 - accuracy: 0.8167 - val_loss: 4.0592 - val_accuracy: 0.2915\n",
            "Epoch 327/500\n",
            "120/120 [==============================] - 78s 647ms/step - loss: 0.7519 - accuracy: 0.7779 - val_loss: 3.7093 - val_accuracy: 0.2969\n",
            "Epoch 328/500\n",
            "120/120 [==============================] - 78s 647ms/step - loss: 0.6715 - accuracy: 0.8026 - val_loss: 3.8162 - val_accuracy: 0.3267\n",
            "Epoch 329/500\n",
            "120/120 [==============================] - 78s 653ms/step - loss: 0.5386 - accuracy: 0.8274 - val_loss: 4.2742 - val_accuracy: 0.3067\n",
            "Epoch 330/500\n",
            "120/120 [==============================] - 78s 649ms/step - loss: 0.5436 - accuracy: 0.8356 - val_loss: 4.0082 - val_accuracy: 0.3005\n",
            "Epoch 331/500\n",
            "120/120 [==============================] - 78s 646ms/step - loss: 0.5344 - accuracy: 0.8306 - val_loss: 4816.4057 - val_accuracy: 0.3052\n",
            "Epoch 332/500\n",
            "120/120 [==============================] - 78s 651ms/step - loss: 0.5658 - accuracy: 0.8269 - val_loss: 4.1845 - val_accuracy: 0.2969\n",
            "Epoch 333/500\n",
            "120/120 [==============================] - 78s 651ms/step - loss: 0.5274 - accuracy: 0.8367 - val_loss: 4.2301 - val_accuracy: 0.3048\n",
            "Epoch 334/500\n",
            "120/120 [==============================] - 78s 651ms/step - loss: 0.5540 - accuracy: 0.8315 - val_loss: 1167.8408 - val_accuracy: 0.2891\n",
            "Epoch 335/500\n",
            "120/120 [==============================] - 78s 649ms/step - loss: 0.5337 - accuracy: 0.8300 - val_loss: 4.2893 - val_accuracy: 0.3032\n",
            "Epoch 336/500\n",
            "120/120 [==============================] - 78s 654ms/step - loss: 0.5042 - accuracy: 0.8394 - val_loss: 4.9388 - val_accuracy: 0.2989\n",
            "Epoch 337/500\n",
            "120/120 [==============================] - 79s 655ms/step - loss: 0.5368 - accuracy: 0.8402 - val_loss: 6.1472 - val_accuracy: 0.2876\n",
            "Epoch 338/500\n",
            "120/120 [==============================] - 77s 645ms/step - loss: 0.5266 - accuracy: 0.8401 - val_loss: 8.2498 - val_accuracy: 0.2876\n",
            "Epoch 339/500\n",
            "120/120 [==============================] - 78s 648ms/step - loss: 0.5008 - accuracy: 0.8482 - val_loss: 4.4596 - val_accuracy: 0.2758\n",
            "Epoch 340/500\n",
            "120/120 [==============================] - 77s 646ms/step - loss: 0.5086 - accuracy: 0.8452 - val_loss: 4.3259 - val_accuracy: 0.3056\n",
            "Epoch 341/500\n",
            "120/120 [==============================] - 78s 648ms/step - loss: 0.4888 - accuracy: 0.8491 - val_loss: 4.7028 - val_accuracy: 0.3075\n",
            "Epoch 342/500\n",
            "120/120 [==============================] - 78s 648ms/step - loss: 0.5376 - accuracy: 0.8372 - val_loss: 4.7467 - val_accuracy: 0.2664\n",
            "Epoch 343/500\n",
            "120/120 [==============================] - 78s 647ms/step - loss: 0.5281 - accuracy: 0.8390 - val_loss: 11449.5789 - val_accuracy: 0.3091\n",
            "Epoch 344/500\n",
            "120/120 [==============================] - 78s 647ms/step - loss: 0.4932 - accuracy: 0.8488 - val_loss: 4.6069 - val_accuracy: 0.2836\n",
            "Epoch 345/500\n",
            "120/120 [==============================] - 80s 668ms/step - loss: 0.5043 - accuracy: 0.8405 - val_loss: 4309.1858 - val_accuracy: 0.2887\n",
            "Epoch 346/500\n",
            "120/120 [==============================] - 80s 665ms/step - loss: 0.4851 - accuracy: 0.8479 - val_loss: 399054.7097 - val_accuracy: 0.2797\n",
            "Epoch 347/500\n",
            "120/120 [==============================] - 78s 653ms/step - loss: 0.5079 - accuracy: 0.8402 - val_loss: 9.0266 - val_accuracy: 0.2907\n",
            "Epoch 348/500\n",
            "120/120 [==============================] - 78s 653ms/step - loss: 0.5004 - accuracy: 0.8488 - val_loss: 12.6879 - val_accuracy: 0.3239\n",
            "Epoch 349/500\n",
            "120/120 [==============================] - 79s 656ms/step - loss: 0.5209 - accuracy: 0.8390 - val_loss: 158.9853 - val_accuracy: 0.3056\n",
            "Epoch 350/500\n",
            "120/120 [==============================] - 78s 650ms/step - loss: 0.4810 - accuracy: 0.8523 - val_loss: 17.2139 - val_accuracy: 0.3091\n",
            "Epoch 351/500\n",
            "120/120 [==============================] - 79s 654ms/step - loss: 0.5087 - accuracy: 0.8444 - val_loss: 12566.7084 - val_accuracy: 0.3036\n",
            "Epoch 352/500\n",
            "120/120 [==============================] - 79s 655ms/step - loss: 0.4966 - accuracy: 0.8493 - val_loss: 4.0813 - val_accuracy: 0.3048\n",
            "Epoch 353/500\n",
            "120/120 [==============================] - 79s 656ms/step - loss: 0.5109 - accuracy: 0.8415 - val_loss: 4.7042 - val_accuracy: 0.2981\n",
            "Epoch 354/500\n",
            "120/120 [==============================] - 78s 649ms/step - loss: 0.4852 - accuracy: 0.8487 - val_loss: 4.4036 - val_accuracy: 0.3181\n",
            "Epoch 355/500\n",
            "120/120 [==============================] - 78s 652ms/step - loss: 0.4661 - accuracy: 0.8568 - val_loss: 3.9749 - val_accuracy: 0.3114\n",
            "Epoch 356/500\n",
            "120/120 [==============================] - 78s 648ms/step - loss: 0.4791 - accuracy: 0.8547 - val_loss: 4.0512 - val_accuracy: 0.3169\n",
            "Epoch 357/500\n",
            "120/120 [==============================] - 78s 648ms/step - loss: 0.4593 - accuracy: 0.8626 - val_loss: 4.3845 - val_accuracy: 0.2840\n",
            "Epoch 358/500\n",
            "120/120 [==============================] - 77s 644ms/step - loss: 0.9770 - accuracy: 0.7405 - val_loss: 4.5481 - val_accuracy: 0.2829\n",
            "Epoch 359/500\n",
            "120/120 [==============================] - 78s 651ms/step - loss: 0.5710 - accuracy: 0.8289 - val_loss: 4.3772 - val_accuracy: 0.3087\n",
            "Epoch 360/500\n",
            "120/120 [==============================] - 77s 644ms/step - loss: 0.4854 - accuracy: 0.8512 - val_loss: 4.1566 - val_accuracy: 0.3259\n",
            "Epoch 361/500\n",
            "120/120 [==============================] - 78s 650ms/step - loss: 0.4987 - accuracy: 0.8499 - val_loss: 4.4407 - val_accuracy: 0.3173\n",
            "Epoch 362/500\n",
            "120/120 [==============================] - 78s 647ms/step - loss: 0.4431 - accuracy: 0.8630 - val_loss: 4.7644 - val_accuracy: 0.2774\n",
            "Epoch 363/500\n",
            "120/120 [==============================] - 78s 647ms/step - loss: 0.4642 - accuracy: 0.8555 - val_loss: 4.2753 - val_accuracy: 0.3020\n",
            "Epoch 364/500\n",
            "120/120 [==============================] - 78s 650ms/step - loss: 0.4349 - accuracy: 0.8658 - val_loss: 4.7474 - val_accuracy: 0.2962\n",
            "Epoch 365/500\n",
            "120/120 [==============================] - 78s 647ms/step - loss: 0.4259 - accuracy: 0.8705 - val_loss: 4.1761 - val_accuracy: 0.3200\n",
            "Epoch 366/500\n",
            "120/120 [==============================] - 78s 646ms/step - loss: 0.4110 - accuracy: 0.8714 - val_loss: 4.5515 - val_accuracy: 0.2973\n",
            "Epoch 367/500\n",
            "120/120 [==============================] - 78s 646ms/step - loss: 0.4056 - accuracy: 0.8723 - val_loss: 4.6271 - val_accuracy: 0.3036\n",
            "Epoch 368/500\n",
            "120/120 [==============================] - 78s 650ms/step - loss: 0.4438 - accuracy: 0.8639 - val_loss: 4.2680 - val_accuracy: 0.3130\n",
            "Epoch 369/500\n",
            "120/120 [==============================] - 78s 652ms/step - loss: 0.4318 - accuracy: 0.8662 - val_loss: 17910.1064 - val_accuracy: 0.3146\n",
            "Epoch 370/500\n",
            "120/120 [==============================] - 78s 647ms/step - loss: 0.4407 - accuracy: 0.8637 - val_loss: 7538.3139 - val_accuracy: 0.2997\n",
            "Epoch 371/500\n",
            "120/120 [==============================] - 77s 642ms/step - loss: 0.4203 - accuracy: 0.8720 - val_loss: 367.0244 - val_accuracy: 0.3130\n",
            "Epoch 372/500\n",
            "120/120 [==============================] - 77s 643ms/step - loss: 0.4999 - accuracy: 0.8483 - val_loss: 14601.2388 - val_accuracy: 0.3157\n",
            "Epoch 373/500\n",
            "120/120 [==============================] - 77s 644ms/step - loss: 0.4293 - accuracy: 0.8675 - val_loss: 4.3088 - val_accuracy: 0.3122\n",
            "Epoch 374/500\n",
            "120/120 [==============================] - 77s 641ms/step - loss: 0.4291 - accuracy: 0.8694 - val_loss: 4.0968 - val_accuracy: 0.2989\n",
            "Epoch 375/500\n",
            "120/120 [==============================] - 77s 646ms/step - loss: 0.4503 - accuracy: 0.8645 - val_loss: 4.8595 - val_accuracy: 0.3040\n",
            "Epoch 376/500\n",
            "120/120 [==============================] - 78s 649ms/step - loss: 0.4347 - accuracy: 0.8696 - val_loss: 4.3704 - val_accuracy: 0.3122\n",
            "Epoch 377/500\n",
            "120/120 [==============================] - 78s 649ms/step - loss: 0.3981 - accuracy: 0.8805 - val_loss: 4.1697 - val_accuracy: 0.3146\n",
            "Epoch 378/500\n",
            "120/120 [==============================] - 77s 645ms/step - loss: 0.4014 - accuracy: 0.8776 - val_loss: 4.5582 - val_accuracy: 0.3189\n",
            "Epoch 379/500\n",
            "120/120 [==============================] - 77s 642ms/step - loss: 0.4318 - accuracy: 0.8710 - val_loss: 4.3619 - val_accuracy: 0.3028\n",
            "Epoch 380/500\n",
            "120/120 [==============================] - 78s 648ms/step - loss: 0.4366 - accuracy: 0.8731 - val_loss: 4.2894 - val_accuracy: 0.3071\n",
            "Epoch 381/500\n",
            "120/120 [==============================] - 78s 649ms/step - loss: 0.4259 - accuracy: 0.8681 - val_loss: 4.2152 - val_accuracy: 0.3329\n",
            "Epoch 382/500\n",
            "120/120 [==============================] - 77s 639ms/step - loss: 0.4152 - accuracy: 0.8757 - val_loss: 4.4678 - val_accuracy: 0.3196\n",
            "Epoch 383/500\n",
            "120/120 [==============================] - 77s 645ms/step - loss: 0.3804 - accuracy: 0.8844 - val_loss: 4.2377 - val_accuracy: 0.3196\n",
            "Epoch 384/500\n",
            "120/120 [==============================] - 77s 639ms/step - loss: 0.4428 - accuracy: 0.8688 - val_loss: 4842.0403 - val_accuracy: 0.3345\n",
            "Epoch 385/500\n",
            "120/120 [==============================] - 77s 642ms/step - loss: 0.4154 - accuracy: 0.8748 - val_loss: 4.3938 - val_accuracy: 0.3118\n",
            "Epoch 386/500\n",
            "120/120 [==============================] - 77s 640ms/step - loss: 0.4060 - accuracy: 0.8742 - val_loss: 4.0173 - val_accuracy: 0.3185\n",
            "Epoch 387/500\n",
            "120/120 [==============================] - 77s 645ms/step - loss: 0.4002 - accuracy: 0.8780 - val_loss: 4.5580 - val_accuracy: 0.3185\n",
            "Epoch 388/500\n",
            "120/120 [==============================] - 78s 649ms/step - loss: 0.4332 - accuracy: 0.8720 - val_loss: 4.9428 - val_accuracy: 0.2703\n",
            "Epoch 389/500\n",
            "120/120 [==============================] - 78s 647ms/step - loss: 0.3781 - accuracy: 0.8813 - val_loss: 4.6301 - val_accuracy: 0.2938\n",
            "Epoch 390/500\n",
            "120/120 [==============================] - 77s 639ms/step - loss: 0.4307 - accuracy: 0.8718 - val_loss: 4.3254 - val_accuracy: 0.3306\n",
            "Epoch 391/500\n",
            "120/120 [==============================] - 77s 640ms/step - loss: 0.3820 - accuracy: 0.8839 - val_loss: 119152.7696 - val_accuracy: 0.3032\n",
            "Epoch 392/500\n",
            "120/120 [==============================] - 77s 645ms/step - loss: 0.3933 - accuracy: 0.8801 - val_loss: 6.2922 - val_accuracy: 0.2930\n",
            "Epoch 393/500\n",
            "120/120 [==============================] - 77s 644ms/step - loss: 0.3867 - accuracy: 0.8831 - val_loss: 12.1971 - val_accuracy: 0.3181\n",
            "Epoch 394/500\n",
            "120/120 [==============================] - 78s 646ms/step - loss: 0.3922 - accuracy: 0.8818 - val_loss: 8.5536 - val_accuracy: 0.3048\n",
            "Epoch 395/500\n",
            "120/120 [==============================] - 78s 647ms/step - loss: 0.4017 - accuracy: 0.8780 - val_loss: 18.6307 - val_accuracy: 0.3048\n",
            "Epoch 396/500\n",
            "120/120 [==============================] - 78s 652ms/step - loss: 0.4403 - accuracy: 0.8682 - val_loss: 107743.3753 - val_accuracy: 0.3099\n",
            "Epoch 397/500\n",
            "120/120 [==============================] - 79s 661ms/step - loss: 0.4055 - accuracy: 0.8791 - val_loss: 4.3456 - val_accuracy: 0.3255\n",
            "Epoch 398/500\n",
            "120/120 [==============================] - 79s 660ms/step - loss: 0.4179 - accuracy: 0.8740 - val_loss: 19.9470 - val_accuracy: 0.3075\n",
            "Epoch 399/500\n",
            "120/120 [==============================] - 78s 650ms/step - loss: 0.3933 - accuracy: 0.8796 - val_loss: 327433.5072 - val_accuracy: 0.3267\n",
            "Epoch 400/500\n",
            "120/120 [==============================] - 78s 646ms/step - loss: 0.3839 - accuracy: 0.8844 - val_loss: 4.6196 - val_accuracy: 0.2926\n",
            "Epoch 401/500\n",
            "120/120 [==============================] - 78s 653ms/step - loss: 0.3703 - accuracy: 0.8878 - val_loss: 17095.5390 - val_accuracy: 0.3298\n",
            "Epoch 402/500\n",
            "120/120 [==============================] - 77s 643ms/step - loss: 0.3794 - accuracy: 0.8890 - val_loss: 229380.0650 - val_accuracy: 0.3083\n",
            "Epoch 403/500\n",
            "120/120 [==============================] - 77s 641ms/step - loss: 0.4034 - accuracy: 0.8810 - val_loss: 75606.8718 - val_accuracy: 0.3208\n",
            "Epoch 404/500\n",
            "120/120 [==============================] - 77s 642ms/step - loss: 0.3730 - accuracy: 0.8860 - val_loss: 97793.9321 - val_accuracy: 0.2915\n",
            "Epoch 405/500\n",
            "120/120 [==============================] - 76s 637ms/step - loss: 0.3710 - accuracy: 0.8869 - val_loss: 5.9590 - val_accuracy: 0.3083\n",
            "Epoch 406/500\n",
            "120/120 [==============================] - 77s 640ms/step - loss: 0.3705 - accuracy: 0.8896 - val_loss: 22111.2270 - val_accuracy: 0.3106\n",
            "Epoch 407/500\n",
            "120/120 [==============================] - 77s 642ms/step - loss: 0.3514 - accuracy: 0.8920 - val_loss: 16777.9751 - val_accuracy: 0.3106\n",
            "Epoch 408/500\n",
            "120/120 [==============================] - 78s 647ms/step - loss: 0.3886 - accuracy: 0.8818 - val_loss: 13485.7000 - val_accuracy: 0.2821\n",
            "Epoch 409/500\n",
            "120/120 [==============================] - 78s 647ms/step - loss: 0.3561 - accuracy: 0.8934 - val_loss: 114.6822 - val_accuracy: 0.3204\n",
            "Epoch 410/500\n",
            "120/120 [==============================] - 77s 643ms/step - loss: 0.3550 - accuracy: 0.8929 - val_loss: 562243.2457 - val_accuracy: 0.3146\n",
            "Epoch 411/500\n",
            "120/120 [==============================] - 77s 639ms/step - loss: 0.3786 - accuracy: 0.8844 - val_loss: 219647.8221 - val_accuracy: 0.2969\n",
            "Epoch 412/500\n",
            "120/120 [==============================] - 77s 642ms/step - loss: 0.3681 - accuracy: 0.8876 - val_loss: 709913.0254 - val_accuracy: 0.2993\n",
            "Epoch 413/500\n",
            "120/120 [==============================] - 76s 637ms/step - loss: 0.3686 - accuracy: 0.8896 - val_loss: 156082.9387 - val_accuracy: 0.3028\n",
            "Epoch 414/500\n",
            "120/120 [==============================] - 77s 640ms/step - loss: 0.3729 - accuracy: 0.8889 - val_loss: 1414.6168 - val_accuracy: 0.3212\n",
            "Epoch 415/500\n",
            "120/120 [==============================] - 76s 637ms/step - loss: 0.3524 - accuracy: 0.8943 - val_loss: 45534.3539 - val_accuracy: 0.3157\n",
            "Epoch 416/500\n",
            "120/120 [==============================] - 77s 640ms/step - loss: 0.3404 - accuracy: 0.9037 - val_loss: 7.3645 - val_accuracy: 0.3095\n",
            "Epoch 417/500\n",
            "120/120 [==============================] - 77s 640ms/step - loss: 0.3630 - accuracy: 0.8906 - val_loss: 91861.4784 - val_accuracy: 0.3282\n",
            "Epoch 418/500\n",
            "120/120 [==============================] - 77s 638ms/step - loss: 0.3764 - accuracy: 0.8865 - val_loss: 4.6026 - val_accuracy: 0.3271\n",
            "Epoch 419/500\n",
            " 44/120 [==========>...................] - ETA: 45s - loss: 0.3175 - accuracy: 0.9034"
          ],
          "name": "stdout"
        }
      ]
    },
    {
      "cell_type": "markdown",
      "metadata": {
        "id": "HhjiintV1_zu",
        "colab_type": "text"
      },
      "source": [
        ""
      ]
    }
  ]
}